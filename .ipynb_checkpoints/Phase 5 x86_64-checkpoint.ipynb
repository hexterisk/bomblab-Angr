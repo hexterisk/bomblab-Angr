{
 "cells": [
  {
   "cell_type": "markdown",
   "metadata": {},
   "source": [
    "# x86_64: Phase 5"
   ]
  },
  {
   "cell_type": "code",
   "execution_count": 1,
   "metadata": {},
   "outputs": [],
   "source": [
    "# Imports\n",
    "\n",
    "import angr\n",
    "import claripy"
   ]
  },
  {
   "cell_type": "markdown",
   "metadata": {},
   "source": [
    "We push the input values to the stack and then pop them right before the function exits. Since no value is pushed onto the stack during the execution of the function, we can safely manipulate the stack in the way we planned."
   ]
  },
  {
   "cell_type": "markdown",
   "metadata": {},
   "source": [
    "Load the binary."
   ]
  },
  {
   "cell_type": "code",
   "execution_count": 2,
   "metadata": {},
   "outputs": [],
   "source": [
    "project = angr.Project('bomb64')"
   ]
  },
  {
   "cell_type": "markdown",
   "metadata": {},
   "source": [
    "Define the address for the start of the execution path."
   ]
  },
  {
   "cell_type": "code",
   "execution_count": 3,
   "metadata": {},
   "outputs": [],
   "source": [
    "# The address where the symbolic execution shall begin. It is the beginning of the phase_5 function.\n",
    "addr_start = 0x401062\n",
    "\n",
    "# The address of the return block of phase_5.\n",
    "addr_target = 0x4010D9\n",
    "\n",
    "# The address of the first instruction of the explode_bomb function, which is to be avoided.\n",
    "addr_bomb = 0x40143A"
   ]
  },
  {
   "cell_type": "markdown",
   "metadata": {},
   "source": [
    "Define a blank state for the simulation, a state with most of it's data uninitialized. Pass the address where the state is initialized, along with the user input to be given via standard input."
   ]
  },
  {
   "cell_type": "code",
   "execution_count": 4,
   "metadata": {},
   "outputs": [],
   "source": [
    "state = project.factory.blank_state(addr=addr_start)"
   ]
  },
  {
   "cell_type": "markdown",
   "metadata": {},
   "source": [
    "Move a symbolic value into the relevant register."
   ]
  },
  {
   "cell_type": "code",
   "execution_count": 5,
   "metadata": {},
   "outputs": [],
   "source": [
    "# A BitVectorSymbol is declared of max allowed lenght of 6 characters * 8 bits.\n",
    "# Length of input in restricted at 6.\n",
    "user_input = claripy.BVS('user_input', 8 * 6)"
   ]
  },
  {
   "cell_type": "markdown",
   "metadata": {},
   "source": [
    "Store the string in the memory and then save it's address in the register so as to pass it as a parameter."
   ]
  },
  {
   "cell_type": "code",
   "execution_count": 6,
   "metadata": {},
   "outputs": [],
   "source": [
    "state.memory.store(0x6038c0, user_input)\n",
    "state.regs.rdi = 0x6038c0"
   ]
  },
  {
   "cell_type": "markdown",
   "metadata": {},
   "source": [
    "Create a simulation manager with this blank state that would help us manage the symbolic execution."
   ]
  },
  {
   "cell_type": "code",
   "execution_count": 7,
   "metadata": {},
   "outputs": [],
   "source": [
    "simgr = project.factory.simulation_manager(state)"
   ]
  },
  {
   "cell_type": "markdown",
   "metadata": {},
   "source": [
    "We call the explore method of the simulation manager, tasked with finding an execution path that reaches the target address and avoids the address which explodes the bomb."
   ]
  },
  {
   "cell_type": "code",
   "execution_count": 8,
   "metadata": {
    "scrolled": true
   },
   "outputs": [
    {
     "name": "stderr",
     "output_type": "stream",
     "text": [
      "WARNING | 2020-06-15 04:14:15,241 | \u001b[32mangr.state_plugins.symbolic_memory\u001b[0m | \u001b[32mThe program is accessing memory or registers with an unspecified value. This could indicate unwanted behavior.\u001b[0m\n",
      "WARNING | 2020-06-15 04:14:15,242 | \u001b[32mangr.state_plugins.symbolic_memory\u001b[0m | \u001b[32mangr will cope with this by generating an unconstrained symbolic variable and continuing. You can resolve this by:\u001b[0m\n",
      "WARNING | 2020-06-15 04:14:15,243 | \u001b[32mangr.state_plugins.symbolic_memory\u001b[0m | \u001b[32m1) setting a value to the initial state\u001b[0m\n",
      "WARNING | 2020-06-15 04:14:15,246 | \u001b[32mangr.state_plugins.symbolic_memory\u001b[0m | \u001b[32m2) adding the state option ZERO_FILL_UNCONSTRAINED_{MEMORY,REGISTERS}, to make unknown regions hold null\u001b[0m\n",
      "WARNING | 2020-06-15 04:14:15,246 | \u001b[32mangr.state_plugins.symbolic_memory\u001b[0m | \u001b[32m3) adding the state option SYMBOL_FILL_UNCONSTRAINED_{MEMORY_REGISTERS}, to suppress these messages.\u001b[0m\n",
      "WARNING | 2020-06-15 04:14:15,247 | \u001b[32mangr.state_plugins.symbolic_memory\u001b[0m | \u001b[32mFilling register rbx with 8 unconstrained bytes referenced from 0x401062 (phase_5+0x0 in bomb64 (0x401062))\u001b[0m\n",
      "WARNING | 2020-06-15 04:14:15,904 | \u001b[32mangr.state_plugins.symbolic_memory\u001b[0m | \u001b[32mFilling memory at 0x7fffffffffeffd1 with 7 unconstrained bytes referenced from 0x401092 (phase_5+0x30 in bomb64 (0x401092))\u001b[0m\n",
      "WARNING | 2020-06-15 04:14:17,126 | \u001b[32mangr.state_plugins.symbolic_memory\u001b[0m | \u001b[32mFilling register r12 with 8 unconstrained bytes referenced from 0x401338 (strings_not_equal+0x0 in bomb64 (0x401338))\u001b[0m\n",
      "WARNING | 2020-06-15 04:14:17,129 | \u001b[32mangr.state_plugins.symbolic_memory\u001b[0m | \u001b[32mFilling register rbp with 8 unconstrained bytes referenced from 0x40133a (strings_not_equal+0x2 in bomb64 (0x40133a))\u001b[0m\n"
     ]
    },
    {
     "data": {
      "text/plain": [
       "<SimulationManager with 1 found, 12 avoid>"
      ]
     },
     "execution_count": 8,
     "metadata": {},
     "output_type": "execute_result"
    }
   ],
   "source": [
    "simgr.explore(find=addr_target, avoid=addr_bomb, enable_veritesting=True)"
   ]
  },
  {
   "cell_type": "markdown",
   "metadata": {},
   "source": [
    "We dereference the execution path \"found\" by the simulation manager and dump the stack."
   ]
  },
  {
   "cell_type": "code",
   "execution_count": 9,
   "metadata": {},
   "outputs": [],
   "source": [
    "found = simgr.found[0]"
   ]
  },
  {
   "cell_type": "code",
   "execution_count": 10,
   "metadata": {},
   "outputs": [
    {
     "data": {
      "text/plain": [
       "b'\\t\\x0f\\x0e\\x05\\x06\\x07'"
      ]
     },
     "execution_count": 10,
     "metadata": {},
     "output_type": "execute_result"
    }
   ],
   "source": [
    "found.solver.eval(user_input, cast_to=bytes)"
   ]
  },
  {
   "cell_type": "markdown",
   "metadata": {},
   "source": [
    "Angr gets us the bare essential required to reach the target address. Since the ```and``` operation was being done on the lower nibble only, Angr got us the values required for the lower nibble. Adding a ```0x40``` to all the bytes to convert it into an ASCII form so it could be given as an input by the user:"
   ]
  },
  {
   "cell_type": "code",
   "execution_count": 1,
   "metadata": {},
   "outputs": [
    {
     "data": {
      "text/plain": [
       "'IONEFG'"
      ]
     },
     "execution_count": 1,
     "metadata": {},
     "output_type": "execute_result"
    }
   ],
   "source": [
    "chr(0x49)+chr(0x4f)+chr(0x4e)+chr(0x45)+chr(0x46)+chr(0x47)"
   ]
  },
  {
   "cell_type": "markdown",
   "metadata": {},
   "source": [
    "And that's the string we have to give as input to pass the fifth phase."
   ]
  }
 ],
 "metadata": {
  "kernelspec": {
   "display_name": "Python 3",
   "language": "python",
   "name": "python3"
  },
  "language_info": {
   "codemirror_mode": {
    "name": "ipython",
    "version": 3
   },
   "file_extension": ".py",
   "mimetype": "text/x-python",
   "name": "python",
   "nbconvert_exporter": "python",
   "pygments_lexer": "ipython3",
   "version": "3.8.3"
  }
 },
 "nbformat": 4,
 "nbformat_minor": 4
}
