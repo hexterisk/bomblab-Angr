{
 "cells": [
  {
   "cell_type": "markdown",
   "metadata": {},
   "source": [
    "## x86_64: Phase 6"
   ]
  },
  {
   "cell_type": "code",
   "execution_count": 1,
   "metadata": {},
   "outputs": [],
   "source": [
    "# Imports\n",
    "\n",
    "import angr\n",
    "import claripy"
   ]
  },
  {
   "cell_type": "markdown",
   "metadata": {},
   "source": [
    "We push the input values to the stack and then pop them right before the function exits. Since no value is pushed onto the stack during the execution of the function, we can safely manipulate the stack in the way we planned."
   ]
  },
  {
   "cell_type": "markdown",
   "metadata": {},
   "source": [
    "Load the binary."
   ]
  },
  {
   "cell_type": "code",
   "execution_count": 2,
   "metadata": {},
   "outputs": [],
   "source": [
    "project = angr.Project('bomb64')"
   ]
  },
  {
   "cell_type": "markdown",
   "metadata": {},
   "source": [
    "Define the address for the start of the execution path."
   ]
  },
  {
   "cell_type": "code",
   "execution_count": 3,
   "metadata": {},
   "outputs": [],
   "source": [
    "# The address where the symbolic execution shall begin. It is the beginning of the phase_6 function.\n",
    "addr_start = 0x40110B\n",
    "\n",
    "# The address of the return of phase_6.\n",
    "# We end it there so as to dump the stack and retrieve values before the stack frame is discarded.\n",
    "addr_target = 0x4011F7\n",
    "\n",
    "# The address of the first instruction of the explode_bomb function, which is to be avoided.\n",
    "addr_bomb = 0x40143A"
   ]
  },
  {
   "cell_type": "markdown",
   "metadata": {},
   "source": [
    "Define a blank state for the simulation, a state with most of it's data uninitialized. Pass the address where the state is initialized, along with the user input to be given via standard input."
   ]
  },
  {
   "cell_type": "code",
   "execution_count": 4,
   "metadata": {},
   "outputs": [],
   "source": [
    "state = project.factory.blank_state(addr=addr_start)"
   ]
  },
  {
   "cell_type": "markdown",
   "metadata": {},
   "source": [
    "Push the symbolic values to be input on the stack."
   ]
  },
  {
   "cell_type": "code",
   "execution_count": 5,
   "metadata": {},
   "outputs": [],
   "source": [
    "# From the stack trace show in the picture in the blog,\n",
    "# we know that the function allocates 4bytes per value and merges two in memory.\n",
    "# => For values entered to be 1, 2, 4 and 8,\n",
    "# Stack representation: 0x200000001\n",
    "#                       0x800000004\n",
    "# Thus, for 4 input values, two values appear on the stack.\n",
    "\n",
    "# Therefore, \n",
    "# Thus, we push three symbolic values which will appear on the stack for six values as input.\n",
    "\n",
    "num = []\n",
    "\n",
    "for i in range(3):\n",
    "    num.append(claripy.BVS(\"num_{}\".format(i), 32))\n",
    "\n",
    "for i in range(3):\n",
    "    state.stack_push(num[i])"
   ]
  },
  {
   "cell_type": "markdown",
   "metadata": {},
   "source": [
    "Setup the registers according to the disassembly."
   ]
  },
  {
   "cell_type": "code",
   "execution_count": 6,
   "metadata": {},
   "outputs": [],
   "source": [
    "state.regs.r13 = state.regs.rsp"
   ]
  },
  {
   "cell_type": "markdown",
   "metadata": {},
   "source": [
    "Create a simulation manager with this blank state that would help us manage the symbolic execution."
   ]
  },
  {
   "cell_type": "code",
   "execution_count": 7,
   "metadata": {},
   "outputs": [],
   "source": [
    "simgr = project.factory.simulation_manager(state)"
   ]
  },
  {
   "cell_type": "markdown",
   "metadata": {},
   "source": [
    "We call the explore method of the simulation manager, tasked with finding an execution path that reaches the target address and avoids the address which explodes the bomb."
   ]
  },
  {
   "cell_type": "code",
   "execution_count": 8,
   "metadata": {
    "scrolled": true
   },
   "outputs": [
    {
     "name": "stderr",
     "output_type": "stream",
     "text": [
      "WARNING | 2020-06-16 03:33:00,839 | \u001b[32mangr.state_plugins.symbolic_memory\u001b[0m | \u001b[32mThe program is accessing memory or registers with an unspecified value. This could indicate unwanted behavior.\u001b[0m\n",
      "WARNING | 2020-06-16 03:33:00,839 | \u001b[32mangr.state_plugins.symbolic_memory\u001b[0m | \u001b[32mangr will cope with this by generating an unconstrained symbolic variable and continuing. You can resolve this by:\u001b[0m\n",
      "WARNING | 2020-06-16 03:33:00,840 | \u001b[32mangr.state_plugins.symbolic_memory\u001b[0m | \u001b[32m1) setting a value to the initial state\u001b[0m\n",
      "WARNING | 2020-06-16 03:33:00,840 | \u001b[32mangr.state_plugins.symbolic_memory\u001b[0m | \u001b[32m2) adding the state option ZERO_FILL_UNCONSTRAINED_{MEMORY,REGISTERS}, to make unknown regions hold null\u001b[0m\n",
      "WARNING | 2020-06-16 03:33:00,840 | \u001b[32mangr.state_plugins.symbolic_memory\u001b[0m | \u001b[32m3) adding the state option SYMBOL_FILL_UNCONSTRAINED_{MEMORY_REGISTERS}, to suppress these messages.\u001b[0m\n",
      "WARNING | 2020-06-16 03:33:00,841 | \u001b[32mangr.state_plugins.symbolic_memory\u001b[0m | \u001b[32mFilling memory at 0x7fffffffffeffe4 with 4 unconstrained bytes referenced from 0x401138 (phase_6+0x44 in bomb64 (0x401138))\u001b[0m\n",
      "WARNING | 2020-06-16 03:33:00,969 | \u001b[32mangr.state_plugins.symbolic_memory\u001b[0m | \u001b[32mFilling memory at 0x7fffffffffeffec with 4 unconstrained bytes referenced from 0x401138 (phase_6+0x44 in bomb64 (0x401138))\u001b[0m\n",
      "WARNING | 2020-06-16 03:33:01,080 | \u001b[32mangr.state_plugins.symbolic_memory\u001b[0m | \u001b[32mFilling memory at 0x7fffffffffefff4 with 4 unconstrained bytes referenced from 0x401138 (phase_6+0x44 in bomb64 (0x401138))\u001b[0m\n"
     ]
    },
    {
     "data": {
      "text/plain": [
       "<SimulationManager with 1 found, 740 avoid>"
      ]
     },
     "execution_count": 8,
     "metadata": {},
     "output_type": "execute_result"
    }
   ],
   "source": [
    "simgr.explore(find=addr_target, avoid=addr_bomb, enable_veritesting=True)"
   ]
  },
  {
   "cell_type": "markdown",
   "metadata": {},
   "source": [
    "We dereference the execution path \"found\" by the simulation manager and dump the stack."
   ]
  },
  {
   "cell_type": "code",
   "execution_count": 9,
   "metadata": {},
   "outputs": [],
   "source": [
    "found = simgr.found[0]"
   ]
  },
  {
   "cell_type": "markdown",
   "metadata": {},
   "source": [
    "We make the necessary changes in order to yield the correct output."
   ]
  },
  {
   "cell_type": "code",
   "execution_count": 10,
   "metadata": {},
   "outputs": [
    {
     "name": "stdout",
     "output_type": "stream",
     "text": [
      "Popped value: 0x400000003\n",
      "Decimal number on the lower end: 3\n",
      "Decimal number on the higher end: 4\n",
      "\n",
      "Popped value: 0x600000005\n",
      "Decimal number on the lower end: 5\n",
      "Decimal number on the higher end: 6\n",
      "\n",
      "Popped value: 0x200000001\n",
      "Decimal number on the lower end: 1\n",
      "Decimal number on the higher end: 2\n",
      "\n"
     ]
    },
    {
     "data": {
      "text/plain": [
       "'3 4 5 6 1 2'"
      ]
     },
     "execution_count": 10,
     "metadata": {},
     "output_type": "execute_result"
    }
   ],
   "source": [
    "answer = []\n",
    "\n",
    "# Only 3 iterations since when we pushed the input,\n",
    "# the values were merged in a way that two numbers were in the same block,\n",
    "# at the end and the beginning.\n",
    "# This can be seen when each popped value is printed.\n",
    "for i in range(3):\n",
    "    curr = found.solver.eval(found.stack_pop())\n",
    "    print(\"Popped value: {0}\".format(hex(curr)))\n",
    "    \n",
    "    # Masking is done using bit-wise operators to split the values merged in the block.\n",
    "    lower_end = curr & 0xffffffff\n",
    "    print(\"Decimal number on the lower end: {0}\".format(lower_end))\n",
    "    answer.append(str(lower_end))\n",
    "    higher_end = curr>>32 & 0xffffffff\n",
    "    answer.append(' ')\n",
    "    print(\"Decimal number on the higher end: {0}\\n\".format(higher_end))\n",
    "    answer.append(str(higher_end))\n",
    "    answer.append(' ')\n",
    "\n",
    "# Removes the space in the end.\n",
    "answer = ''.join(answer[:-1])\n",
    "answer"
   ]
  },
  {
   "cell_type": "markdown",
   "metadata": {},
   "source": [
    "Reversing the manipulations to get the final, correct sequence of values that we need to provide as input."
   ]
  },
  {
   "cell_type": "code",
   "execution_count": 11,
   "metadata": {},
   "outputs": [
    {
     "data": {
      "text/plain": [
       "'4 3 2 1 6 5'"
      ]
     },
     "execution_count": 11,
     "metadata": {},
     "output_type": "execute_result"
    }
   ],
   "source": [
    "result = [7-int(i) for i in answer.split() if i.isdigit()]\n",
    "\n",
    "final_answer = \"\"\n",
    "for num in result:\n",
    "    final_answer += str(num) + ' '\n",
    "\n",
    "final_answer[:-1]"
   ]
  },
  {
   "cell_type": "markdown",
   "metadata": {},
   "source": [
    "Voilà! Yet again, there's the input we need to give to pass the sixth phase."
   ]
  },
  {
   "cell_type": "markdown",
   "metadata": {},
   "source": [
    "# Alternate Approach"
   ]
  },
  {
   "cell_type": "markdown",
   "metadata": {},
   "source": [
    "Do the precursors."
   ]
  },
  {
   "cell_type": "code",
   "execution_count": 12,
   "metadata": {},
   "outputs": [],
   "source": [
    "# Load the binary.\n",
    "project = angr.Project('bomb64')\n",
    "\n",
    "# Init the addresses.\n",
    "# The address is the beginning of the phase_6 function.\n",
    "addr_start = 0x4010F4\n",
    "addr_target = 0x4011F7\n",
    "addr_bomb = 0x40143A\n",
    "\n",
    "# Init a blank state.\n",
    "state = project.factory.blank_state(addr=addr_start)"
   ]
  },
  {
   "cell_type": "markdown",
   "metadata": {},
   "source": [
    "Define a hook to successfully return the read_six_numbers function."
   ]
  },
  {
   "cell_type": "code",
   "execution_count": 13,
   "metadata": {},
   "outputs": [],
   "source": [
    "# The address of the function that maps the integers to their appropriate locations in memory.\n",
    "read_six_numbers = 0x040145C\n",
    "\n",
    "# Hook read_six_numbers function with a stub as we will write our numbers directly to memory.\n",
    "stub_func = angr.SIM_PROCEDURES['stubs']['ReturnUnconstrained']\n",
    "project.hook(read_six_numbers, stub_func())"
   ]
  },
  {
   "cell_type": "markdown",
   "metadata": {},
   "source": [
    "This time we hope to directly write to the memory instead of pushing the values to the stack."
   ]
  },
  {
   "cell_type": "code",
   "execution_count": 14,
   "metadata": {},
   "outputs": [],
   "source": [
    "# The address of the array of numbers in the memory.\n",
    "numbers_array = 0x00007fffffffdf00\n",
    "\n",
    "# Symbolic values instantiated and loaded in an array.\n",
    "numbers = [state.solver.BVS(\"num\" + str(i), 32) for i in range(6)]\n",
    "\n",
    "# Symbolic values stored in the memory in the location of the numbers.\n",
    "# The data type uint8_t matching the bit size of the symbolic values.\n",
    "for i in range(6):\n",
    "    state.mem[numbers_array + 4 * i].uint32_t= numbers[i]"
   ]
  },
  {
   "cell_type": "markdown",
   "metadata": {},
   "source": [
    "Executing the exploration."
   ]
  },
  {
   "cell_type": "code",
   "execution_count": 15,
   "metadata": {
    "scrolled": true
   },
   "outputs": [
    {
     "name": "stderr",
     "output_type": "stream",
     "text": [
      "WARNING | 2020-06-16 03:39:16,952 | \u001b[32mangr.state_plugins.symbolic_memory\u001b[0m | \u001b[32mFilling register r14 with 8 unconstrained bytes referenced from 0x4010f4 (phase_6+0x0 in bomb64 (0x4010f4))\u001b[0m\n",
      "WARNING | 2020-06-16 03:39:16,955 | \u001b[32mangr.state_plugins.symbolic_memory\u001b[0m | \u001b[32mFilling register r13 with 8 unconstrained bytes referenced from 0x4010f6 (phase_6+0x2 in bomb64 (0x4010f6))\u001b[0m\n",
      "WARNING | 2020-06-16 03:39:16,957 | \u001b[32mangr.state_plugins.symbolic_memory\u001b[0m | \u001b[32mFilling register r12 with 8 unconstrained bytes referenced from 0x4010f8 (phase_6+0x4 in bomb64 (0x4010f8))\u001b[0m\n",
      "WARNING | 2020-06-16 03:39:16,960 | \u001b[32mangr.state_plugins.symbolic_memory\u001b[0m | \u001b[32mFilling register rbp with 8 unconstrained bytes referenced from 0x4010fa (phase_6+0x6 in bomb64 (0x4010fa))\u001b[0m\n",
      "WARNING | 2020-06-16 03:39:16,963 | \u001b[32mangr.state_plugins.symbolic_memory\u001b[0m | \u001b[32mFilling register rbx with 8 unconstrained bytes referenced from 0x4010fb (phase_6+0x7 in bomb64 (0x4010fb))\u001b[0m\n",
      "WARNING | 2020-06-16 03:39:17,010 | \u001b[32mangr.state_plugins.symbolic_memory\u001b[0m | \u001b[32mFilling memory at 0x7fffffffffeff80 with 4 unconstrained bytes referenced from 0x401117 (phase_6+0x23 in bomb64 (0x401117))\u001b[0m\n",
      "WARNING | 2020-06-16 03:39:17,123 | \u001b[32mangr.state_plugins.symbolic_memory\u001b[0m | \u001b[32mFilling memory at 0x7fffffffffeff84 with 4 unconstrained bytes referenced from 0x401138 (phase_6+0x44 in bomb64 (0x401138))\u001b[0m\n",
      "WARNING | 2020-06-16 03:39:17,225 | \u001b[32mangr.state_plugins.symbolic_memory\u001b[0m | \u001b[32mFilling memory at 0x7fffffffffeff88 with 4 unconstrained bytes referenced from 0x401138 (phase_6+0x44 in bomb64 (0x401138))\u001b[0m\n",
      "WARNING | 2020-06-16 03:39:17,326 | \u001b[32mangr.state_plugins.symbolic_memory\u001b[0m | \u001b[32mFilling memory at 0x7fffffffffeff8c with 4 unconstrained bytes referenced from 0x401138 (phase_6+0x44 in bomb64 (0x401138))\u001b[0m\n",
      "WARNING | 2020-06-16 03:39:17,421 | \u001b[32mangr.state_plugins.symbolic_memory\u001b[0m | \u001b[32mFilling memory at 0x7fffffffffeff90 with 4 unconstrained bytes referenced from 0x401138 (phase_6+0x44 in bomb64 (0x401138))\u001b[0m\n",
      "WARNING | 2020-06-16 03:39:17,509 | \u001b[32mangr.state_plugins.symbolic_memory\u001b[0m | \u001b[32mFilling memory at 0x7fffffffffeff94 with 4 unconstrained bytes referenced from 0x401138 (phase_6+0x44 in bomb64 (0x401138))\u001b[0m\n"
     ]
    },
    {
     "name": "stdout",
     "output_type": "stream",
     "text": [
      "Popped value: 0x400000003\n",
      "Decimal number on the lower end: 3\n",
      "Decimal number on the higher end: 4\n",
      "\n",
      "Popped value: 0x600000005\n",
      "Decimal number on the lower end: 5\n",
      "Decimal number on the higher end: 6\n",
      "\n",
      "Popped value: 0x200000001\n",
      "Decimal number on the lower end: 1\n",
      "Decimal number on the higher end: 2\n",
      "\n"
     ]
    },
    {
     "data": {
      "text/plain": [
       "'4 3 2 1 6 5'"
      ]
     },
     "execution_count": 15,
     "metadata": {},
     "output_type": "execute_result"
    }
   ],
   "source": [
    "# Init the simulation manager.\n",
    "simgr = project.factory.simulation_manager(state)\n",
    "\n",
    "# Let Angr explore.\n",
    "simgr.explore(find=addr_target, avoid=addr_bomb, enable_veritesting=True)\n",
    "\n",
    "# Get the answer from the found state.\n",
    "found = simgr.found[0]\n",
    "\n",
    "answer = []\n",
    "\n",
    "# Loop to extract answers from the stack.\n",
    "# Takes care of reversing the manipulations in between.\n",
    "for i in range(3):\n",
    "    curr = found.solver.eval(found.stack_pop())\n",
    "    print(\"Popped value: {0}\".format(hex(curr)))\n",
    "    lower_end = curr & 0xffffffff\n",
    "    print(\"Decimal number on the lower end: {0}\".format(lower_end))\n",
    "    answer.append(str(7 - lower_end))\n",
    "    higher_end = curr>>32 & 0xffffffff\n",
    "    answer.append(' ')\n",
    "    print(\"Decimal number on the higher end: {0}\\n\".format(higher_end))\n",
    "    answer.append(str(7 - higher_end))\n",
    "    answer.append(' ')\n",
    "\n",
    "# Removes the space in the end.\n",
    "''.join(answer[:-1])"
   ]
  }
 ],
 "metadata": {
  "kernelspec": {
   "display_name": "Python 3",
   "language": "python",
   "name": "python3"
  },
  "language_info": {
   "codemirror_mode": {
    "name": "ipython",
    "version": 3
   },
   "file_extension": ".py",
   "mimetype": "text/x-python",
   "name": "python",
   "nbconvert_exporter": "python",
   "pygments_lexer": "ipython3",
   "version": "3.8.3"
  }
 },
 "nbformat": 4,
 "nbformat_minor": 4
}
