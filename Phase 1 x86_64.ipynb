{
 "cells": [
  {
   "cell_type": "markdown",
   "metadata": {},
   "source": [
    "# x86_64: Phase 1"
   ]
  },
  {
   "cell_type": "code",
   "execution_count": 1,
   "metadata": {},
   "outputs": [],
   "source": [
    "# Imports\n",
    "\n",
    "import angr\n",
    "import claripy"
   ]
  },
  {
   "cell_type": "markdown",
   "metadata": {},
   "source": [
    "### Approach 1: Blind Walk"
   ]
  },
  {
   "cell_type": "markdown",
   "metadata": {},
   "source": [
    "Here we'll let Angr do what it does best: walk all over the binary without any care in the world. We treat the function as a black box and do not look into it's working. We just let Angr do it's work."
   ]
  },
  {
   "cell_type": "markdown",
   "metadata": {},
   "source": [
    "Since it's a blind approach, it takes a while to complete, about an hour estimated."
   ]
  },
  {
   "cell_type": "markdown",
   "metadata": {},
   "source": [
    "Load the binary."
   ]
  },
  {
   "cell_type": "code",
   "execution_count": 2,
   "metadata": {},
   "outputs": [],
   "source": [
    "project_approach_1 = angr.Project('bomb64')"
   ]
  },
  {
   "cell_type": "markdown",
   "metadata": {},
   "source": [
    "Define the address for the execution path to be followed."
   ]
  },
  {
   "cell_type": "code",
   "execution_count": 3,
   "metadata": {},
   "outputs": [],
   "source": [
    "# The address where the symbolic execution shall begin. It is the beginning of the binary.\n",
    "addr_start = 0x400F0A\n",
    "\n",
    "# The address of the input for the next phase, right after defused greetings are printed.\n",
    "addr_target = 0x400F3C\n",
    "\n",
    "# The address of the first instruction of the explode_bomb function, which is to be avoided.\n",
    "addr_bomb = 0x40143A"
   ]
  },
  {
   "cell_type": "markdown",
   "metadata": {},
   "source": [
    "Define the user input to be provided."
   ]
  },
  {
   "cell_type": "code",
   "execution_count": 4,
   "metadata": {},
   "outputs": [],
   "source": [
    "# A BitVectorSymbol is declared of max allowed lenght of 78 characters * 8 bits.\n",
    "user_input = claripy.BVS('user_input', 8 * 78)"
   ]
  },
  {
   "cell_type": "markdown",
   "metadata": {},
   "source": [
    "Define a blank state for the simulation, a state with most of it's data uninitialized. Pass the address where the state is initialized, along with the user input to be given via standard input."
   ]
  },
  {
   "cell_type": "code",
   "execution_count": 5,
   "metadata": {},
   "outputs": [],
   "source": [
    "state = project_approach_1.factory.blank_state(addr=addr_start, stdin=user_input)"
   ]
  },
  {
   "cell_type": "markdown",
   "metadata": {},
   "source": [
    "Create a simulation manager with this blank state that would help us manage the symbolic execution."
   ]
  },
  {
   "cell_type": "code",
   "execution_count": 6,
   "metadata": {},
   "outputs": [],
   "source": [
    "simgr = project_approach_1.factory.simulation_manager(state)"
   ]
  },
  {
   "cell_type": "markdown",
   "metadata": {},
   "source": [
    "We call the explore method of the simulation manager, tasked with finding an execution path that reaches the target address and avoids the address which explodes the bomb."
   ]
  },
  {
   "cell_type": "code",
   "execution_count": 7,
   "metadata": {},
   "outputs": [
    {
     "name": "stderr",
     "output_type": "stream",
     "text": [
      "WARNING | 2020-06-04 06:11:40,755 | \u001b[32mangr.state_plugins.symbolic_memory\u001b[0m | \u001b[32mThe program is accessing memory or registers with an unspecified value. This could indicate unwanted behavior.\u001b[0m\n",
      "WARNING | 2020-06-04 06:11:40,756 | \u001b[32mangr.state_plugins.symbolic_memory\u001b[0m | \u001b[32mangr will cope with this by generating an unconstrained symbolic variable and continuing. You can resolve this by:\u001b[0m\n",
      "WARNING | 2020-06-04 06:11:40,757 | \u001b[32mangr.state_plugins.symbolic_memory\u001b[0m | \u001b[32m1) setting a value to the initial state\u001b[0m\n",
      "WARNING | 2020-06-04 06:11:40,757 | \u001b[32mangr.state_plugins.symbolic_memory\u001b[0m | \u001b[32m2) adding the state option ZERO_FILL_UNCONSTRAINED_{MEMORY,REGISTERS}, to make unknown regions hold null\u001b[0m\n",
      "WARNING | 2020-06-04 06:11:40,758 | \u001b[32mangr.state_plugins.symbolic_memory\u001b[0m | \u001b[32m3) adding the state option SYMBOL_FILL_UNCONSTRAINED_{MEMORY_REGISTERS}, to suppress these messages.\u001b[0m\n",
      "WARNING | 2020-06-04 06:11:40,759 | \u001b[32mangr.state_plugins.symbolic_memory\u001b[0m | \u001b[32mFilling register rbx with 8 unconstrained bytes referenced from 0x400da0 (main+0x0 in bomb64 (0x400da0))\u001b[0m\n",
      "WARNING | 2020-06-04 06:11:40,763 | \u001b[32mangr.state_plugins.symbolic_memory\u001b[0m | \u001b[32mFilling register rdi with 8 unconstrained bytes referenced from 0x400da0 (main+0x0 in bomb64 (0x400da0))\u001b[0m\n",
      "WARNING | 2020-06-04 06:11:40,856 | \u001b[32mangr.state_plugins.symbolic_memory\u001b[0m | \u001b[32mFilling register rsi with 8 unconstrained bytes referenced from 0x400db6 (main+0x16 in bomb64 (0x400db6))\u001b[0m\n",
      "WARNING | 2020-06-04 06:11:41,103 | \u001b[32mangr.state_plugins.symbolic_memory\u001b[0m | \u001b[32mFilling memory at 0xffc0000000000008 with 8 unconstrained bytes referenced from 0x400dbe (main+0x1e in bomb64 (0x400dbe))\u001b[0m\n",
      "WARNING | 2020-06-04 06:11:41,270 | \u001b[32mangr.state_plugins.symbolic_memory\u001b[0m | \u001b[32mFilling memory at 0xffc0000000000000 with 8 unconstrained bytes referenced from 0x400df8 (main+0x58 in bomb64 (0x400df8))\u001b[0m\n",
      "WARNING | 2020-06-04 06:11:41,440 | \u001b[32mangr.state_plugins.symbolic_memory\u001b[0m | \u001b[32mFilling memory at 0xffffffffc0000000 with 256 unconstrained bytes referenced from 0x775b40 (_IO_fopen@@GLIBC_2.2.5+0x0 in libc.so.6 (0x75b40))\u001b[0m\n",
      "WARNING | 2020-06-04 06:11:41,555 | \u001b[33mangr.state_plugins.posix\u001b[0m | \u001b[33mTrying to open unknown file b'\\x00\\x00\\x00\\x00\\x00\\x00\\x00\\x00\\x00\\x00\\x00\\x00\\x00\\x00\\x00\\x00\\x00\\x00\\x00\\x00\\x00\\x00\\x00\\x00\\x00\\x00\\x00\\x00\\x00\\x00\\x00\\x00\\x00\\x00\\x00\\x00\\x00\\x00\\x00\\x00\\x00\\x00\\x00\\x00\\x00\\x00\\x00\\x00\\x00\\x00\\x00\\x00\\x00\\x00\\x00\\x00\\x00\\x00\\x00' - created a symbolic file since ALL_FILES_EXIST is set\u001b[0m\n",
      "WARNING | 2020-06-04 06:11:42,093 | \u001b[32mangr.state_plugins.symbolic_memory\u001b[0m | \u001b[32mFilling memory at 0xffffffffffe00000 with 256 unconstrained bytes referenced from 0x80dd70 (__printf_chk+0x0 in libc.so.6 (0x10dd70))\u001b[0m\n",
      "WARNING | 2020-06-04 06:11:42,840 | \u001b[32mangr.state_plugins.symbolic_memory\u001b[0m | \u001b[32mFilling memory at 0x7fffffffffefde0 with 8 unconstrained bytes referenced from 0x73c4d6 (__libc_sigaction+0xe6 in libc.so.6 (0x3c4d6))\u001b[0m\n",
      "WARNING | 2020-06-04 06:11:42,842 | \u001b[32mangr.state_plugins.symbolic_memory\u001b[0m | \u001b[32mFilling memory at 0x7fffffffffefdf8 with 16 unconstrained bytes referenced from 0x73c4de (__libc_sigaction+0xee in libc.so.6 (0x3c4de))\u001b[0m\n",
      "WARNING | 2020-06-04 06:11:42,844 | \u001b[32mangr.state_plugins.symbolic_memory\u001b[0m | \u001b[32mFilling memory at 0x7fffffffffefe08 with 16 unconstrained bytes referenced from 0x73c4e7 (__libc_sigaction+0xf7 in libc.so.6 (0x3c4e7))\u001b[0m\n",
      "WARNING | 2020-06-04 06:11:42,847 | \u001b[32mangr.state_plugins.symbolic_memory\u001b[0m | \u001b[32mFilling memory at 0x7fffffffffefe18 with 16 unconstrained bytes referenced from 0x73c4f0 (__libc_sigaction+0x100 in libc.so.6 (0x3c4f0))\u001b[0m\n",
      "WARNING | 2020-06-04 06:11:42,850 | \u001b[32mangr.state_plugins.symbolic_memory\u001b[0m | \u001b[32mFilling memory at 0x7fffffffffefe28 with 16 unconstrained bytes referenced from 0x73c4f9 (__libc_sigaction+0x109 in libc.so.6 (0x3c4f9))\u001b[0m\n",
      "WARNING | 2020-06-04 06:11:42,854 | \u001b[32mangr.state_plugins.symbolic_memory\u001b[0m | \u001b[32mFilling memory at 0x7fffffffffefde8 with 8 unconstrained bytes referenced from 0x73c505 (__libc_sigaction+0x115 in libc.so.6 (0x3c505))\u001b[0m\n",
      "WARNING | 2020-06-04 06:11:42,858 | \u001b[32mangr.state_plugins.symbolic_memory\u001b[0m | \u001b[32mFilling memory at 0x7fffffffffefe38 with 16 unconstrained bytes referenced from 0x73c512 (__libc_sigaction+0x122 in libc.so.6 (0x3c512))\u001b[0m\n",
      "WARNING | 2020-06-04 06:11:42,862 | \u001b[32mangr.state_plugins.symbolic_memory\u001b[0m | \u001b[32mFilling memory at 0x7fffffffffefe48 with 16 unconstrained bytes referenced from 0x73c51b (__libc_sigaction+0x12b in libc.so.6 (0x3c51b))\u001b[0m\n",
      "WARNING | 2020-06-04 06:11:42,867 | \u001b[32mangr.state_plugins.symbolic_memory\u001b[0m | \u001b[32mFilling memory at 0x7fffffffffefe58 with 16 unconstrained bytes referenced from 0x73c529 (__libc_sigaction+0x139 in libc.so.6 (0x3c529))\u001b[0m\n",
      "WARNING | 2020-06-04 06:11:42,871 | \u001b[32mangr.state_plugins.symbolic_memory\u001b[0m | \u001b[32mFilling memory at 0x7fffffffffefe68 with 16 unconstrained bytes referenced from 0x73c532 (__libc_sigaction+0x142 in libc.so.6 (0x3c532))\u001b[0m\n",
      "WARNING | 2020-06-04 06:11:42,883 | \u001b[32mangr.state_plugins.symbolic_memory\u001b[0m | \u001b[32mFilling memory at 0x7fffffffffefdf0 with 8 unconstrained bytes referenced from 0x73c542 (__libc_sigaction+0x152 in libc.so.6 (0x3c542))\u001b[0m\n",
      "WARNING | 2020-06-04 06:11:42,976 | \u001b[32mangr.state_plugins.symbolic_memory\u001b[0m | \u001b[32mFilling memory at 0x7fffffffffefde0 with 8 unconstrained bytes referenced from 0x73c4d6 (__libc_sigaction+0xe6 in libc.so.6 (0x3c4d6))\u001b[0m\n",
      "WARNING | 2020-06-04 06:11:42,978 | \u001b[32mangr.state_plugins.symbolic_memory\u001b[0m | \u001b[32mFilling memory at 0x7fffffffffefdf8 with 16 unconstrained bytes referenced from 0x73c4de (__libc_sigaction+0xee in libc.so.6 (0x3c4de))\u001b[0m\n",
      "WARNING | 2020-06-04 06:11:42,980 | \u001b[32mangr.state_plugins.symbolic_memory\u001b[0m | \u001b[32mFilling memory at 0x7fffffffffefe08 with 16 unconstrained bytes referenced from 0x73c4e7 (__libc_sigaction+0xf7 in libc.so.6 (0x3c4e7))\u001b[0m\n",
      "WARNING | 2020-06-04 06:11:42,982 | \u001b[32mangr.state_plugins.symbolic_memory\u001b[0m | \u001b[32mFilling memory at 0x7fffffffffefe18 with 16 unconstrained bytes referenced from 0x73c4f0 (__libc_sigaction+0x100 in libc.so.6 (0x3c4f0))\u001b[0m\n",
      "WARNING | 2020-06-04 06:11:42,984 | \u001b[32mangr.state_plugins.symbolic_memory\u001b[0m | \u001b[32mFilling memory at 0x7fffffffffefe28 with 16 unconstrained bytes referenced from 0x73c4f9 (__libc_sigaction+0x109 in libc.so.6 (0x3c4f9))\u001b[0m\n",
      "WARNING | 2020-06-04 06:11:42,988 | \u001b[32mangr.state_plugins.symbolic_memory\u001b[0m | \u001b[32mFilling memory at 0x7fffffffffefde8 with 8 unconstrained bytes referenced from 0x73c505 (__libc_sigaction+0x115 in libc.so.6 (0x3c505))\u001b[0m\n",
      "WARNING | 2020-06-04 06:11:42,990 | \u001b[32mangr.state_plugins.symbolic_memory\u001b[0m | \u001b[32mFilling memory at 0x7fffffffffefe38 with 16 unconstrained bytes referenced from 0x73c512 (__libc_sigaction+0x122 in libc.so.6 (0x3c512))\u001b[0m\n",
      "WARNING | 2020-06-04 06:11:42,992 | \u001b[32mangr.state_plugins.symbolic_memory\u001b[0m | \u001b[32mFilling memory at 0x7fffffffffefe48 with 16 unconstrained bytes referenced from 0x73c51b (__libc_sigaction+0x12b in libc.so.6 (0x3c51b))\u001b[0m\n",
      "WARNING | 2020-06-04 06:11:42,995 | \u001b[32mangr.state_plugins.symbolic_memory\u001b[0m | \u001b[32mFilling memory at 0x7fffffffffefe58 with 16 unconstrained bytes referenced from 0x73c529 (__libc_sigaction+0x139 in libc.so.6 (0x3c529))\u001b[0m\n",
      "WARNING | 2020-06-04 06:11:42,998 | \u001b[32mangr.state_plugins.symbolic_memory\u001b[0m | \u001b[32mFilling memory at 0x7fffffffffefe68 with 16 unconstrained bytes referenced from 0x73c532 (__libc_sigaction+0x142 in libc.so.6 (0x3c532))\u001b[0m\n",
      "WARNING | 2020-06-04 06:11:43,002 | \u001b[32mangr.state_plugins.symbolic_memory\u001b[0m | \u001b[32mFilling memory at 0x7fffffffffefdf0 with 8 unconstrained bytes referenced from 0x73c542 (__libc_sigaction+0x152 in libc.so.6 (0x3c542))\u001b[0m\n",
      "WARNING | 2020-06-04 06:11:43,377 | \u001b[32mangr.state_plugins.symbolic_memory\u001b[0m | \u001b[32mFilling register rbp with 8 unconstrained bytes referenced from 0x4013bc (blank_line+0x0 in bomb64 (0x4013bc))\u001b[0m\n",
      "WARNING | 2020-06-04 06:11:43,388 | \u001b[32mangr.state_plugins.symbolic_memory\u001b[0m | \u001b[32mFilling memory at 0x4e with 1 unconstrained bytes referenced from 0x4013de (blank_line+0x22 in bomb64 (0x4013de))\u001b[0m\n"
     ]
    },
    {
     "name": "stderr",
     "output_type": "stream",
     "text": [
      "WARNING | 2020-06-04 06:11:44,037 | \u001b[32mangr.state_plugins.symbolic_memory\u001b[0m | \u001b[32mFilling register rbp with 8 unconstrained bytes referenced from 0x4013bc (blank_line+0x0 in bomb64 (0x4013bc))\u001b[0m\n",
      "WARNING | 2020-06-04 06:11:44,074 | \u001b[32mangr.state_plugins.symbolic_memory\u001b[0m | \u001b[32mFilling memory at 0x4f with 7 unconstrained bytes referenced from 0x4013d4 (blank_line+0x18 in bomb64 (0x4013d4))\u001b[0m\n",
      "WARNING | 2020-06-04 06:11:44,406 | \u001b[32mangr.state_plugins.symbolic_memory\u001b[0m | \u001b[32mFilling memory at 0xffffffff80000020 with 1 unconstrained bytes referenced from 0x4013d7 (blank_line+0x1b in bomb64 (0x4013d7))\u001b[0m\n",
      "WARNING | 2020-06-04 06:11:44,582 | \u001b[32mangr.state_plugins.symbolic_memory\u001b[0m | \u001b[32mFilling memory at 0x4f with 1 unconstrained bytes referenced from 0x4013de (blank_line+0x22 in bomb64 (0x4013de))\u001b[0m\n",
      "WARNING | 2020-06-04 06:11:44,887 | \u001b[32mangr.state_plugins.symbolic_memory\u001b[0m | \u001b[32mFilling memory at 0x50 with 7 unconstrained bytes referenced from 0x4013d4 (blank_line+0x18 in bomb64 (0x4013d4))\u001b[0m\n",
      "WARNING | 2020-06-04 06:11:45,107 | \u001b[32mangr.state_plugins.symbolic_memory\u001b[0m | \u001b[32mFilling memory at 0xffffffffffffffff with 1 unconstrained bytes referenced from 0x4013d7 (blank_line+0x1b in bomb64 (0x4013d7))\u001b[0m\n",
      "WARNING | 2020-06-04 06:11:45,304 | \u001b[32mangr.state_plugins.symbolic_memory\u001b[0m | \u001b[32mFilling memory at 0xffffffff800000b5 with 8 unconstrained bytes referenced from 0x4013d4 (blank_line+0x18 in bomb64 (0x4013d4))\u001b[0m\n",
      "WARNING | 2020-06-04 06:11:45,455 | \u001b[32mangr.state_plugins.symbolic_memory\u001b[0m | \u001b[32mFilling memory at 0xffffffffffffffff with 1 unconstrained bytes referenced from 0x4013d7 (blank_line+0x1b in bomb64 (0x4013d7))\u001b[0m\n",
      "WARNING | 2020-06-04 06:11:47,202 | \u001b[32mangr.state_plugins.symbolic_memory\u001b[0m | \u001b[32mFilling register r12 with 8 unconstrained bytes referenced from 0x401338 (strings_not_equal+0x0 in bomb64 (0x401338))\u001b[0m\n",
      "WARNING | 2020-06-04 06:11:47,341 | \u001b[32mangr.state_plugins.symbolic_memory\u001b[0m | \u001b[32mFilling memory at 0x0 with 8 unconstrained bytes referenced from 0x4013d4 (blank_line+0x18 in bomb64 (0x4013d4))\u001b[0m\n",
      "WARNING | 2020-06-04 06:11:48,013 | \u001b[32mangr.state_plugins.symbolic_memory\u001b[0m | \u001b[32mFilling register r12 with 8 unconstrained bytes referenced from 0x401338 (strings_not_equal+0x0 in bomb64 (0x401338))\u001b[0m\n",
      "WARNING | 2020-06-04 06:11:49,066 | \u001b[32mangr.state_plugins.symbolic_memory\u001b[0m | \u001b[32mFilling register r12 with 8 unconstrained bytes referenced from 0x401338 (strings_not_equal+0x0 in bomb64 (0x401338))\u001b[0m\n",
      "WARNING | 2020-06-04 06:11:49,479 | \u001b[32mangr.state_plugins.symbolic_memory\u001b[0m | \u001b[32mFilling register r12 with 8 unconstrained bytes referenced from 0x401338 (strings_not_equal+0x0 in bomb64 (0x401338))\u001b[0m\n",
      "WARNING | 2020-06-04 06:11:50,055 | \u001b[32mangr.state_plugins.symbolic_memory\u001b[0m | \u001b[32mFilling register r12 with 8 unconstrained bytes referenced from 0x401338 (strings_not_equal+0x0 in bomb64 (0x401338))\u001b[0m\n",
      "WARNING | 2020-06-04 06:11:50,411 | \u001b[32mangr.state_plugins.symbolic_memory\u001b[0m | \u001b[32mFilling register r12 with 8 unconstrained bytes referenced from 0x401338 (strings_not_equal+0x0 in bomb64 (0x401338))\u001b[0m\n",
      "WARNING | 2020-06-04 06:11:50,580 | \u001b[32mangr.state_plugins.symbolic_memory\u001b[0m | \u001b[32mFilling register r12 with 8 unconstrained bytes referenced from 0x401338 (strings_not_equal+0x0 in bomb64 (0x401338))\u001b[0m\n",
      "WARNING | 2020-06-04 06:11:50,894 | \u001b[32mangr.state_plugins.symbolic_memory\u001b[0m | \u001b[32mFilling register r12 with 8 unconstrained bytes referenced from 0x401338 (strings_not_equal+0x0 in bomb64 (0x401338))\u001b[0m\n",
      "WARNING | 2020-06-04 06:11:51,079 | \u001b[32mangr.state_plugins.symbolic_memory\u001b[0m | \u001b[32mFilling register r12 with 8 unconstrained bytes referenced from 0x401338 (strings_not_equal+0x0 in bomb64 (0x401338))\u001b[0m\n",
      "WARNING | 2020-06-04 06:11:51,429 | \u001b[32mangr.state_plugins.symbolic_memory\u001b[0m | \u001b[32mFilling register r12 with 8 unconstrained bytes referenced from 0x401338 (strings_not_equal+0x0 in bomb64 (0x401338))\u001b[0m\n",
      "WARNING | 2020-06-04 06:11:51,689 | \u001b[32mangr.state_plugins.symbolic_memory\u001b[0m | \u001b[32mFilling register r12 with 8 unconstrained bytes referenced from 0x401338 (strings_not_equal+0x0 in bomb64 (0x401338))\u001b[0m\n",
      "WARNING | 2020-06-04 06:11:52,848 | \u001b[32mangr.state_plugins.symbolic_memory\u001b[0m | \u001b[32mFilling register r12 with 8 unconstrained bytes referenced from 0x401338 (strings_not_equal+0x0 in bomb64 (0x401338))\u001b[0m\n",
      "WARNING | 2020-06-04 06:11:53,003 | \u001b[32mangr.state_plugins.symbolic_memory\u001b[0m | \u001b[32mFilling register r12 with 8 unconstrained bytes referenced from 0x401338 (strings_not_equal+0x0 in bomb64 (0x401338))\u001b[0m\n",
      "WARNING | 2020-06-04 06:11:53,338 | \u001b[32mangr.state_plugins.symbolic_memory\u001b[0m | \u001b[32mFilling register r12 with 8 unconstrained bytes referenced from 0x401338 (strings_not_equal+0x0 in bomb64 (0x401338))\u001b[0m\n",
      "WARNING | 2020-06-04 06:11:53,880 | \u001b[32mangr.state_plugins.symbolic_memory\u001b[0m | \u001b[32mFilling register r12 with 8 unconstrained bytes referenced from 0x401338 (strings_not_equal+0x0 in bomb64 (0x401338))\u001b[0m\n",
      "WARNING | 2020-06-04 06:11:54,134 | \u001b[32mangr.state_plugins.symbolic_memory\u001b[0m | \u001b[32mFilling register r12 with 8 unconstrained bytes referenced from 0x401338 (strings_not_equal+0x0 in bomb64 (0x401338))\u001b[0m\n",
      "WARNING | 2020-06-04 06:11:54,569 | \u001b[32mangr.state_plugins.symbolic_memory\u001b[0m | \u001b[32mFilling register r12 with 8 unconstrained bytes referenced from 0x401338 (strings_not_equal+0x0 in bomb64 (0x401338))\u001b[0m\n",
      "WARNING | 2020-06-04 06:11:54,862 | \u001b[32mangr.state_plugins.symbolic_memory\u001b[0m | \u001b[32mFilling register r12 with 8 unconstrained bytes referenced from 0x401338 (strings_not_equal+0x0 in bomb64 (0x401338))\u001b[0m\n",
      "WARNING | 2020-06-04 06:11:55,101 | \u001b[32mangr.state_plugins.symbolic_memory\u001b[0m | \u001b[32mFilling register r12 with 8 unconstrained bytes referenced from 0x401338 (strings_not_equal+0x0 in bomb64 (0x401338))\u001b[0m\n",
      "WARNING | 2020-06-04 06:11:55,503 | \u001b[32mangr.state_plugins.symbolic_memory\u001b[0m | \u001b[32mFilling register r12 with 8 unconstrained bytes referenced from 0x401338 (strings_not_equal+0x0 in bomb64 (0x401338))\u001b[0m\n",
      "WARNING | 2020-06-04 06:11:55,820 | \u001b[32mangr.state_plugins.symbolic_memory\u001b[0m | \u001b[32mFilling register r12 with 8 unconstrained bytes referenced from 0x401338 (strings_not_equal+0x0 in bomb64 (0x401338))\u001b[0m\n",
      "WARNING | 2020-06-04 06:11:56,239 | \u001b[32mangr.state_plugins.symbolic_memory\u001b[0m | \u001b[32mFilling register r12 with 8 unconstrained bytes referenced from 0x401338 (strings_not_equal+0x0 in bomb64 (0x401338))\u001b[0m\n",
      "WARNING | 2020-06-04 06:11:56,663 | \u001b[32mangr.state_plugins.symbolic_memory\u001b[0m | \u001b[32mFilling register r12 with 8 unconstrained bytes referenced from 0x401338 (strings_not_equal+0x0 in bomb64 (0x401338))\u001b[0m\n",
      "WARNING | 2020-06-04 06:11:56,935 | \u001b[32mangr.state_plugins.symbolic_memory\u001b[0m | \u001b[32mFilling register r12 with 8 unconstrained bytes referenced from 0x401338 (strings_not_equal+0x0 in bomb64 (0x401338))\u001b[0m\n",
      "WARNING | 2020-06-04 06:11:57,261 | \u001b[32mangr.state_plugins.symbolic_memory\u001b[0m | \u001b[32mFilling register r12 with 8 unconstrained bytes referenced from 0x401338 (strings_not_equal+0x0 in bomb64 (0x401338))\u001b[0m\n",
      "WARNING | 2020-06-04 06:11:57,665 | \u001b[32mangr.state_plugins.symbolic_memory\u001b[0m | \u001b[32mFilling register r12 with 8 unconstrained bytes referenced from 0x401338 (strings_not_equal+0x0 in bomb64 (0x401338))\u001b[0m\n",
      "WARNING | 2020-06-04 06:11:58,142 | \u001b[32mangr.state_plugins.symbolic_memory\u001b[0m | \u001b[32mFilling register r12 with 8 unconstrained bytes referenced from 0x401338 (strings_not_equal+0x0 in bomb64 (0x401338))\u001b[0m\n",
      "WARNING | 2020-06-04 06:11:58,422 | \u001b[32mangr.state_plugins.symbolic_memory\u001b[0m | \u001b[32mFilling register r12 with 8 unconstrained bytes referenced from 0x401338 (strings_not_equal+0x0 in bomb64 (0x401338))\u001b[0m\n",
      "WARNING | 2020-06-04 06:11:58,686 | \u001b[32mangr.state_plugins.symbolic_memory\u001b[0m | \u001b[32mFilling register r12 with 8 unconstrained bytes referenced from 0x401338 (strings_not_equal+0x0 in bomb64 (0x401338))\u001b[0m\n",
      "WARNING | 2020-06-04 06:11:59,187 | \u001b[32mangr.state_plugins.symbolic_memory\u001b[0m | \u001b[32mFilling register r12 with 8 unconstrained bytes referenced from 0x401338 (strings_not_equal+0x0 in bomb64 (0x401338))\u001b[0m\n",
      "WARNING | 2020-06-04 06:11:59,741 | \u001b[32mangr.state_plugins.symbolic_memory\u001b[0m | \u001b[32mFilling register r12 with 8 unconstrained bytes referenced from 0x401338 (strings_not_equal+0x0 in bomb64 (0x401338))\u001b[0m\n"
     ]
    },
    {
     "name": "stderr",
     "output_type": "stream",
     "text": [
      "WARNING | 2020-06-04 06:12:00,150 | \u001b[32mangr.state_plugins.symbolic_memory\u001b[0m | \u001b[32mFilling register r12 with 8 unconstrained bytes referenced from 0x401338 (strings_not_equal+0x0 in bomb64 (0x401338))\u001b[0m\n",
      "WARNING | 2020-06-04 06:12:00,409 | \u001b[32mangr.state_plugins.symbolic_memory\u001b[0m | \u001b[32mFilling register r12 with 8 unconstrained bytes referenced from 0x401338 (strings_not_equal+0x0 in bomb64 (0x401338))\u001b[0m\n",
      "WARNING | 2020-06-04 06:12:00,822 | \u001b[32mangr.state_plugins.symbolic_memory\u001b[0m | \u001b[32mFilling register r12 with 8 unconstrained bytes referenced from 0x401338 (strings_not_equal+0x0 in bomb64 (0x401338))\u001b[0m\n",
      "WARNING | 2020-06-04 06:12:01,417 | \u001b[32mangr.state_plugins.symbolic_memory\u001b[0m | \u001b[32mFilling register r12 with 8 unconstrained bytes referenced from 0x401338 (strings_not_equal+0x0 in bomb64 (0x401338))\u001b[0m\n",
      "WARNING | 2020-06-04 06:12:01,838 | \u001b[32mangr.state_plugins.symbolic_memory\u001b[0m | \u001b[32mFilling register r12 with 8 unconstrained bytes referenced from 0x401338 (strings_not_equal+0x0 in bomb64 (0x401338))\u001b[0m\n",
      "WARNING | 2020-06-04 06:12:02,049 | \u001b[32mangr.state_plugins.symbolic_memory\u001b[0m | \u001b[32mFilling register r12 with 8 unconstrained bytes referenced from 0x401338 (strings_not_equal+0x0 in bomb64 (0x401338))\u001b[0m\n",
      "WARNING | 2020-06-04 06:12:02,483 | \u001b[32mangr.state_plugins.symbolic_memory\u001b[0m | \u001b[32mFilling register r12 with 8 unconstrained bytes referenced from 0x401338 (strings_not_equal+0x0 in bomb64 (0x401338))\u001b[0m\n",
      "WARNING | 2020-06-04 06:12:03,041 | \u001b[32mangr.state_plugins.symbolic_memory\u001b[0m | \u001b[32mFilling register r12 with 8 unconstrained bytes referenced from 0x401338 (strings_not_equal+0x0 in bomb64 (0x401338))\u001b[0m\n",
      "WARNING | 2020-06-04 06:12:03,486 | \u001b[32mangr.state_plugins.symbolic_memory\u001b[0m | \u001b[32mFilling register r12 with 8 unconstrained bytes referenced from 0x401338 (strings_not_equal+0x0 in bomb64 (0x401338))\u001b[0m\n",
      "WARNING | 2020-06-04 06:12:03,751 | \u001b[32mangr.state_plugins.symbolic_memory\u001b[0m | \u001b[32mFilling register r12 with 8 unconstrained bytes referenced from 0x401338 (strings_not_equal+0x0 in bomb64 (0x401338))\u001b[0m\n",
      "WARNING | 2020-06-04 06:12:04,721 | \u001b[32mangr.state_plugins.symbolic_memory\u001b[0m | \u001b[32mFilling register r12 with 8 unconstrained bytes referenced from 0x401338 (strings_not_equal+0x0 in bomb64 (0x401338))\u001b[0m\n",
      "WARNING | 2020-06-04 06:12:05,669 | \u001b[32mangr.state_plugins.symbolic_memory\u001b[0m | \u001b[32mFilling register r12 with 8 unconstrained bytes referenced from 0x401338 (strings_not_equal+0x0 in bomb64 (0x401338))\u001b[0m\n",
      "WARNING | 2020-06-04 06:12:06,224 | \u001b[32mangr.state_plugins.symbolic_memory\u001b[0m | \u001b[32mFilling register r12 with 8 unconstrained bytes referenced from 0x401338 (strings_not_equal+0x0 in bomb64 (0x401338))\u001b[0m\n",
      "WARNING | 2020-06-04 06:12:06,583 | \u001b[32mangr.state_plugins.symbolic_memory\u001b[0m | \u001b[32mFilling register r12 with 8 unconstrained bytes referenced from 0x401338 (strings_not_equal+0x0 in bomb64 (0x401338))\u001b[0m\n",
      "WARNING | 2020-06-04 06:12:07,220 | \u001b[32mangr.state_plugins.symbolic_memory\u001b[0m | \u001b[32mFilling register r12 with 8 unconstrained bytes referenced from 0x401338 (strings_not_equal+0x0 in bomb64 (0x401338))\u001b[0m\n",
      "WARNING | 2020-06-04 06:12:08,080 | \u001b[32mangr.state_plugins.symbolic_memory\u001b[0m | \u001b[32mFilling register r12 with 8 unconstrained bytes referenced from 0x401338 (strings_not_equal+0x0 in bomb64 (0x401338))\u001b[0m\n",
      "WARNING | 2020-06-04 06:12:08,706 | \u001b[32mangr.state_plugins.symbolic_memory\u001b[0m | \u001b[32mFilling register r12 with 8 unconstrained bytes referenced from 0x401338 (strings_not_equal+0x0 in bomb64 (0x401338))\u001b[0m\n",
      "WARNING | 2020-06-04 06:12:10,383 | \u001b[32mangr.state_plugins.symbolic_memory\u001b[0m | \u001b[32mFilling register r12 with 8 unconstrained bytes referenced from 0x401338 (strings_not_equal+0x0 in bomb64 (0x401338))\u001b[0m\n",
      "WARNING | 2020-06-04 06:12:11,769 | \u001b[32mangr.state_plugins.symbolic_memory\u001b[0m | \u001b[32mFilling register r12 with 8 unconstrained bytes referenced from 0x401338 (strings_not_equal+0x0 in bomb64 (0x401338))\u001b[0m\n",
      "WARNING | 2020-06-04 06:12:12,706 | \u001b[32mangr.state_plugins.symbolic_memory\u001b[0m | \u001b[32mFilling register r12 with 8 unconstrained bytes referenced from 0x401338 (strings_not_equal+0x0 in bomb64 (0x401338))\u001b[0m\n",
      "WARNING | 2020-06-04 06:12:13,267 | \u001b[32mangr.state_plugins.symbolic_memory\u001b[0m | \u001b[32mFilling register r12 with 8 unconstrained bytes referenced from 0x401338 (strings_not_equal+0x0 in bomb64 (0x401338))\u001b[0m\n",
      "WARNING | 2020-06-04 06:12:14,071 | \u001b[32mangr.state_plugins.symbolic_memory\u001b[0m | \u001b[32mFilling register r12 with 8 unconstrained bytes referenced from 0x401338 (strings_not_equal+0x0 in bomb64 (0x401338))\u001b[0m\n",
      "WARNING | 2020-06-04 06:12:15,320 | \u001b[32mangr.state_plugins.symbolic_memory\u001b[0m | \u001b[32mFilling register r12 with 8 unconstrained bytes referenced from 0x401338 (strings_not_equal+0x0 in bomb64 (0x401338))\u001b[0m\n",
      "WARNING | 2020-06-04 06:12:16,971 | \u001b[32mangr.state_plugins.symbolic_memory\u001b[0m | \u001b[32mFilling register r12 with 8 unconstrained bytes referenced from 0x401338 (strings_not_equal+0x0 in bomb64 (0x401338))\u001b[0m\n",
      "WARNING | 2020-06-04 06:12:17,858 | \u001b[32mangr.state_plugins.symbolic_memory\u001b[0m | \u001b[32mFilling register r12 with 8 unconstrained bytes referenced from 0x401338 (strings_not_equal+0x0 in bomb64 (0x401338))\u001b[0m\n",
      "WARNING | 2020-06-04 06:12:18,520 | \u001b[32mangr.state_plugins.symbolic_memory\u001b[0m | \u001b[32mFilling register r12 with 8 unconstrained bytes referenced from 0x401338 (strings_not_equal+0x0 in bomb64 (0x401338))\u001b[0m\n",
      "WARNING | 2020-06-04 06:12:19,780 | \u001b[32mangr.state_plugins.symbolic_memory\u001b[0m | \u001b[32mFilling register r12 with 8 unconstrained bytes referenced from 0x401338 (strings_not_equal+0x0 in bomb64 (0x401338))\u001b[0m\n",
      "WARNING | 2020-06-04 06:12:21,305 | \u001b[32mangr.state_plugins.symbolic_memory\u001b[0m | \u001b[32mFilling register r12 with 8 unconstrained bytes referenced from 0x401338 (strings_not_equal+0x0 in bomb64 (0x401338))\u001b[0m\n",
      "WARNING | 2020-06-04 06:12:22,525 | \u001b[32mangr.state_plugins.symbolic_memory\u001b[0m | \u001b[32mFilling register r12 with 8 unconstrained bytes referenced from 0x401338 (strings_not_equal+0x0 in bomb64 (0x401338))\u001b[0m\n",
      "WARNING | 2020-06-04 06:12:23,182 | \u001b[32mangr.state_plugins.symbolic_memory\u001b[0m | \u001b[32mFilling register r12 with 8 unconstrained bytes referenced from 0x401338 (strings_not_equal+0x0 in bomb64 (0x401338))\u001b[0m\n",
      "WARNING | 2020-06-04 06:12:24,167 | \u001b[32mangr.state_plugins.symbolic_memory\u001b[0m | \u001b[32mFilling register r12 with 8 unconstrained bytes referenced from 0x401338 (strings_not_equal+0x0 in bomb64 (0x401338))\u001b[0m\n",
      "WARNING | 2020-06-04 06:12:25,365 | \u001b[32mangr.state_plugins.symbolic_memory\u001b[0m | \u001b[32mFilling register r12 with 8 unconstrained bytes referenced from 0x401338 (strings_not_equal+0x0 in bomb64 (0x401338))\u001b[0m\n",
      "WARNING | 2020-06-04 06:12:26,282 | \u001b[32mangr.state_plugins.symbolic_memory\u001b[0m | \u001b[32mFilling register r12 with 8 unconstrained bytes referenced from 0x401338 (strings_not_equal+0x0 in bomb64 (0x401338))\u001b[0m\n",
      "WARNING | 2020-06-04 06:12:27,325 | \u001b[32mangr.state_plugins.symbolic_memory\u001b[0m | \u001b[32mFilling register r12 with 8 unconstrained bytes referenced from 0x401338 (strings_not_equal+0x0 in bomb64 (0x401338))\u001b[0m\n",
      "WARNING | 2020-06-04 06:12:28,454 | \u001b[32mangr.state_plugins.symbolic_memory\u001b[0m | \u001b[32mFilling register r12 with 8 unconstrained bytes referenced from 0x401338 (strings_not_equal+0x0 in bomb64 (0x401338))\u001b[0m\n",
      "WARNING | 2020-06-04 06:12:29,862 | \u001b[32mangr.state_plugins.symbolic_memory\u001b[0m | \u001b[32mFilling register r12 with 8 unconstrained bytes referenced from 0x401338 (strings_not_equal+0x0 in bomb64 (0x401338))\u001b[0m\n",
      "WARNING | 2020-06-04 06:12:30,816 | \u001b[32mangr.state_plugins.symbolic_memory\u001b[0m | \u001b[32mFilling register r12 with 8 unconstrained bytes referenced from 0x401338 (strings_not_equal+0x0 in bomb64 (0x401338))\u001b[0m\n",
      "WARNING | 2020-06-04 06:12:31,600 | \u001b[32mangr.state_plugins.symbolic_memory\u001b[0m | \u001b[32mFilling register r12 with 8 unconstrained bytes referenced from 0x401338 (strings_not_equal+0x0 in bomb64 (0x401338))\u001b[0m\n",
      "WARNING | 2020-06-04 06:12:33,003 | \u001b[32mangr.state_plugins.symbolic_memory\u001b[0m | \u001b[32mFilling register r12 with 8 unconstrained bytes referenced from 0x401338 (strings_not_equal+0x0 in bomb64 (0x401338))\u001b[0m\n",
      "WARNING | 2020-06-04 06:12:34,192 | \u001b[32mangr.state_plugins.symbolic_memory\u001b[0m | \u001b[32mFilling register r12 with 8 unconstrained bytes referenced from 0x401338 (strings_not_equal+0x0 in bomb64 (0x401338))\u001b[0m\n"
     ]
    },
    {
     "name": "stderr",
     "output_type": "stream",
     "text": [
      "WARNING | 2020-06-04 06:12:35,057 | \u001b[32mangr.state_plugins.symbolic_memory\u001b[0m | \u001b[32mFilling register r12 with 8 unconstrained bytes referenced from 0x401338 (strings_not_equal+0x0 in bomb64 (0x401338))\u001b[0m\n",
      "WARNING | 2020-06-04 06:12:35,632 | \u001b[32mangr.state_plugins.symbolic_memory\u001b[0m | \u001b[32mFilling register r12 with 8 unconstrained bytes referenced from 0x401338 (strings_not_equal+0x0 in bomb64 (0x401338))\u001b[0m\n",
      "WARNING | 2020-06-04 06:12:36,590 | \u001b[32mangr.state_plugins.symbolic_memory\u001b[0m | \u001b[32mFilling register r12 with 8 unconstrained bytes referenced from 0x401338 (strings_not_equal+0x0 in bomb64 (0x401338))\u001b[0m\n",
      "WARNING | 2020-06-04 06:12:38,394 | \u001b[32mangr.state_plugins.symbolic_memory\u001b[0m | \u001b[32mFilling register r12 with 8 unconstrained bytes referenced from 0x401338 (strings_not_equal+0x0 in bomb64 (0x401338))\u001b[0m\n",
      "WARNING | 2020-06-04 06:12:39,714 | \u001b[32mangr.state_plugins.symbolic_memory\u001b[0m | \u001b[32mFilling register r12 with 8 unconstrained bytes referenced from 0x401338 (strings_not_equal+0x0 in bomb64 (0x401338))\u001b[0m\n",
      "WARNING | 2020-06-04 06:12:40,681 | \u001b[32mangr.state_plugins.symbolic_memory\u001b[0m | \u001b[32mFilling register r12 with 8 unconstrained bytes referenced from 0x401338 (strings_not_equal+0x0 in bomb64 (0x401338))\u001b[0m\n",
      "WARNING | 2020-06-04 06:12:41,918 | \u001b[32mangr.state_plugins.symbolic_memory\u001b[0m | \u001b[32mFilling register r12 with 8 unconstrained bytes referenced from 0x401338 (strings_not_equal+0x0 in bomb64 (0x401338))\u001b[0m\n",
      "WARNING | 2020-06-04 06:12:43,812 | \u001b[32mangr.state_plugins.symbolic_memory\u001b[0m | \u001b[32mFilling register r12 with 8 unconstrained bytes referenced from 0x401338 (strings_not_equal+0x0 in bomb64 (0x401338))\u001b[0m\n",
      "WARNING | 2020-06-04 06:12:44,831 | \u001b[32mangr.state_plugins.symbolic_memory\u001b[0m | \u001b[32mFilling register r12 with 8 unconstrained bytes referenced from 0x401338 (strings_not_equal+0x0 in bomb64 (0x401338))\u001b[0m\n",
      "WARNING | 2020-06-04 06:12:45,538 | \u001b[32mangr.state_plugins.symbolic_memory\u001b[0m | \u001b[32mFilling register r12 with 8 unconstrained bytes referenced from 0x401338 (strings_not_equal+0x0 in bomb64 (0x401338))\u001b[0m\n",
      "WARNING | 2020-06-04 06:12:46,749 | \u001b[32mangr.state_plugins.symbolic_memory\u001b[0m | \u001b[32mFilling register r12 with 8 unconstrained bytes referenced from 0x401338 (strings_not_equal+0x0 in bomb64 (0x401338))\u001b[0m\n",
      "WARNING | 2020-06-04 06:12:48,133 | \u001b[32mangr.state_plugins.symbolic_memory\u001b[0m | \u001b[32mFilling register r12 with 8 unconstrained bytes referenced from 0x401338 (strings_not_equal+0x0 in bomb64 (0x401338))\u001b[0m\n",
      "WARNING | 2020-06-04 06:12:49,155 | \u001b[32mangr.state_plugins.symbolic_memory\u001b[0m | \u001b[32mFilling register r12 with 8 unconstrained bytes referenced from 0x401338 (strings_not_equal+0x0 in bomb64 (0x401338))\u001b[0m\n",
      "WARNING | 2020-06-04 06:12:49,980 | \u001b[32mangr.state_plugins.symbolic_memory\u001b[0m | \u001b[32mFilling register r12 with 8 unconstrained bytes referenced from 0x401338 (strings_not_equal+0x0 in bomb64 (0x401338))\u001b[0m\n",
      "WARNING | 2020-06-04 06:12:51,361 | \u001b[32mangr.state_plugins.symbolic_memory\u001b[0m | \u001b[32mFilling register r12 with 8 unconstrained bytes referenced from 0x401338 (strings_not_equal+0x0 in bomb64 (0x401338))\u001b[0m\n",
      "WARNING | 2020-06-04 06:12:52,810 | \u001b[32mangr.state_plugins.symbolic_memory\u001b[0m | \u001b[32mFilling register r12 with 8 unconstrained bytes referenced from 0x401338 (strings_not_equal+0x0 in bomb64 (0x401338))\u001b[0m\n",
      "WARNING | 2020-06-04 06:12:54,050 | \u001b[32mangr.state_plugins.symbolic_memory\u001b[0m | \u001b[32mFilling register r12 with 8 unconstrained bytes referenced from 0x401338 (strings_not_equal+0x0 in bomb64 (0x401338))\u001b[0m\n",
      "WARNING | 2020-06-04 06:12:56,237 | \u001b[32mangr.state_plugins.symbolic_memory\u001b[0m | \u001b[32mFilling register r12 with 8 unconstrained bytes referenced from 0x401338 (strings_not_equal+0x0 in bomb64 (0x401338))\u001b[0m\n",
      "WARNING | 2020-06-04 06:12:57,212 | \u001b[32mangr.state_plugins.symbolic_memory\u001b[0m | \u001b[32mFilling register r12 with 8 unconstrained bytes referenced from 0x401338 (strings_not_equal+0x0 in bomb64 (0x401338))\u001b[0m\n",
      "WARNING | 2020-06-04 06:12:58,605 | \u001b[32mangr.state_plugins.symbolic_memory\u001b[0m | \u001b[32mFilling register r12 with 8 unconstrained bytes referenced from 0x401338 (strings_not_equal+0x0 in bomb64 (0x401338))\u001b[0m\n",
      "WARNING | 2020-06-04 06:13:00,465 | \u001b[32mangr.state_plugins.symbolic_memory\u001b[0m | \u001b[32mFilling register r12 with 8 unconstrained bytes referenced from 0x401338 (strings_not_equal+0x0 in bomb64 (0x401338))\u001b[0m\n",
      "WARNING | 2020-06-04 06:13:01,581 | \u001b[32mangr.state_plugins.symbolic_memory\u001b[0m | \u001b[32mFilling register r12 with 8 unconstrained bytes referenced from 0x401338 (strings_not_equal+0x0 in bomb64 (0x401338))\u001b[0m\n",
      "WARNING | 2020-06-04 06:13:02,638 | \u001b[32mangr.state_plugins.symbolic_memory\u001b[0m | \u001b[32mFilling register r12 with 8 unconstrained bytes referenced from 0x401338 (strings_not_equal+0x0 in bomb64 (0x401338))\u001b[0m\n",
      "WARNING | 2020-06-04 06:13:04,089 | \u001b[32mangr.state_plugins.symbolic_memory\u001b[0m | \u001b[32mFilling register r12 with 8 unconstrained bytes referenced from 0x401338 (strings_not_equal+0x0 in bomb64 (0x401338))\u001b[0m\n",
      "WARNING | 2020-06-04 06:13:05,246 | \u001b[32mangr.state_plugins.symbolic_memory\u001b[0m | \u001b[32mFilling register r12 with 8 unconstrained bytes referenced from 0x401338 (strings_not_equal+0x0 in bomb64 (0x401338))\u001b[0m\n",
      "WARNING | 2020-06-04 06:13:05,972 | \u001b[32mangr.state_plugins.symbolic_memory\u001b[0m | \u001b[32mFilling register r12 with 8 unconstrained bytes referenced from 0x401338 (strings_not_equal+0x0 in bomb64 (0x401338))\u001b[0m\n",
      "WARNING | 2020-06-04 06:13:07,038 | \u001b[32mangr.state_plugins.symbolic_memory\u001b[0m | \u001b[32mFilling register r12 with 8 unconstrained bytes referenced from 0x401338 (strings_not_equal+0x0 in bomb64 (0x401338))\u001b[0m\n",
      "WARNING | 2020-06-04 06:13:08,482 | \u001b[32mangr.state_plugins.symbolic_memory\u001b[0m | \u001b[32mFilling register r12 with 8 unconstrained bytes referenced from 0x401338 (strings_not_equal+0x0 in bomb64 (0x401338))\u001b[0m\n",
      "WARNING | 2020-06-04 06:13:09,562 | \u001b[32mangr.state_plugins.symbolic_memory\u001b[0m | \u001b[32mFilling register r12 with 8 unconstrained bytes referenced from 0x401338 (strings_not_equal+0x0 in bomb64 (0x401338))\u001b[0m\n",
      "WARNING | 2020-06-04 06:13:10,490 | \u001b[32mangr.state_plugins.symbolic_memory\u001b[0m | \u001b[32mFilling register r12 with 8 unconstrained bytes referenced from 0x401338 (strings_not_equal+0x0 in bomb64 (0x401338))\u001b[0m\n",
      "WARNING | 2020-06-04 06:13:11,750 | \u001b[32mangr.state_plugins.symbolic_memory\u001b[0m | \u001b[32mFilling register r12 with 8 unconstrained bytes referenced from 0x401338 (strings_not_equal+0x0 in bomb64 (0x401338))\u001b[0m\n",
      "WARNING | 2020-06-04 06:13:13,135 | \u001b[32mangr.state_plugins.symbolic_memory\u001b[0m | \u001b[32mFilling register r12 with 8 unconstrained bytes referenced from 0x401338 (strings_not_equal+0x0 in bomb64 (0x401338))\u001b[0m\n",
      "WARNING | 2020-06-04 06:13:14,530 | \u001b[32mangr.state_plugins.symbolic_memory\u001b[0m | \u001b[32mFilling register r12 with 8 unconstrained bytes referenced from 0x401338 (strings_not_equal+0x0 in bomb64 (0x401338))\u001b[0m\n",
      "WARNING | 2020-06-04 06:13:16,075 | \u001b[32mangr.state_plugins.symbolic_memory\u001b[0m | \u001b[32mFilling register r12 with 8 unconstrained bytes referenced from 0x401338 (strings_not_equal+0x0 in bomb64 (0x401338))\u001b[0m\n",
      "WARNING | 2020-06-04 06:13:17,296 | \u001b[32mangr.state_plugins.symbolic_memory\u001b[0m | \u001b[32mFilling register r12 with 8 unconstrained bytes referenced from 0x401338 (strings_not_equal+0x0 in bomb64 (0x401338))\u001b[0m\n",
      "WARNING | 2020-06-04 06:13:18,941 | \u001b[32mangr.state_plugins.symbolic_memory\u001b[0m | \u001b[32mFilling register r12 with 8 unconstrained bytes referenced from 0x401338 (strings_not_equal+0x0 in bomb64 (0x401338))\u001b[0m\n",
      "WARNING | 2020-06-04 06:13:20,160 | \u001b[32mangr.state_plugins.symbolic_memory\u001b[0m | \u001b[32mFilling register r12 with 8 unconstrained bytes referenced from 0x401338 (strings_not_equal+0x0 in bomb64 (0x401338))\u001b[0m\n",
      "WARNING | 2020-06-04 06:13:21,056 | \u001b[32mangr.state_plugins.symbolic_memory\u001b[0m | \u001b[32mFilling register r12 with 8 unconstrained bytes referenced from 0x401338 (strings_not_equal+0x0 in bomb64 (0x401338))\u001b[0m\n",
      "WARNING | 2020-06-04 06:13:23,366 | \u001b[32mangr.state_plugins.symbolic_memory\u001b[0m | \u001b[32mFilling register r12 with 8 unconstrained bytes referenced from 0x401338 (strings_not_equal+0x0 in bomb64 (0x401338))\u001b[0m\n",
      "WARNING | 2020-06-04 06:13:24,842 | \u001b[32mangr.state_plugins.symbolic_memory\u001b[0m | \u001b[32mFilling register r12 with 8 unconstrained bytes referenced from 0x401338 (strings_not_equal+0x0 in bomb64 (0x401338))\u001b[0m\n"
     ]
    },
    {
     "name": "stderr",
     "output_type": "stream",
     "text": [
      "WARNING | 2020-06-04 06:13:26,139 | \u001b[32mangr.state_plugins.symbolic_memory\u001b[0m | \u001b[32mFilling register r12 with 8 unconstrained bytes referenced from 0x401338 (strings_not_equal+0x0 in bomb64 (0x401338))\u001b[0m\n",
      "WARNING | 2020-06-04 06:13:27,246 | \u001b[32mangr.state_plugins.symbolic_memory\u001b[0m | \u001b[32mFilling register r12 with 8 unconstrained bytes referenced from 0x401338 (strings_not_equal+0x0 in bomb64 (0x401338))\u001b[0m\n",
      "WARNING | 2020-06-04 06:13:28,604 | \u001b[32mangr.state_plugins.symbolic_memory\u001b[0m | \u001b[32mFilling register r12 with 8 unconstrained bytes referenced from 0x401338 (strings_not_equal+0x0 in bomb64 (0x401338))\u001b[0m\n",
      "WARNING | 2020-06-04 06:13:30,046 | \u001b[32mangr.state_plugins.symbolic_memory\u001b[0m | \u001b[32mFilling register r12 with 8 unconstrained bytes referenced from 0x401338 (strings_not_equal+0x0 in bomb64 (0x401338))\u001b[0m\n",
      "WARNING | 2020-06-04 06:13:31,246 | \u001b[32mangr.state_plugins.symbolic_memory\u001b[0m | \u001b[32mFilling register r12 with 8 unconstrained bytes referenced from 0x401338 (strings_not_equal+0x0 in bomb64 (0x401338))\u001b[0m\n",
      "WARNING | 2020-06-04 06:13:32,172 | \u001b[32mangr.state_plugins.symbolic_memory\u001b[0m | \u001b[32mFilling register r12 with 8 unconstrained bytes referenced from 0x401338 (strings_not_equal+0x0 in bomb64 (0x401338))\u001b[0m\n",
      "WARNING | 2020-06-04 06:13:33,584 | \u001b[32mangr.state_plugins.symbolic_memory\u001b[0m | \u001b[32mFilling register r12 with 8 unconstrained bytes referenced from 0x401338 (strings_not_equal+0x0 in bomb64 (0x401338))\u001b[0m\n",
      "WARNING | 2020-06-04 06:13:35,322 | \u001b[32mangr.state_plugins.symbolic_memory\u001b[0m | \u001b[32mFilling register r12 with 8 unconstrained bytes referenced from 0x401338 (strings_not_equal+0x0 in bomb64 (0x401338))\u001b[0m\n",
      "WARNING | 2020-06-04 06:13:36,678 | \u001b[32mangr.state_plugins.symbolic_memory\u001b[0m | \u001b[32mFilling register r12 with 8 unconstrained bytes referenced from 0x401338 (strings_not_equal+0x0 in bomb64 (0x401338))\u001b[0m\n",
      "WARNING | 2020-06-04 06:13:37,771 | \u001b[32mangr.state_plugins.symbolic_memory\u001b[0m | \u001b[32mFilling register r12 with 8 unconstrained bytes referenced from 0x401338 (strings_not_equal+0x0 in bomb64 (0x401338))\u001b[0m\n",
      "WARNING | 2020-06-04 06:13:39,367 | \u001b[32mangr.state_plugins.symbolic_memory\u001b[0m | \u001b[32mFilling register r12 with 8 unconstrained bytes referenced from 0x401338 (strings_not_equal+0x0 in bomb64 (0x401338))\u001b[0m\n",
      "WARNING | 2020-06-04 06:13:41,223 | \u001b[32mangr.state_plugins.symbolic_memory\u001b[0m | \u001b[32mFilling register r12 with 8 unconstrained bytes referenced from 0x401338 (strings_not_equal+0x0 in bomb64 (0x401338))\u001b[0m\n",
      "WARNING | 2020-06-04 06:13:43,037 | \u001b[32mangr.state_plugins.symbolic_memory\u001b[0m | \u001b[32mFilling register r12 with 8 unconstrained bytes referenced from 0x401338 (strings_not_equal+0x0 in bomb64 (0x401338))\u001b[0m\n",
      "WARNING | 2020-06-04 06:13:44,380 | \u001b[32mangr.state_plugins.symbolic_memory\u001b[0m | \u001b[32mFilling register r12 with 8 unconstrained bytes referenced from 0x401338 (strings_not_equal+0x0 in bomb64 (0x401338))\u001b[0m\n",
      "WARNING | 2020-06-04 06:13:46,889 | \u001b[32mangr.state_plugins.symbolic_memory\u001b[0m | \u001b[32mFilling register r12 with 8 unconstrained bytes referenced from 0x401338 (strings_not_equal+0x0 in bomb64 (0x401338))\u001b[0m\n",
      "WARNING | 2020-06-04 06:13:48,951 | \u001b[32mangr.state_plugins.symbolic_memory\u001b[0m | \u001b[32mFilling register r12 with 8 unconstrained bytes referenced from 0x401338 (strings_not_equal+0x0 in bomb64 (0x401338))\u001b[0m\n",
      "WARNING | 2020-06-04 06:13:51,377 | \u001b[32mangr.state_plugins.symbolic_memory\u001b[0m | \u001b[32mFilling register r12 with 8 unconstrained bytes referenced from 0x401338 (strings_not_equal+0x0 in bomb64 (0x401338))\u001b[0m\n",
      "WARNING | 2020-06-04 06:13:55,243 | \u001b[32mangr.state_plugins.symbolic_memory\u001b[0m | \u001b[32mFilling register r12 with 8 unconstrained bytes referenced from 0x401338 (strings_not_equal+0x0 in bomb64 (0x401338))\u001b[0m\n",
      "WARNING | 2020-06-04 06:13:57,032 | \u001b[32mangr.state_plugins.symbolic_memory\u001b[0m | \u001b[32mFilling register r12 with 8 unconstrained bytes referenced from 0x401338 (strings_not_equal+0x0 in bomb64 (0x401338))\u001b[0m\n",
      "WARNING | 2020-06-04 06:13:59,231 | \u001b[32mangr.state_plugins.symbolic_memory\u001b[0m | \u001b[32mFilling register r12 with 8 unconstrained bytes referenced from 0x401338 (strings_not_equal+0x0 in bomb64 (0x401338))\u001b[0m\n",
      "WARNING | 2020-06-04 06:14:00,828 | \u001b[32mangr.state_plugins.symbolic_memory\u001b[0m | \u001b[32mFilling register r12 with 8 unconstrained bytes referenced from 0x401338 (strings_not_equal+0x0 in bomb64 (0x401338))\u001b[0m\n",
      "WARNING | 2020-06-04 06:14:02,588 | \u001b[32mangr.state_plugins.symbolic_memory\u001b[0m | \u001b[32mFilling register r12 with 8 unconstrained bytes referenced from 0x401338 (strings_not_equal+0x0 in bomb64 (0x401338))\u001b[0m\n",
      "WARNING | 2020-06-04 06:14:04,322 | \u001b[32mangr.state_plugins.symbolic_memory\u001b[0m | \u001b[32mFilling register r12 with 8 unconstrained bytes referenced from 0x401338 (strings_not_equal+0x0 in bomb64 (0x401338))\u001b[0m\n",
      "WARNING | 2020-06-04 06:14:06,519 | \u001b[32mangr.state_plugins.symbolic_memory\u001b[0m | \u001b[32mFilling register r12 with 8 unconstrained bytes referenced from 0x401338 (strings_not_equal+0x0 in bomb64 (0x401338))\u001b[0m\n",
      "WARNING | 2020-06-04 06:14:08,193 | \u001b[32mangr.state_plugins.symbolic_memory\u001b[0m | \u001b[32mFilling register r12 with 8 unconstrained bytes referenced from 0x401338 (strings_not_equal+0x0 in bomb64 (0x401338))\u001b[0m\n",
      "WARNING | 2020-06-04 06:14:09,520 | \u001b[32mangr.state_plugins.symbolic_memory\u001b[0m | \u001b[32mFilling register r12 with 8 unconstrained bytes referenced from 0x401338 (strings_not_equal+0x0 in bomb64 (0x401338))\u001b[0m\n",
      "WARNING | 2020-06-04 06:14:11,653 | \u001b[32mangr.state_plugins.symbolic_memory\u001b[0m | \u001b[32mFilling register r12 with 8 unconstrained bytes referenced from 0x401338 (strings_not_equal+0x0 in bomb64 (0x401338))\u001b[0m\n",
      "WARNING | 2020-06-04 06:14:13,890 | \u001b[32mangr.state_plugins.symbolic_memory\u001b[0m | \u001b[32mFilling register r12 with 8 unconstrained bytes referenced from 0x401338 (strings_not_equal+0x0 in bomb64 (0x401338))\u001b[0m\n",
      "WARNING | 2020-06-04 06:14:15,657 | \u001b[32mangr.state_plugins.symbolic_memory\u001b[0m | \u001b[32mFilling register r12 with 8 unconstrained bytes referenced from 0x401338 (strings_not_equal+0x0 in bomb64 (0x401338))\u001b[0m\n",
      "WARNING | 2020-06-04 06:14:17,083 | \u001b[32mangr.state_plugins.symbolic_memory\u001b[0m | \u001b[32mFilling register r12 with 8 unconstrained bytes referenced from 0x401338 (strings_not_equal+0x0 in bomb64 (0x401338))\u001b[0m\n",
      "WARNING | 2020-06-04 06:14:19,364 | \u001b[32mangr.state_plugins.symbolic_memory\u001b[0m | \u001b[32mFilling register r12 with 8 unconstrained bytes referenced from 0x401338 (strings_not_equal+0x0 in bomb64 (0x401338))\u001b[0m\n",
      "WARNING | 2020-06-04 06:14:22,606 | \u001b[32mangr.state_plugins.symbolic_memory\u001b[0m | \u001b[32mFilling register r12 with 8 unconstrained bytes referenced from 0x401338 (strings_not_equal+0x0 in bomb64 (0x401338))\u001b[0m\n",
      "WARNING | 2020-06-04 06:14:24,865 | \u001b[32mangr.state_plugins.symbolic_memory\u001b[0m | \u001b[32mFilling register r12 with 8 unconstrained bytes referenced from 0x401338 (strings_not_equal+0x0 in bomb64 (0x401338))\u001b[0m\n",
      "WARNING | 2020-06-04 06:14:27,989 | \u001b[32mangr.state_plugins.symbolic_memory\u001b[0m | \u001b[32mFilling register r12 with 8 unconstrained bytes referenced from 0x401338 (strings_not_equal+0x0 in bomb64 (0x401338))\u001b[0m\n",
      "WARNING | 2020-06-04 06:14:30,129 | \u001b[32mangr.state_plugins.symbolic_memory\u001b[0m | \u001b[32mFilling register r12 with 8 unconstrained bytes referenced from 0x401338 (strings_not_equal+0x0 in bomb64 (0x401338))\u001b[0m\n",
      "WARNING | 2020-06-04 06:14:32,709 | \u001b[32mangr.state_plugins.symbolic_memory\u001b[0m | \u001b[32mFilling register r12 with 8 unconstrained bytes referenced from 0x401338 (strings_not_equal+0x0 in bomb64 (0x401338))\u001b[0m\n",
      "WARNING | 2020-06-04 06:14:34,731 | \u001b[32mangr.state_plugins.symbolic_memory\u001b[0m | \u001b[32mFilling register r12 with 8 unconstrained bytes referenced from 0x401338 (strings_not_equal+0x0 in bomb64 (0x401338))\u001b[0m\n",
      "WARNING | 2020-06-04 06:14:36,552 | \u001b[32mangr.state_plugins.symbolic_memory\u001b[0m | \u001b[32mFilling register r12 with 8 unconstrained bytes referenced from 0x401338 (strings_not_equal+0x0 in bomb64 (0x401338))\u001b[0m\n",
      "WARNING | 2020-06-04 06:14:38,745 | \u001b[32mangr.state_plugins.symbolic_memory\u001b[0m | \u001b[32mFilling register r12 with 8 unconstrained bytes referenced from 0x401338 (strings_not_equal+0x0 in bomb64 (0x401338))\u001b[0m\n",
      "WARNING | 2020-06-04 06:14:41,383 | \u001b[32mangr.state_plugins.symbolic_memory\u001b[0m | \u001b[32mFilling register r12 with 8 unconstrained bytes referenced from 0x401338 (strings_not_equal+0x0 in bomb64 (0x401338))\u001b[0m\n"
     ]
    },
    {
     "name": "stderr",
     "output_type": "stream",
     "text": [
      "WARNING | 2020-06-04 06:14:43,503 | \u001b[32mangr.state_plugins.symbolic_memory\u001b[0m | \u001b[32mFilling register r12 with 8 unconstrained bytes referenced from 0x401338 (strings_not_equal+0x0 in bomb64 (0x401338))\u001b[0m\n",
      "WARNING | 2020-06-04 06:14:45,150 | \u001b[32mangr.state_plugins.symbolic_memory\u001b[0m | \u001b[32mFilling register r12 with 8 unconstrained bytes referenced from 0x401338 (strings_not_equal+0x0 in bomb64 (0x401338))\u001b[0m\n",
      "WARNING | 2020-06-04 06:14:47,852 | \u001b[32mangr.state_plugins.symbolic_memory\u001b[0m | \u001b[32mFilling register r12 with 8 unconstrained bytes referenced from 0x401338 (strings_not_equal+0x0 in bomb64 (0x401338))\u001b[0m\n",
      "WARNING | 2020-06-04 06:14:50,550 | \u001b[32mangr.state_plugins.symbolic_memory\u001b[0m | \u001b[32mFilling register r12 with 8 unconstrained bytes referenced from 0x401338 (strings_not_equal+0x0 in bomb64 (0x401338))\u001b[0m\n",
      "WARNING | 2020-06-04 06:14:52,633 | \u001b[32mangr.state_plugins.symbolic_memory\u001b[0m | \u001b[32mFilling register r12 with 8 unconstrained bytes referenced from 0x401338 (strings_not_equal+0x0 in bomb64 (0x401338))\u001b[0m\n",
      "WARNING | 2020-06-04 06:14:54,795 | \u001b[32mangr.state_plugins.symbolic_memory\u001b[0m | \u001b[32mFilling register r12 with 8 unconstrained bytes referenced from 0x401338 (strings_not_equal+0x0 in bomb64 (0x401338))\u001b[0m\n",
      "WARNING | 2020-06-04 06:14:56,930 | \u001b[32mangr.state_plugins.symbolic_memory\u001b[0m | \u001b[32mFilling register r12 with 8 unconstrained bytes referenced from 0x401338 (strings_not_equal+0x0 in bomb64 (0x401338))\u001b[0m\n",
      "WARNING | 2020-06-04 06:14:59,559 | \u001b[32mangr.state_plugins.symbolic_memory\u001b[0m | \u001b[32mFilling register r12 with 8 unconstrained bytes referenced from 0x401338 (strings_not_equal+0x0 in bomb64 (0x401338))\u001b[0m\n",
      "WARNING | 2020-06-04 06:15:01,725 | \u001b[32mangr.state_plugins.symbolic_memory\u001b[0m | \u001b[32mFilling register r12 with 8 unconstrained bytes referenced from 0x401338 (strings_not_equal+0x0 in bomb64 (0x401338))\u001b[0m\n",
      "WARNING | 2020-06-04 06:15:03,349 | \u001b[32mangr.state_plugins.symbolic_memory\u001b[0m | \u001b[32mFilling register r12 with 8 unconstrained bytes referenced from 0x401338 (strings_not_equal+0x0 in bomb64 (0x401338))\u001b[0m\n",
      "WARNING | 2020-06-04 06:15:05,468 | \u001b[32mangr.state_plugins.symbolic_memory\u001b[0m | \u001b[32mFilling register r12 with 8 unconstrained bytes referenced from 0x401338 (strings_not_equal+0x0 in bomb64 (0x401338))\u001b[0m\n",
      "WARNING | 2020-06-04 06:15:08,689 | \u001b[32mangr.state_plugins.symbolic_memory\u001b[0m | \u001b[32mFilling register r12 with 8 unconstrained bytes referenced from 0x401338 (strings_not_equal+0x0 in bomb64 (0x401338))\u001b[0m\n",
      "WARNING | 2020-06-04 06:15:11,048 | \u001b[32mangr.state_plugins.symbolic_memory\u001b[0m | \u001b[32mFilling register r12 with 8 unconstrained bytes referenced from 0x401338 (strings_not_equal+0x0 in bomb64 (0x401338))\u001b[0m\n",
      "WARNING | 2020-06-04 06:15:13,069 | \u001b[32mangr.state_plugins.symbolic_memory\u001b[0m | \u001b[32mFilling register r12 with 8 unconstrained bytes referenced from 0x401338 (strings_not_equal+0x0 in bomb64 (0x401338))\u001b[0m\n",
      "WARNING | 2020-06-04 06:15:15,411 | \u001b[32mangr.state_plugins.symbolic_memory\u001b[0m | \u001b[32mFilling register r12 with 8 unconstrained bytes referenced from 0x401338 (strings_not_equal+0x0 in bomb64 (0x401338))\u001b[0m\n",
      "WARNING | 2020-06-04 06:15:17,981 | \u001b[32mangr.state_plugins.symbolic_memory\u001b[0m | \u001b[32mFilling register r12 with 8 unconstrained bytes referenced from 0x401338 (strings_not_equal+0x0 in bomb64 (0x401338))\u001b[0m\n",
      "WARNING | 2020-06-04 06:15:20,098 | \u001b[32mangr.state_plugins.symbolic_memory\u001b[0m | \u001b[32mFilling register r12 with 8 unconstrained bytes referenced from 0x401338 (strings_not_equal+0x0 in bomb64 (0x401338))\u001b[0m\n",
      "WARNING | 2020-06-04 06:15:24,562 | \u001b[32mangr.state_plugins.symbolic_memory\u001b[0m | \u001b[32mFilling register r12 with 8 unconstrained bytes referenced from 0x401338 (strings_not_equal+0x0 in bomb64 (0x401338))\u001b[0m\n",
      "WARNING | 2020-06-04 06:15:28,198 | \u001b[32mangr.state_plugins.symbolic_memory\u001b[0m | \u001b[32mFilling register r12 with 8 unconstrained bytes referenced from 0x401338 (strings_not_equal+0x0 in bomb64 (0x401338))\u001b[0m\n",
      "WARNING | 2020-06-04 06:15:30,986 | \u001b[32mangr.state_plugins.symbolic_memory\u001b[0m | \u001b[32mFilling register r12 with 8 unconstrained bytes referenced from 0x401338 (strings_not_equal+0x0 in bomb64 (0x401338))\u001b[0m\n",
      "WARNING | 2020-06-04 06:15:33,261 | \u001b[32mangr.state_plugins.symbolic_memory\u001b[0m | \u001b[32mFilling register r12 with 8 unconstrained bytes referenced from 0x401338 (strings_not_equal+0x0 in bomb64 (0x401338))\u001b[0m\n",
      "WARNING | 2020-06-04 06:15:35,602 | \u001b[32mangr.state_plugins.symbolic_memory\u001b[0m | \u001b[32mFilling register r12 with 8 unconstrained bytes referenced from 0x401338 (strings_not_equal+0x0 in bomb64 (0x401338))\u001b[0m\n",
      "WARNING | 2020-06-04 06:15:38,140 | \u001b[32mangr.state_plugins.symbolic_memory\u001b[0m | \u001b[32mFilling register r12 with 8 unconstrained bytes referenced from 0x401338 (strings_not_equal+0x0 in bomb64 (0x401338))\u001b[0m\n",
      "WARNING | 2020-06-04 06:15:40,858 | \u001b[32mangr.state_plugins.symbolic_memory\u001b[0m | \u001b[32mFilling register r12 with 8 unconstrained bytes referenced from 0x401338 (strings_not_equal+0x0 in bomb64 (0x401338))\u001b[0m\n",
      "WARNING | 2020-06-04 06:15:43,517 | \u001b[32mangr.state_plugins.symbolic_memory\u001b[0m | \u001b[32mFilling register r12 with 8 unconstrained bytes referenced from 0x401338 (strings_not_equal+0x0 in bomb64 (0x401338))\u001b[0m\n",
      "WARNING | 2020-06-04 06:15:45,456 | \u001b[32mangr.state_plugins.symbolic_memory\u001b[0m | \u001b[32mFilling register r12 with 8 unconstrained bytes referenced from 0x401338 (strings_not_equal+0x0 in bomb64 (0x401338))\u001b[0m\n",
      "WARNING | 2020-06-04 06:15:47,896 | \u001b[32mangr.state_plugins.symbolic_memory\u001b[0m | \u001b[32mFilling register r12 with 8 unconstrained bytes referenced from 0x401338 (strings_not_equal+0x0 in bomb64 (0x401338))\u001b[0m\n",
      "WARNING | 2020-06-04 06:15:51,118 | \u001b[32mangr.state_plugins.symbolic_memory\u001b[0m | \u001b[32mFilling register r12 with 8 unconstrained bytes referenced from 0x401338 (strings_not_equal+0x0 in bomb64 (0x401338))\u001b[0m\n",
      "WARNING | 2020-06-04 06:15:54,471 | \u001b[32mangr.state_plugins.symbolic_memory\u001b[0m | \u001b[32mFilling register r12 with 8 unconstrained bytes referenced from 0x401338 (strings_not_equal+0x0 in bomb64 (0x401338))\u001b[0m\n",
      "WARNING | 2020-06-04 06:15:56,606 | \u001b[32mangr.state_plugins.symbolic_memory\u001b[0m | \u001b[32mFilling register r12 with 8 unconstrained bytes referenced from 0x401338 (strings_not_equal+0x0 in bomb64 (0x401338))\u001b[0m\n",
      "WARNING | 2020-06-04 06:15:59,083 | \u001b[32mangr.state_plugins.symbolic_memory\u001b[0m | \u001b[32mFilling register r12 with 8 unconstrained bytes referenced from 0x401338 (strings_not_equal+0x0 in bomb64 (0x401338))\u001b[0m\n",
      "WARNING | 2020-06-04 06:16:02,234 | \u001b[32mangr.state_plugins.symbolic_memory\u001b[0m | \u001b[32mFilling register r12 with 8 unconstrained bytes referenced from 0x401338 (strings_not_equal+0x0 in bomb64 (0x401338))\u001b[0m\n",
      "WARNING | 2020-06-04 06:16:04,967 | \u001b[32mangr.state_plugins.symbolic_memory\u001b[0m | \u001b[32mFilling register r12 with 8 unconstrained bytes referenced from 0x401338 (strings_not_equal+0x0 in bomb64 (0x401338))\u001b[0m\n",
      "WARNING | 2020-06-04 06:16:08,626 | \u001b[32mangr.state_plugins.symbolic_memory\u001b[0m | \u001b[32mFilling register r12 with 8 unconstrained bytes referenced from 0x401338 (strings_not_equal+0x0 in bomb64 (0x401338))\u001b[0m\n",
      "WARNING | 2020-06-04 06:16:12,104 | \u001b[32mangr.state_plugins.symbolic_memory\u001b[0m | \u001b[32mFilling register r12 with 8 unconstrained bytes referenced from 0x401338 (strings_not_equal+0x0 in bomb64 (0x401338))\u001b[0m\n",
      "WARNING | 2020-06-04 06:16:15,159 | \u001b[32mangr.state_plugins.symbolic_memory\u001b[0m | \u001b[32mFilling register r12 with 8 unconstrained bytes referenced from 0x401338 (strings_not_equal+0x0 in bomb64 (0x401338))\u001b[0m\n",
      "WARNING | 2020-06-04 06:16:17,601 | \u001b[32mangr.state_plugins.symbolic_memory\u001b[0m | \u001b[32mFilling register r12 with 8 unconstrained bytes referenced from 0x401338 (strings_not_equal+0x0 in bomb64 (0x401338))\u001b[0m\n",
      "WARNING | 2020-06-04 06:16:19,688 | \u001b[32mangr.state_plugins.symbolic_memory\u001b[0m | \u001b[32mFilling register r12 with 8 unconstrained bytes referenced from 0x401338 (strings_not_equal+0x0 in bomb64 (0x401338))\u001b[0m\n",
      "WARNING | 2020-06-04 06:16:22,239 | \u001b[32mangr.state_plugins.symbolic_memory\u001b[0m | \u001b[32mFilling register r12 with 8 unconstrained bytes referenced from 0x401338 (strings_not_equal+0x0 in bomb64 (0x401338))\u001b[0m\n",
      "WARNING | 2020-06-04 06:16:25,246 | \u001b[32mangr.state_plugins.symbolic_memory\u001b[0m | \u001b[32mFilling register r12 with 8 unconstrained bytes referenced from 0x401338 (strings_not_equal+0x0 in bomb64 (0x401338))\u001b[0m\n"
     ]
    },
    {
     "name": "stderr",
     "output_type": "stream",
     "text": [
      "WARNING | 2020-06-04 06:16:27,853 | \u001b[32mangr.state_plugins.symbolic_memory\u001b[0m | \u001b[32mFilling register r12 with 8 unconstrained bytes referenced from 0x401338 (strings_not_equal+0x0 in bomb64 (0x401338))\u001b[0m\n",
      "WARNING | 2020-06-04 06:16:29,936 | \u001b[32mangr.state_plugins.symbolic_memory\u001b[0m | \u001b[32mFilling register r12 with 8 unconstrained bytes referenced from 0x401338 (strings_not_equal+0x0 in bomb64 (0x401338))\u001b[0m\n",
      "WARNING | 2020-06-04 06:16:32,576 | \u001b[32mangr.state_plugins.symbolic_memory\u001b[0m | \u001b[32mFilling register r12 with 8 unconstrained bytes referenced from 0x401338 (strings_not_equal+0x0 in bomb64 (0x401338))\u001b[0m\n",
      "WARNING | 2020-06-04 06:16:36,172 | \u001b[32mangr.state_plugins.symbolic_memory\u001b[0m | \u001b[32mFilling register r12 with 8 unconstrained bytes referenced from 0x401338 (strings_not_equal+0x0 in bomb64 (0x401338))\u001b[0m\n",
      "WARNING | 2020-06-04 06:16:38,810 | \u001b[32mangr.state_plugins.symbolic_memory\u001b[0m | \u001b[32mFilling register r12 with 8 unconstrained bytes referenced from 0x401338 (strings_not_equal+0x0 in bomb64 (0x401338))\u001b[0m\n",
      "WARNING | 2020-06-04 06:16:41,116 | \u001b[32mangr.state_plugins.symbolic_memory\u001b[0m | \u001b[32mFilling register r12 with 8 unconstrained bytes referenced from 0x401338 (strings_not_equal+0x0 in bomb64 (0x401338))\u001b[0m\n",
      "WARNING | 2020-06-04 06:16:43,880 | \u001b[32mangr.state_plugins.symbolic_memory\u001b[0m | \u001b[32mFilling register r12 with 8 unconstrained bytes referenced from 0x401338 (strings_not_equal+0x0 in bomb64 (0x401338))\u001b[0m\n",
      "WARNING | 2020-06-04 06:16:46,918 | \u001b[32mangr.state_plugins.symbolic_memory\u001b[0m | \u001b[32mFilling register r12 with 8 unconstrained bytes referenced from 0x401338 (strings_not_equal+0x0 in bomb64 (0x401338))\u001b[0m\n",
      "WARNING | 2020-06-04 06:16:49,624 | \u001b[32mangr.state_plugins.symbolic_memory\u001b[0m | \u001b[32mFilling register r12 with 8 unconstrained bytes referenced from 0x401338 (strings_not_equal+0x0 in bomb64 (0x401338))\u001b[0m\n",
      "WARNING | 2020-06-04 06:16:51,922 | \u001b[32mangr.state_plugins.symbolic_memory\u001b[0m | \u001b[32mFilling register r12 with 8 unconstrained bytes referenced from 0x401338 (strings_not_equal+0x0 in bomb64 (0x401338))\u001b[0m\n",
      "WARNING | 2020-06-04 06:16:54,921 | \u001b[32mangr.state_plugins.symbolic_memory\u001b[0m | \u001b[32mFilling register r12 with 8 unconstrained bytes referenced from 0x401338 (strings_not_equal+0x0 in bomb64 (0x401338))\u001b[0m\n",
      "WARNING | 2020-06-04 06:16:58,229 | \u001b[32mangr.state_plugins.symbolic_memory\u001b[0m | \u001b[32mFilling register r12 with 8 unconstrained bytes referenced from 0x401338 (strings_not_equal+0x0 in bomb64 (0x401338))\u001b[0m\n",
      "WARNING | 2020-06-04 06:17:00,906 | \u001b[32mangr.state_plugins.symbolic_memory\u001b[0m | \u001b[32mFilling register r12 with 8 unconstrained bytes referenced from 0x401338 (strings_not_equal+0x0 in bomb64 (0x401338))\u001b[0m\n",
      "WARNING | 2020-06-04 06:17:03,186 | \u001b[32mangr.state_plugins.symbolic_memory\u001b[0m | \u001b[32mFilling register r12 with 8 unconstrained bytes referenced from 0x401338 (strings_not_equal+0x0 in bomb64 (0x401338))\u001b[0m\n",
      "WARNING | 2020-06-04 06:17:06,125 | \u001b[32mangr.state_plugins.symbolic_memory\u001b[0m | \u001b[32mFilling register r12 with 8 unconstrained bytes referenced from 0x401338 (strings_not_equal+0x0 in bomb64 (0x401338))\u001b[0m\n",
      "WARNING | 2020-06-04 06:17:09,585 | \u001b[32mangr.state_plugins.symbolic_memory\u001b[0m | \u001b[32mFilling register r12 with 8 unconstrained bytes referenced from 0x401338 (strings_not_equal+0x0 in bomb64 (0x401338))\u001b[0m\n",
      "WARNING | 2020-06-04 06:17:12,381 | \u001b[32mangr.state_plugins.symbolic_memory\u001b[0m | \u001b[32mFilling register r12 with 8 unconstrained bytes referenced from 0x401338 (strings_not_equal+0x0 in bomb64 (0x401338))\u001b[0m\n",
      "WARNING | 2020-06-04 06:17:17,939 | \u001b[32mangr.state_plugins.symbolic_memory\u001b[0m | \u001b[32mFilling register r12 with 8 unconstrained bytes referenced from 0x401338 (strings_not_equal+0x0 in bomb64 (0x401338))\u001b[0m\n",
      "WARNING | 2020-06-04 06:17:20,722 | \u001b[32mangr.state_plugins.symbolic_memory\u001b[0m | \u001b[32mFilling register r12 with 8 unconstrained bytes referenced from 0x401338 (strings_not_equal+0x0 in bomb64 (0x401338))\u001b[0m\n",
      "WARNING | 2020-06-04 06:17:24,210 | \u001b[32mangr.state_plugins.symbolic_memory\u001b[0m | \u001b[32mFilling register r12 with 8 unconstrained bytes referenced from 0x401338 (strings_not_equal+0x0 in bomb64 (0x401338))\u001b[0m\n",
      "WARNING | 2020-06-04 06:17:27,143 | \u001b[32mangr.state_plugins.symbolic_memory\u001b[0m | \u001b[32mFilling register r12 with 8 unconstrained bytes referenced from 0x401338 (strings_not_equal+0x0 in bomb64 (0x401338))\u001b[0m\n",
      "WARNING | 2020-06-04 06:17:30,692 | \u001b[32mangr.state_plugins.symbolic_memory\u001b[0m | \u001b[32mFilling register r12 with 8 unconstrained bytes referenced from 0x401338 (strings_not_equal+0x0 in bomb64 (0x401338))\u001b[0m\n",
      "WARNING | 2020-06-04 06:17:33,725 | \u001b[32mangr.state_plugins.symbolic_memory\u001b[0m | \u001b[32mFilling register r12 with 8 unconstrained bytes referenced from 0x401338 (strings_not_equal+0x0 in bomb64 (0x401338))\u001b[0m\n",
      "WARNING | 2020-06-04 06:17:37,179 | \u001b[32mangr.state_plugins.symbolic_memory\u001b[0m | \u001b[32mFilling register r12 with 8 unconstrained bytes referenced from 0x401338 (strings_not_equal+0x0 in bomb64 (0x401338))\u001b[0m\n",
      "WARNING | 2020-06-04 06:17:39,990 | \u001b[32mangr.state_plugins.symbolic_memory\u001b[0m | \u001b[32mFilling register r12 with 8 unconstrained bytes referenced from 0x401338 (strings_not_equal+0x0 in bomb64 (0x401338))\u001b[0m\n",
      "WARNING | 2020-06-04 06:17:42,466 | \u001b[32mangr.state_plugins.symbolic_memory\u001b[0m | \u001b[32mFilling register r12 with 8 unconstrained bytes referenced from 0x401338 (strings_not_equal+0x0 in bomb64 (0x401338))\u001b[0m\n",
      "WARNING | 2020-06-04 06:17:45,370 | \u001b[32mangr.state_plugins.symbolic_memory\u001b[0m | \u001b[32mFilling register r12 with 8 unconstrained bytes referenced from 0x401338 (strings_not_equal+0x0 in bomb64 (0x401338))\u001b[0m\n",
      "WARNING | 2020-06-04 06:17:48,744 | \u001b[32mangr.state_plugins.symbolic_memory\u001b[0m | \u001b[32mFilling register r12 with 8 unconstrained bytes referenced from 0x401338 (strings_not_equal+0x0 in bomb64 (0x401338))\u001b[0m\n",
      "WARNING | 2020-06-04 06:17:51,930 | \u001b[32mangr.state_plugins.symbolic_memory\u001b[0m | \u001b[32mFilling register r12 with 8 unconstrained bytes referenced from 0x401338 (strings_not_equal+0x0 in bomb64 (0x401338))\u001b[0m\n",
      "WARNING | 2020-06-04 06:17:54,840 | \u001b[32mangr.state_plugins.symbolic_memory\u001b[0m | \u001b[32mFilling register r12 with 8 unconstrained bytes referenced from 0x401338 (strings_not_equal+0x0 in bomb64 (0x401338))\u001b[0m\n",
      "WARNING | 2020-06-04 06:17:58,037 | \u001b[32mangr.state_plugins.symbolic_memory\u001b[0m | \u001b[32mFilling register r12 with 8 unconstrained bytes referenced from 0x401338 (strings_not_equal+0x0 in bomb64 (0x401338))\u001b[0m\n",
      "WARNING | 2020-06-04 06:18:01,809 | \u001b[32mangr.state_plugins.symbolic_memory\u001b[0m | \u001b[32mFilling register r12 with 8 unconstrained bytes referenced from 0x401338 (strings_not_equal+0x0 in bomb64 (0x401338))\u001b[0m\n",
      "WARNING | 2020-06-04 06:18:05,550 | \u001b[32mangr.state_plugins.symbolic_memory\u001b[0m | \u001b[32mFilling register r12 with 8 unconstrained bytes referenced from 0x401338 (strings_not_equal+0x0 in bomb64 (0x401338))\u001b[0m\n",
      "WARNING | 2020-06-04 06:18:09,400 | \u001b[32mangr.state_plugins.symbolic_memory\u001b[0m | \u001b[32mFilling register r12 with 8 unconstrained bytes referenced from 0x401338 (strings_not_equal+0x0 in bomb64 (0x401338))\u001b[0m\n",
      "WARNING | 2020-06-04 06:18:13,446 | \u001b[32mangr.state_plugins.symbolic_memory\u001b[0m | \u001b[32mFilling register r12 with 8 unconstrained bytes referenced from 0x401338 (strings_not_equal+0x0 in bomb64 (0x401338))\u001b[0m\n",
      "WARNING | 2020-06-04 06:18:17,613 | \u001b[32mangr.state_plugins.symbolic_memory\u001b[0m | \u001b[32mFilling register r12 with 8 unconstrained bytes referenced from 0x401338 (strings_not_equal+0x0 in bomb64 (0x401338))\u001b[0m\n",
      "WARNING | 2020-06-04 06:18:20,693 | \u001b[32mangr.state_plugins.symbolic_memory\u001b[0m | \u001b[32mFilling register r12 with 8 unconstrained bytes referenced from 0x401338 (strings_not_equal+0x0 in bomb64 (0x401338))\u001b[0m\n",
      "WARNING | 2020-06-04 06:18:23,434 | \u001b[32mangr.state_plugins.symbolic_memory\u001b[0m | \u001b[32mFilling register r12 with 8 unconstrained bytes referenced from 0x401338 (strings_not_equal+0x0 in bomb64 (0x401338))\u001b[0m\n",
      "WARNING | 2020-06-04 06:18:28,923 | \u001b[32mangr.state_plugins.symbolic_memory\u001b[0m | \u001b[32mFilling register r12 with 8 unconstrained bytes referenced from 0x401338 (strings_not_equal+0x0 in bomb64 (0x401338))\u001b[0m\n",
      "WARNING | 2020-06-04 06:18:32,817 | \u001b[32mangr.state_plugins.symbolic_memory\u001b[0m | \u001b[32mFilling register r12 with 8 unconstrained bytes referenced from 0x401338 (strings_not_equal+0x0 in bomb64 (0x401338))\u001b[0m\n"
     ]
    },
    {
     "name": "stderr",
     "output_type": "stream",
     "text": [
      "WARNING | 2020-06-04 06:18:36,672 | \u001b[32mangr.state_plugins.symbolic_memory\u001b[0m | \u001b[32mFilling register r12 with 8 unconstrained bytes referenced from 0x401338 (strings_not_equal+0x0 in bomb64 (0x401338))\u001b[0m\n",
      "WARNING | 2020-06-04 06:18:40,033 | \u001b[32mangr.state_plugins.symbolic_memory\u001b[0m | \u001b[32mFilling register r12 with 8 unconstrained bytes referenced from 0x401338 (strings_not_equal+0x0 in bomb64 (0x401338))\u001b[0m\n",
      "WARNING | 2020-06-04 06:18:43,970 | \u001b[32mangr.state_plugins.symbolic_memory\u001b[0m | \u001b[32mFilling register r12 with 8 unconstrained bytes referenced from 0x401338 (strings_not_equal+0x0 in bomb64 (0x401338))\u001b[0m\n",
      "WARNING | 2020-06-04 06:18:48,129 | \u001b[32mangr.state_plugins.symbolic_memory\u001b[0m | \u001b[32mFilling register r12 with 8 unconstrained bytes referenced from 0x401338 (strings_not_equal+0x0 in bomb64 (0x401338))\u001b[0m\n",
      "WARNING | 2020-06-04 06:18:51,945 | \u001b[32mangr.state_plugins.symbolic_memory\u001b[0m | \u001b[32mFilling register r12 with 8 unconstrained bytes referenced from 0x401338 (strings_not_equal+0x0 in bomb64 (0x401338))\u001b[0m\n",
      "WARNING | 2020-06-04 06:18:55,098 | \u001b[32mangr.state_plugins.symbolic_memory\u001b[0m | \u001b[32mFilling register r12 with 8 unconstrained bytes referenced from 0x401338 (strings_not_equal+0x0 in bomb64 (0x401338))\u001b[0m\n",
      "WARNING | 2020-06-04 06:18:58,590 | \u001b[32mangr.state_plugins.symbolic_memory\u001b[0m | \u001b[32mFilling register r12 with 8 unconstrained bytes referenced from 0x401338 (strings_not_equal+0x0 in bomb64 (0x401338))\u001b[0m\n",
      "WARNING | 2020-06-04 06:19:02,465 | \u001b[32mangr.state_plugins.symbolic_memory\u001b[0m | \u001b[32mFilling register r12 with 8 unconstrained bytes referenced from 0x401338 (strings_not_equal+0x0 in bomb64 (0x401338))\u001b[0m\n",
      "WARNING | 2020-06-04 06:19:05,986 | \u001b[32mangr.state_plugins.symbolic_memory\u001b[0m | \u001b[32mFilling register r12 with 8 unconstrained bytes referenced from 0x401338 (strings_not_equal+0x0 in bomb64 (0x401338))\u001b[0m\n",
      "WARNING | 2020-06-04 06:19:08,982 | \u001b[32mangr.state_plugins.symbolic_memory\u001b[0m | \u001b[32mFilling register r12 with 8 unconstrained bytes referenced from 0x401338 (strings_not_equal+0x0 in bomb64 (0x401338))\u001b[0m\n",
      "WARNING | 2020-06-04 06:19:12,617 | \u001b[32mangr.state_plugins.symbolic_memory\u001b[0m | \u001b[32mFilling register r12 with 8 unconstrained bytes referenced from 0x401338 (strings_not_equal+0x0 in bomb64 (0x401338))\u001b[0m\n",
      "WARNING | 2020-06-04 06:19:17,202 | \u001b[32mangr.state_plugins.symbolic_memory\u001b[0m | \u001b[32mFilling register r12 with 8 unconstrained bytes referenced from 0x401338 (strings_not_equal+0x0 in bomb64 (0x401338))\u001b[0m\n",
      "WARNING | 2020-06-04 06:19:20,558 | \u001b[32mangr.state_plugins.symbolic_memory\u001b[0m | \u001b[32mFilling register r12 with 8 unconstrained bytes referenced from 0x401338 (strings_not_equal+0x0 in bomb64 (0x401338))\u001b[0m\n",
      "WARNING | 2020-06-04 06:19:23,484 | \u001b[32mangr.state_plugins.symbolic_memory\u001b[0m | \u001b[32mFilling register r12 with 8 unconstrained bytes referenced from 0x401338 (strings_not_equal+0x0 in bomb64 (0x401338))\u001b[0m\n",
      "WARNING | 2020-06-04 06:19:28,857 | \u001b[32mangr.state_plugins.symbolic_memory\u001b[0m | \u001b[32mFilling register r12 with 8 unconstrained bytes referenced from 0x401338 (strings_not_equal+0x0 in bomb64 (0x401338))\u001b[0m\n",
      "WARNING | 2020-06-04 06:19:33,078 | \u001b[32mangr.state_plugins.symbolic_memory\u001b[0m | \u001b[32mFilling register r12 with 8 unconstrained bytes referenced from 0x401338 (strings_not_equal+0x0 in bomb64 (0x401338))\u001b[0m\n",
      "WARNING | 2020-06-04 06:19:36,474 | \u001b[32mangr.state_plugins.symbolic_memory\u001b[0m | \u001b[32mFilling register r12 with 8 unconstrained bytes referenced from 0x401338 (strings_not_equal+0x0 in bomb64 (0x401338))\u001b[0m\n",
      "WARNING | 2020-06-04 06:19:45,387 | \u001b[32mangr.state_plugins.symbolic_memory\u001b[0m | \u001b[32mFilling register r12 with 8 unconstrained bytes referenced from 0x401338 (strings_not_equal+0x0 in bomb64 (0x401338))\u001b[0m\n",
      "WARNING | 2020-06-04 06:19:48,956 | \u001b[32mangr.state_plugins.symbolic_memory\u001b[0m | \u001b[32mFilling register r12 with 8 unconstrained bytes referenced from 0x401338 (strings_not_equal+0x0 in bomb64 (0x401338))\u001b[0m\n",
      "WARNING | 2020-06-04 06:19:52,946 | \u001b[32mangr.state_plugins.symbolic_memory\u001b[0m | \u001b[32mFilling register r12 with 8 unconstrained bytes referenced from 0x401338 (strings_not_equal+0x0 in bomb64 (0x401338))\u001b[0m\n",
      "WARNING | 2020-06-04 06:19:56,305 | \u001b[32mangr.state_plugins.symbolic_memory\u001b[0m | \u001b[32mFilling register r12 with 8 unconstrained bytes referenced from 0x401338 (strings_not_equal+0x0 in bomb64 (0x401338))\u001b[0m\n",
      "WARNING | 2020-06-04 06:20:00,577 | \u001b[32mangr.state_plugins.symbolic_memory\u001b[0m | \u001b[32mFilling register r12 with 8 unconstrained bytes referenced from 0x401338 (strings_not_equal+0x0 in bomb64 (0x401338))\u001b[0m\n",
      "WARNING | 2020-06-04 06:20:04,760 | \u001b[32mangr.state_plugins.symbolic_memory\u001b[0m | \u001b[32mFilling register r12 with 8 unconstrained bytes referenced from 0x401338 (strings_not_equal+0x0 in bomb64 (0x401338))\u001b[0m\n",
      "WARNING | 2020-06-04 06:20:09,726 | \u001b[32mangr.state_plugins.symbolic_memory\u001b[0m | \u001b[32mFilling register r12 with 8 unconstrained bytes referenced from 0x401338 (strings_not_equal+0x0 in bomb64 (0x401338))\u001b[0m\n",
      "WARNING | 2020-06-04 06:20:14,117 | \u001b[32mangr.state_plugins.symbolic_memory\u001b[0m | \u001b[32mFilling register r12 with 8 unconstrained bytes referenced from 0x401338 (strings_not_equal+0x0 in bomb64 (0x401338))\u001b[0m\n",
      "WARNING | 2020-06-04 06:20:17,270 | \u001b[32mangr.state_plugins.symbolic_memory\u001b[0m | \u001b[32mFilling register r12 with 8 unconstrained bytes referenced from 0x401338 (strings_not_equal+0x0 in bomb64 (0x401338))\u001b[0m\n",
      "WARNING | 2020-06-04 06:20:20,651 | \u001b[32mangr.state_plugins.symbolic_memory\u001b[0m | \u001b[32mFilling register r12 with 8 unconstrained bytes referenced from 0x401338 (strings_not_equal+0x0 in bomb64 (0x401338))\u001b[0m\n",
      "WARNING | 2020-06-04 06:20:25,983 | \u001b[32mangr.state_plugins.symbolic_memory\u001b[0m | \u001b[32mFilling register r12 with 8 unconstrained bytes referenced from 0x401338 (strings_not_equal+0x0 in bomb64 (0x401338))\u001b[0m\n",
      "WARNING | 2020-06-04 06:20:29,248 | \u001b[32mangr.state_plugins.symbolic_memory\u001b[0m | \u001b[32mFilling register r12 with 8 unconstrained bytes referenced from 0x401338 (strings_not_equal+0x0 in bomb64 (0x401338))\u001b[0m\n",
      "WARNING | 2020-06-04 06:20:31,777 | \u001b[32mangr.state_plugins.symbolic_memory\u001b[0m | \u001b[32mFilling register r12 with 8 unconstrained bytes referenced from 0x401338 (strings_not_equal+0x0 in bomb64 (0x401338))\u001b[0m\n",
      "WARNING | 2020-06-04 06:20:35,087 | \u001b[32mangr.state_plugins.symbolic_memory\u001b[0m | \u001b[32mFilling register r12 with 8 unconstrained bytes referenced from 0x401338 (strings_not_equal+0x0 in bomb64 (0x401338))\u001b[0m\n",
      "WARNING | 2020-06-04 06:20:38,972 | \u001b[32mangr.state_plugins.symbolic_memory\u001b[0m | \u001b[32mFilling register r12 with 8 unconstrained bytes referenced from 0x401338 (strings_not_equal+0x0 in bomb64 (0x401338))\u001b[0m\n",
      "WARNING | 2020-06-04 06:20:42,488 | \u001b[32mangr.state_plugins.symbolic_memory\u001b[0m | \u001b[32mFilling register r12 with 8 unconstrained bytes referenced from 0x401338 (strings_not_equal+0x0 in bomb64 (0x401338))\u001b[0m\n",
      "WARNING | 2020-06-04 06:20:48,102 | \u001b[32mangr.state_plugins.symbolic_memory\u001b[0m | \u001b[32mFilling register r12 with 8 unconstrained bytes referenced from 0x401338 (strings_not_equal+0x0 in bomb64 (0x401338))\u001b[0m\n",
      "WARNING | 2020-06-04 06:20:52,246 | \u001b[32mangr.state_plugins.symbolic_memory\u001b[0m | \u001b[32mFilling register r12 with 8 unconstrained bytes referenced from 0x401338 (strings_not_equal+0x0 in bomb64 (0x401338))\u001b[0m\n",
      "WARNING | 2020-06-04 06:20:56,530 | \u001b[32mangr.state_plugins.symbolic_memory\u001b[0m | \u001b[32mFilling register r12 with 8 unconstrained bytes referenced from 0x401338 (strings_not_equal+0x0 in bomb64 (0x401338))\u001b[0m\n",
      "WARNING | 2020-06-04 06:21:00,044 | \u001b[32mangr.state_plugins.symbolic_memory\u001b[0m | \u001b[32mFilling register r12 with 8 unconstrained bytes referenced from 0x401338 (strings_not_equal+0x0 in bomb64 (0x401338))\u001b[0m\n",
      "WARNING | 2020-06-04 06:21:03,161 | \u001b[32mangr.state_plugins.symbolic_memory\u001b[0m | \u001b[32mFilling register r12 with 8 unconstrained bytes referenced from 0x401338 (strings_not_equal+0x0 in bomb64 (0x401338))\u001b[0m\n",
      "WARNING | 2020-06-04 06:21:07,112 | \u001b[32mangr.state_plugins.symbolic_memory\u001b[0m | \u001b[32mFilling register r12 with 8 unconstrained bytes referenced from 0x401338 (strings_not_equal+0x0 in bomb64 (0x401338))\u001b[0m\n",
      "WARNING | 2020-06-04 06:21:11,861 | \u001b[32mangr.state_plugins.symbolic_memory\u001b[0m | \u001b[32mFilling register r12 with 8 unconstrained bytes referenced from 0x401338 (strings_not_equal+0x0 in bomb64 (0x401338))\u001b[0m\n"
     ]
    },
    {
     "name": "stderr",
     "output_type": "stream",
     "text": [
      "WARNING | 2020-06-04 06:21:16,569 | \u001b[32mangr.state_plugins.symbolic_memory\u001b[0m | \u001b[32mFilling register r12 with 8 unconstrained bytes referenced from 0x401338 (strings_not_equal+0x0 in bomb64 (0x401338))\u001b[0m\n",
      "WARNING | 2020-06-04 06:21:20,347 | \u001b[32mangr.state_plugins.symbolic_memory\u001b[0m | \u001b[32mFilling register r12 with 8 unconstrained bytes referenced from 0x401338 (strings_not_equal+0x0 in bomb64 (0x401338))\u001b[0m\n",
      "WARNING | 2020-06-04 06:21:25,125 | \u001b[32mangr.state_plugins.symbolic_memory\u001b[0m | \u001b[32mFilling register r12 with 8 unconstrained bytes referenced from 0x401338 (strings_not_equal+0x0 in bomb64 (0x401338))\u001b[0m\n",
      "WARNING | 2020-06-04 06:21:30,598 | \u001b[32mangr.state_plugins.symbolic_memory\u001b[0m | \u001b[32mFilling register r12 with 8 unconstrained bytes referenced from 0x401338 (strings_not_equal+0x0 in bomb64 (0x401338))\u001b[0m\n",
      "WARNING | 2020-06-04 06:21:34,385 | \u001b[32mangr.state_plugins.symbolic_memory\u001b[0m | \u001b[32mFilling register r12 with 8 unconstrained bytes referenced from 0x401338 (strings_not_equal+0x0 in bomb64 (0x401338))\u001b[0m\n",
      "WARNING | 2020-06-04 06:21:38,130 | \u001b[32mangr.state_plugins.symbolic_memory\u001b[0m | \u001b[32mFilling register r12 with 8 unconstrained bytes referenced from 0x401338 (strings_not_equal+0x0 in bomb64 (0x401338))\u001b[0m\n",
      "WARNING | 2020-06-04 06:21:42,087 | \u001b[32mangr.state_plugins.symbolic_memory\u001b[0m | \u001b[32mFilling register r12 with 8 unconstrained bytes referenced from 0x401338 (strings_not_equal+0x0 in bomb64 (0x401338))\u001b[0m\n",
      "WARNING | 2020-06-04 06:21:46,424 | \u001b[32mangr.state_plugins.symbolic_memory\u001b[0m | \u001b[32mFilling register r12 with 8 unconstrained bytes referenced from 0x401338 (strings_not_equal+0x0 in bomb64 (0x401338))\u001b[0m\n",
      "WARNING | 2020-06-04 06:21:50,157 | \u001b[32mangr.state_plugins.symbolic_memory\u001b[0m | \u001b[32mFilling register r12 with 8 unconstrained bytes referenced from 0x401338 (strings_not_equal+0x0 in bomb64 (0x401338))\u001b[0m\n",
      "WARNING | 2020-06-04 06:21:53,360 | \u001b[32mangr.state_plugins.symbolic_memory\u001b[0m | \u001b[32mFilling register r12 with 8 unconstrained bytes referenced from 0x401338 (strings_not_equal+0x0 in bomb64 (0x401338))\u001b[0m\n",
      "WARNING | 2020-06-04 06:21:57,802 | \u001b[32mangr.state_plugins.symbolic_memory\u001b[0m | \u001b[32mFilling register r12 with 8 unconstrained bytes referenced from 0x401338 (strings_not_equal+0x0 in bomb64 (0x401338))\u001b[0m\n",
      "WARNING | 2020-06-04 06:22:02,280 | \u001b[32mangr.state_plugins.symbolic_memory\u001b[0m | \u001b[32mFilling register r12 with 8 unconstrained bytes referenced from 0x401338 (strings_not_equal+0x0 in bomb64 (0x401338))\u001b[0m\n",
      "WARNING | 2020-06-04 06:22:06,146 | \u001b[32mangr.state_plugins.symbolic_memory\u001b[0m | \u001b[32mFilling register r12 with 8 unconstrained bytes referenced from 0x401338 (strings_not_equal+0x0 in bomb64 (0x401338))\u001b[0m\n",
      "WARNING | 2020-06-04 06:22:09,545 | \u001b[32mangr.state_plugins.symbolic_memory\u001b[0m | \u001b[32mFilling register r12 with 8 unconstrained bytes referenced from 0x401338 (strings_not_equal+0x0 in bomb64 (0x401338))\u001b[0m\n",
      "WARNING | 2020-06-04 06:22:13,542 | \u001b[32mangr.state_plugins.symbolic_memory\u001b[0m | \u001b[32mFilling register r12 with 8 unconstrained bytes referenced from 0x401338 (strings_not_equal+0x0 in bomb64 (0x401338))\u001b[0m\n",
      "WARNING | 2020-06-04 06:22:18,106 | \u001b[32mangr.state_plugins.symbolic_memory\u001b[0m | \u001b[32mFilling register r12 with 8 unconstrained bytes referenced from 0x401338 (strings_not_equal+0x0 in bomb64 (0x401338))\u001b[0m\n",
      "WARNING | 2020-06-04 06:22:22,455 | \u001b[32mangr.state_plugins.symbolic_memory\u001b[0m | \u001b[32mFilling register r12 with 8 unconstrained bytes referenced from 0x401338 (strings_not_equal+0x0 in bomb64 (0x401338))\u001b[0m\n",
      "WARNING | 2020-06-04 06:22:30,640 | \u001b[32mangr.state_plugins.symbolic_memory\u001b[0m | \u001b[32mFilling register r12 with 8 unconstrained bytes referenced from 0x401338 (strings_not_equal+0x0 in bomb64 (0x401338))\u001b[0m\n",
      "WARNING | 2020-06-04 06:22:37,359 | \u001b[32mangr.state_plugins.symbolic_memory\u001b[0m | \u001b[32mFilling register r12 with 8 unconstrained bytes referenced from 0x401338 (strings_not_equal+0x0 in bomb64 (0x401338))\u001b[0m\n",
      "WARNING | 2020-06-04 06:22:42,363 | \u001b[32mangr.state_plugins.symbolic_memory\u001b[0m | \u001b[32mFilling register r12 with 8 unconstrained bytes referenced from 0x401338 (strings_not_equal+0x0 in bomb64 (0x401338))\u001b[0m\n",
      "WARNING | 2020-06-04 06:22:46,371 | \u001b[32mangr.state_plugins.symbolic_memory\u001b[0m | \u001b[32mFilling register r12 with 8 unconstrained bytes referenced from 0x401338 (strings_not_equal+0x0 in bomb64 (0x401338))\u001b[0m\n",
      "WARNING | 2020-06-04 06:22:51,805 | \u001b[32mangr.state_plugins.symbolic_memory\u001b[0m | \u001b[32mFilling register r12 with 8 unconstrained bytes referenced from 0x401338 (strings_not_equal+0x0 in bomb64 (0x401338))\u001b[0m\n",
      "WARNING | 2020-06-04 06:22:56,238 | \u001b[32mangr.state_plugins.symbolic_memory\u001b[0m | \u001b[32mFilling register r12 with 8 unconstrained bytes referenced from 0x401338 (strings_not_equal+0x0 in bomb64 (0x401338))\u001b[0m\n",
      "WARNING | 2020-06-04 06:23:00,786 | \u001b[32mangr.state_plugins.symbolic_memory\u001b[0m | \u001b[32mFilling register r12 with 8 unconstrained bytes referenced from 0x401338 (strings_not_equal+0x0 in bomb64 (0x401338))\u001b[0m\n",
      "WARNING | 2020-06-04 06:23:05,098 | \u001b[32mangr.state_plugins.symbolic_memory\u001b[0m | \u001b[32mFilling register r12 with 8 unconstrained bytes referenced from 0x401338 (strings_not_equal+0x0 in bomb64 (0x401338))\u001b[0m\n",
      "WARNING | 2020-06-04 06:23:08,522 | \u001b[32mangr.state_plugins.symbolic_memory\u001b[0m | \u001b[32mFilling register r12 with 8 unconstrained bytes referenced from 0x401338 (strings_not_equal+0x0 in bomb64 (0x401338))\u001b[0m\n",
      "WARNING | 2020-06-04 06:23:17,354 | \u001b[32mangr.state_plugins.symbolic_memory\u001b[0m | \u001b[32mFilling register r12 with 8 unconstrained bytes referenced from 0x401338 (strings_not_equal+0x0 in bomb64 (0x401338))\u001b[0m\n",
      "WARNING | 2020-06-04 06:23:21,497 | \u001b[32mangr.state_plugins.symbolic_memory\u001b[0m | \u001b[32mFilling register r12 with 8 unconstrained bytes referenced from 0x401338 (strings_not_equal+0x0 in bomb64 (0x401338))\u001b[0m\n",
      "WARNING | 2020-06-04 06:23:25,033 | \u001b[32mangr.state_plugins.symbolic_memory\u001b[0m | \u001b[32mFilling register r12 with 8 unconstrained bytes referenced from 0x401338 (strings_not_equal+0x0 in bomb64 (0x401338))\u001b[0m\n",
      "WARNING | 2020-06-04 06:23:34,486 | \u001b[32mangr.state_plugins.symbolic_memory\u001b[0m | \u001b[32mFilling register r12 with 8 unconstrained bytes referenced from 0x401338 (strings_not_equal+0x0 in bomb64 (0x401338))\u001b[0m\n",
      "WARNING | 2020-06-04 06:23:38,851 | \u001b[32mangr.state_plugins.symbolic_memory\u001b[0m | \u001b[32mFilling register r12 with 8 unconstrained bytes referenced from 0x401338 (strings_not_equal+0x0 in bomb64 (0x401338))\u001b[0m\n",
      "WARNING | 2020-06-04 06:23:44,730 | \u001b[32mangr.state_plugins.symbolic_memory\u001b[0m | \u001b[32mFilling register r12 with 8 unconstrained bytes referenced from 0x401338 (strings_not_equal+0x0 in bomb64 (0x401338))\u001b[0m\n",
      "WARNING | 2020-06-04 06:23:55,663 | \u001b[32mangr.state_plugins.symbolic_memory\u001b[0m | \u001b[32mFilling register r12 with 8 unconstrained bytes referenced from 0x401338 (strings_not_equal+0x0 in bomb64 (0x401338))\u001b[0m\n",
      "WARNING | 2020-06-04 06:24:00,771 | \u001b[32mangr.state_plugins.symbolic_memory\u001b[0m | \u001b[32mFilling register r12 with 8 unconstrained bytes referenced from 0x401338 (strings_not_equal+0x0 in bomb64 (0x401338))\u001b[0m\n",
      "WARNING | 2020-06-04 06:24:04,350 | \u001b[32mangr.state_plugins.symbolic_memory\u001b[0m | \u001b[32mFilling register r12 with 8 unconstrained bytes referenced from 0x401338 (strings_not_equal+0x0 in bomb64 (0x401338))\u001b[0m\n",
      "WARNING | 2020-06-04 06:24:13,471 | \u001b[32mangr.state_plugins.symbolic_memory\u001b[0m | \u001b[32mFilling register r12 with 8 unconstrained bytes referenced from 0x401338 (strings_not_equal+0x0 in bomb64 (0x401338))\u001b[0m\n",
      "WARNING | 2020-06-04 06:24:17,981 | \u001b[32mangr.state_plugins.symbolic_memory\u001b[0m | \u001b[32mFilling register r12 with 8 unconstrained bytes referenced from 0x401338 (strings_not_equal+0x0 in bomb64 (0x401338))\u001b[0m\n",
      "WARNING | 2020-06-04 06:24:22,941 | \u001b[32mangr.state_plugins.symbolic_memory\u001b[0m | \u001b[32mFilling register r12 with 8 unconstrained bytes referenced from 0x401338 (strings_not_equal+0x0 in bomb64 (0x401338))\u001b[0m\n",
      "WARNING | 2020-06-04 06:24:34,727 | \u001b[32mangr.state_plugins.symbolic_memory\u001b[0m | \u001b[32mFilling register r12 with 8 unconstrained bytes referenced from 0x401338 (strings_not_equal+0x0 in bomb64 (0x401338))\u001b[0m\n",
      "WARNING | 2020-06-04 06:24:39,720 | \u001b[32mangr.state_plugins.symbolic_memory\u001b[0m | \u001b[32mFilling register r12 with 8 unconstrained bytes referenced from 0x401338 (strings_not_equal+0x0 in bomb64 (0x401338))\u001b[0m\n"
     ]
    },
    {
     "name": "stderr",
     "output_type": "stream",
     "text": [
      "WARNING | 2020-06-04 06:24:58,416 | \u001b[32mangr.state_plugins.symbolic_memory\u001b[0m | \u001b[32mFilling register r12 with 8 unconstrained bytes referenced from 0x401338 (strings_not_equal+0x0 in bomb64 (0x401338))\u001b[0m\n",
      "WARNING | 2020-06-04 06:25:16,309 | \u001b[32mangr.state_plugins.symbolic_memory\u001b[0m | \u001b[32mFilling register r12 with 8 unconstrained bytes referenced from 0x401338 (strings_not_equal+0x0 in bomb64 (0x401338))\u001b[0m\n",
      "WARNING | 2020-06-04 06:25:35,082 | \u001b[32mangr.state_plugins.symbolic_memory\u001b[0m | \u001b[32mFilling register r12 with 8 unconstrained bytes referenced from 0x401338 (strings_not_equal+0x0 in bomb64 (0x401338))\u001b[0m\n",
      "WARNING | 2020-06-04 06:25:58,761 | \u001b[32mangr.state_plugins.symbolic_memory\u001b[0m | \u001b[32mFilling register r12 with 8 unconstrained bytes referenced from 0x401338 (strings_not_equal+0x0 in bomb64 (0x401338))\u001b[0m\n",
      "WARNING | 2020-06-04 06:26:18,887 | \u001b[32mangr.state_plugins.symbolic_memory\u001b[0m | \u001b[32mFilling register r12 with 8 unconstrained bytes referenced from 0x401338 (strings_not_equal+0x0 in bomb64 (0x401338))\u001b[0m\n"
     ]
    },
    {
     "data": {
      "text/plain": [
       "<SimulationManager with 6 active, 1 deadended, 1 found, 520 avoid (1 errored)>"
      ]
     },
     "execution_count": 7,
     "metadata": {},
     "output_type": "execute_result"
    }
   ],
   "source": [
    "simgr.explore(find=addr_target, avoid=addr_bomb)"
   ]
  },
  {
   "cell_type": "markdown",
   "metadata": {},
   "source": [
    "We dereference the execution path \"found\" by the simulation manager and dump the output."
   ]
  },
  {
   "cell_type": "code",
   "execution_count": 8,
   "metadata": {},
   "outputs": [],
   "source": [
    "found_path = simgr.found[0]"
   ]
  },
  {
   "cell_type": "code",
   "execution_count": 9,
   "metadata": {},
   "outputs": [
    {
     "data": {
      "text/plain": [
       "b'Border relations with Canada have never been better.\\xff\\x00\\xf5\\xf5\\xf5\\xf5\\xf5\\xf5\\xf5\\xf5\\xf5\\xf5\\xf5\\xf5\\xf5\\xf5\\xf5\\xf5\\xf5\\xf5\\xf5\\xf5\\xf5\\xf5\\xf5\\x00'"
      ]
     },
     "execution_count": 9,
     "metadata": {},
     "output_type": "execute_result"
    }
   ],
   "source": [
    "found_path.solver.eval(user_input, cast_to=bytes)"
   ]
  },
  {
   "cell_type": "markdown",
   "metadata": {},
   "source": [
    "Voilà! There's the input we need to give to pass the first phase. The trailing bytes seem to be padding to fulfill the criteria of 78 string length, should be ignored."
   ]
  },
  {
   "cell_type": "markdown",
   "metadata": {},
   "source": [
    "### Approach 2: Targeted Walk"
   ]
  },
  {
   "cell_type": "markdown",
   "metadata": {},
   "source": [
    "This approach is targeted, based on our knowledge of the inside workings of the function. We add a hook to the function and dump the values in the memory to find out the string against which the user input is compared."
   ]
  },
  {
   "cell_type": "markdown",
   "metadata": {},
   "source": [
    "The last approach took too long, which led me to believe I could definitely work something out if I wrote a script tailored for this function. Since this approach is a targeted one, it only takes seconds to yield results."
   ]
  },
  {
   "cell_type": "markdown",
   "metadata": {},
   "source": [
    "Load the binary."
   ]
  },
  {
   "cell_type": "code",
   "execution_count": 10,
   "metadata": {},
   "outputs": [],
   "source": [
    "project_approach_2 = angr.Project('bomb64')"
   ]
  },
  {
   "cell_type": "markdown",
   "metadata": {},
   "source": [
    "Define the address for the start of the execution path."
   ]
  },
  {
   "cell_type": "code",
   "execution_count": 11,
   "metadata": {},
   "outputs": [],
   "source": [
    "# The address where the symbolic execution shall begin. It is the beginning of the binary.\n",
    "addr_start = 0x400DA0\n",
    "\n",
    "# The address where the hook will be established.\n",
    "# It is right before the string comparison function.\n",
    "# Dumps it's arguments and finds out the reference string.\n",
    "addr_hook = 0x400EE9"
   ]
  },
  {
   "cell_type": "markdown",
   "metadata": {},
   "source": [
    "Define a blank state for the simulation, a state with most of it's data uninitialized. Pass the address where the state is initialized, along with the user input to be given via standard input."
   ]
  },
  {
   "cell_type": "code",
   "execution_count": 12,
   "metadata": {},
   "outputs": [],
   "source": [
    "state = project_approach_2.factory.blank_state(addr=addr_start)"
   ]
  },
  {
   "cell_type": "markdown",
   "metadata": {},
   "source": [
    "We define and add the hook to the function."
   ]
  },
  {
   "cell_type": "code",
   "execution_count": 13,
   "metadata": {},
   "outputs": [],
   "source": [
    "# Takes the state as initialiser.\n",
    "class HookClass(angr.SimProcedure):\n",
    "    def run(self):\n",
    "        # Dumps the address of the argument to \"strings_not_equal\" function from the register.\n",
    "        addr = self.state.regs.esi\n",
    "        # Dereferences the address of the string and prints it.\n",
    "        print(self.state.mem[addr].string.concrete)\n",
    "        return 0\n",
    "\n",
    "# Adds the hook to the execution flow.\n",
    "project_approach_2.hook(addr_hook, HookClass())"
   ]
  },
  {
   "cell_type": "markdown",
   "metadata": {},
   "source": [
    "Create a simulation manager with this blank state that would help us manage the symbolic execution."
   ]
  },
  {
   "cell_type": "code",
   "execution_count": 14,
   "metadata": {},
   "outputs": [],
   "source": [
    "simgr = project_approach_2.factory.simulation_manager(state)"
   ]
  },
  {
   "cell_type": "markdown",
   "metadata": {},
   "source": [
    "Run the simulation manager so as to walk over various states."
   ]
  },
  {
   "cell_type": "code",
   "execution_count": 15,
   "metadata": {},
   "outputs": [
    {
     "name": "stderr",
     "output_type": "stream",
     "text": [
      "WARNING | 2020-06-04 07:30:18,672 | \u001b[32mangr.state_plugins.symbolic_memory\u001b[0m | \u001b[32mFilling register rbx with 8 unconstrained bytes referenced from 0x400da0 (main+0x0 in bomb64 (0x400da0))\u001b[0m\n",
      "WARNING | 2020-06-04 07:30:18,675 | \u001b[32mangr.state_plugins.symbolic_memory\u001b[0m | \u001b[32mFilling register rdi with 8 unconstrained bytes referenced from 0x400da0 (main+0x0 in bomb64 (0x400da0))\u001b[0m\n",
      "WARNING | 2020-06-04 07:30:18,746 | \u001b[32mangr.state_plugins.symbolic_memory\u001b[0m | \u001b[32mFilling register rsi with 8 unconstrained bytes referenced from 0x400db6 (main+0x16 in bomb64 (0x400db6))\u001b[0m\n",
      "WARNING | 2020-06-04 07:30:18,973 | \u001b[32mangr.state_plugins.symbolic_memory\u001b[0m | \u001b[32mFilling memory at 0xffffffc000000008 with 8 unconstrained bytes referenced from 0x400dbe (main+0x1e in bomb64 (0x400dbe))\u001b[0m\n",
      "WARNING | 2020-06-04 07:30:19,129 | \u001b[32mangr.state_plugins.symbolic_memory\u001b[0m | \u001b[32mFilling memory at 0xffffffc000000000 with 8 unconstrained bytes referenced from 0x400df8 (main+0x58 in bomb64 (0x400df8))\u001b[0m\n",
      "WARNING | 2020-06-04 07:30:19,292 | \u001b[32mangr.state_plugins.symbolic_memory\u001b[0m | \u001b[32mFilling memory at 0xffff000000000000 with 256 unconstrained bytes referenced from 0x775b40 (_IO_fopen@@GLIBC_2.2.5+0x0 in libc.so.6 (0x75b40))\u001b[0m\n",
      "WARNING | 2020-06-04 07:30:19,431 | \u001b[33mangr.state_plugins.posix\u001b[0m | \u001b[33mTrying to open unknown file b'\\x00\\x00\\x00\\x00\\x00\\x00\\x00\\x00\\x00\\x00\\x00\\x00\\x00\\x00\\x00\\x00\\x00\\x00\\x00\\x00\\x00\\x00\\x00\\x00\\x00\\x00\\x00\\x00\\x00\\x00\\x00\\x00\\x00\\x00\\x00\\x00\\x00\\x00\\x00\\x00\\x00\\x00\\x00\\x00\\x00\\x00\\x00\\x00\\x00\\x00\\x00\\x00\\x00\\x00\\x00\\x00\\x00\\x00\\x00' - created a symbolic file since ALL_FILES_EXIST is set\u001b[0m\n",
      "WARNING | 2020-06-04 07:30:19,844 | \u001b[32mangr.state_plugins.symbolic_memory\u001b[0m | \u001b[32mFilling memory at 0xffffffffffffff00 with 256 unconstrained bytes referenced from 0x80dd70 (__printf_chk+0x0 in libc.so.6 (0x10dd70))\u001b[0m\n",
      "WARNING | 2020-06-04 07:30:20,594 | \u001b[32mangr.state_plugins.symbolic_memory\u001b[0m | \u001b[32mFilling memory at 0x7fffffffffefde0 with 8 unconstrained bytes referenced from 0x73c4d6 (__libc_sigaction+0xe6 in libc.so.6 (0x3c4d6))\u001b[0m\n",
      "WARNING | 2020-06-04 07:30:20,595 | \u001b[32mangr.state_plugins.symbolic_memory\u001b[0m | \u001b[32mFilling memory at 0x7fffffffffefdf8 with 16 unconstrained bytes referenced from 0x73c4de (__libc_sigaction+0xee in libc.so.6 (0x3c4de))\u001b[0m\n",
      "WARNING | 2020-06-04 07:30:20,597 | \u001b[32mangr.state_plugins.symbolic_memory\u001b[0m | \u001b[32mFilling memory at 0x7fffffffffefe08 with 16 unconstrained bytes referenced from 0x73c4e7 (__libc_sigaction+0xf7 in libc.so.6 (0x3c4e7))\u001b[0m\n",
      "WARNING | 2020-06-04 07:30:20,599 | \u001b[32mangr.state_plugins.symbolic_memory\u001b[0m | \u001b[32mFilling memory at 0x7fffffffffefe18 with 16 unconstrained bytes referenced from 0x73c4f0 (__libc_sigaction+0x100 in libc.so.6 (0x3c4f0))\u001b[0m\n",
      "WARNING | 2020-06-04 07:30:20,602 | \u001b[32mangr.state_plugins.symbolic_memory\u001b[0m | \u001b[32mFilling memory at 0x7fffffffffefe28 with 16 unconstrained bytes referenced from 0x73c4f9 (__libc_sigaction+0x109 in libc.so.6 (0x3c4f9))\u001b[0m\n",
      "WARNING | 2020-06-04 07:30:20,604 | \u001b[32mangr.state_plugins.symbolic_memory\u001b[0m | \u001b[32mFilling memory at 0x7fffffffffefde8 with 8 unconstrained bytes referenced from 0x73c505 (__libc_sigaction+0x115 in libc.so.6 (0x3c505))\u001b[0m\n",
      "WARNING | 2020-06-04 07:30:20,607 | \u001b[32mangr.state_plugins.symbolic_memory\u001b[0m | \u001b[32mFilling memory at 0x7fffffffffefe38 with 16 unconstrained bytes referenced from 0x73c512 (__libc_sigaction+0x122 in libc.so.6 (0x3c512))\u001b[0m\n",
      "WARNING | 2020-06-04 07:30:20,608 | \u001b[32mangr.state_plugins.symbolic_memory\u001b[0m | \u001b[32mFilling memory at 0x7fffffffffefe48 with 16 unconstrained bytes referenced from 0x73c51b (__libc_sigaction+0x12b in libc.so.6 (0x3c51b))\u001b[0m\n",
      "WARNING | 2020-06-04 07:30:20,611 | \u001b[32mangr.state_plugins.symbolic_memory\u001b[0m | \u001b[32mFilling memory at 0x7fffffffffefe58 with 16 unconstrained bytes referenced from 0x73c529 (__libc_sigaction+0x139 in libc.so.6 (0x3c529))\u001b[0m\n",
      "WARNING | 2020-06-04 07:30:20,614 | \u001b[32mangr.state_plugins.symbolic_memory\u001b[0m | \u001b[32mFilling memory at 0x7fffffffffefe68 with 16 unconstrained bytes referenced from 0x73c532 (__libc_sigaction+0x142 in libc.so.6 (0x3c532))\u001b[0m\n",
      "WARNING | 2020-06-04 07:30:20,620 | \u001b[32mangr.state_plugins.symbolic_memory\u001b[0m | \u001b[32mFilling memory at 0x7fffffffffefdf0 with 8 unconstrained bytes referenced from 0x73c542 (__libc_sigaction+0x152 in libc.so.6 (0x3c542))\u001b[0m\n",
      "WARNING | 2020-06-04 07:30:20,685 | \u001b[32mangr.state_plugins.symbolic_memory\u001b[0m | \u001b[32mFilling memory at 0x7fffffffffefde0 with 8 unconstrained bytes referenced from 0x73c4d6 (__libc_sigaction+0xe6 in libc.so.6 (0x3c4d6))\u001b[0m\n",
      "WARNING | 2020-06-04 07:30:20,686 | \u001b[32mangr.state_plugins.symbolic_memory\u001b[0m | \u001b[32mFilling memory at 0x7fffffffffefdf8 with 16 unconstrained bytes referenced from 0x73c4de (__libc_sigaction+0xee in libc.so.6 (0x3c4de))\u001b[0m\n",
      "WARNING | 2020-06-04 07:30:20,688 | \u001b[32mangr.state_plugins.symbolic_memory\u001b[0m | \u001b[32mFilling memory at 0x7fffffffffefe08 with 16 unconstrained bytes referenced from 0x73c4e7 (__libc_sigaction+0xf7 in libc.so.6 (0x3c4e7))\u001b[0m\n",
      "WARNING | 2020-06-04 07:30:20,691 | \u001b[32mangr.state_plugins.symbolic_memory\u001b[0m | \u001b[32mFilling memory at 0x7fffffffffefe18 with 16 unconstrained bytes referenced from 0x73c4f0 (__libc_sigaction+0x100 in libc.so.6 (0x3c4f0))\u001b[0m\n",
      "WARNING | 2020-06-04 07:30:20,693 | \u001b[32mangr.state_plugins.symbolic_memory\u001b[0m | \u001b[32mFilling memory at 0x7fffffffffefe28 with 16 unconstrained bytes referenced from 0x73c4f9 (__libc_sigaction+0x109 in libc.so.6 (0x3c4f9))\u001b[0m\n",
      "WARNING | 2020-06-04 07:30:20,695 | \u001b[32mangr.state_plugins.symbolic_memory\u001b[0m | \u001b[32mFilling memory at 0x7fffffffffefde8 with 8 unconstrained bytes referenced from 0x73c505 (__libc_sigaction+0x115 in libc.so.6 (0x3c505))\u001b[0m\n",
      "WARNING | 2020-06-04 07:30:20,698 | \u001b[32mangr.state_plugins.symbolic_memory\u001b[0m | \u001b[32mFilling memory at 0x7fffffffffefe38 with 16 unconstrained bytes referenced from 0x73c512 (__libc_sigaction+0x122 in libc.so.6 (0x3c512))\u001b[0m\n",
      "WARNING | 2020-06-04 07:30:20,700 | \u001b[32mangr.state_plugins.symbolic_memory\u001b[0m | \u001b[32mFilling memory at 0x7fffffffffefe48 with 16 unconstrained bytes referenced from 0x73c51b (__libc_sigaction+0x12b in libc.so.6 (0x3c51b))\u001b[0m\n",
      "WARNING | 2020-06-04 07:30:20,703 | \u001b[32mangr.state_plugins.symbolic_memory\u001b[0m | \u001b[32mFilling memory at 0x7fffffffffefe58 with 16 unconstrained bytes referenced from 0x73c529 (__libc_sigaction+0x139 in libc.so.6 (0x3c529))\u001b[0m\n",
      "WARNING | 2020-06-04 07:30:20,706 | \u001b[32mangr.state_plugins.symbolic_memory\u001b[0m | \u001b[32mFilling memory at 0x7fffffffffefe68 with 16 unconstrained bytes referenced from 0x73c532 (__libc_sigaction+0x142 in libc.so.6 (0x3c532))\u001b[0m\n",
      "WARNING | 2020-06-04 07:30:20,711 | \u001b[32mangr.state_plugins.symbolic_memory\u001b[0m | \u001b[32mFilling memory at 0x7fffffffffefdf0 with 8 unconstrained bytes referenced from 0x73c542 (__libc_sigaction+0x152 in libc.so.6 (0x3c542))\u001b[0m\n",
      "WARNING | 2020-06-04 07:30:20,941 | \u001b[32mangr.state_plugins.symbolic_memory\u001b[0m | \u001b[32mFilling register rbp with 8 unconstrained bytes referenced from 0x4013bc (blank_line+0x0 in bomb64 (0x4013bc))\u001b[0m\n",
      "WARNING | 2020-06-04 07:30:20,948 | \u001b[32mangr.state_plugins.symbolic_memory\u001b[0m | \u001b[32mFilling memory at 0x4f with 1 unconstrained bytes referenced from 0x4013de (blank_line+0x22 in bomb64 (0x4013de))\u001b[0m\n",
      "WARNING | 2020-06-04 07:30:21,882 | \u001b[32mangr.state_plugins.symbolic_memory\u001b[0m | \u001b[32mFilling register rbp with 8 unconstrained bytes referenced from 0x4013bc (blank_line+0x0 in bomb64 (0x4013bc))\u001b[0m\n",
      "WARNING | 2020-06-04 07:30:21,899 | \u001b[32mangr.state_plugins.symbolic_memory\u001b[0m | \u001b[32mFilling memory at 0x50 with 7 unconstrained bytes referenced from 0x4013d4 (blank_line+0x18 in bomb64 (0x4013d4))\u001b[0m\n",
      "WARNING | 2020-06-04 07:30:22,215 | \u001b[32mangr.state_plugins.symbolic_memory\u001b[0m | \u001b[32mFilling memory at 0xffffffffffffffe0 with 1 unconstrained bytes referenced from 0x4013d7 (blank_line+0x1b in bomb64 (0x4013d7))\u001b[0m\n",
      "WARNING | 2020-06-04 07:30:22,562 | \u001b[32mangr.state_plugins.symbolic_memory\u001b[0m | \u001b[32mFilling memory at 0x4f with 1 unconstrained bytes referenced from 0x4013de (blank_line+0x22 in bomb64 (0x4013de))\u001b[0m\n",
      "WARNING | 2020-06-04 07:30:23,232 | \u001b[32mangr.state_plugins.symbolic_memory\u001b[0m | \u001b[32mFilling memory at 0x50 with 7 unconstrained bytes referenced from 0x4013d4 (blank_line+0x18 in bomb64 (0x4013d4))\u001b[0m\n"
     ]
    },
    {
     "name": "stderr",
     "output_type": "stream",
     "text": [
      "WARNING | 2020-06-04 07:30:23,465 | \u001b[32mangr.state_plugins.symbolic_memory\u001b[0m | \u001b[32mFilling memory at 0xffffff0000000081 with 1 unconstrained bytes referenced from 0x4013d7 (blank_line+0x1b in bomb64 (0x4013d7))\u001b[0m\n",
      "WARNING | 2020-06-04 07:30:23,850 | \u001b[32mangr.state_plugins.symbolic_memory\u001b[0m | \u001b[32mFilling memory at 0xfffffffffffffff5 with 8 unconstrained bytes referenced from 0x4013d4 (blank_line+0x18 in bomb64 (0x4013d4))\u001b[0m\n",
      "WARNING | 2020-06-04 07:30:23,997 | \u001b[32mangr.state_plugins.symbolic_memory\u001b[0m | \u001b[32mFilling memory at 0x0 with 1 unconstrained bytes referenced from 0x4013d7 (blank_line+0x1b in bomb64 (0x4013d7))\u001b[0m\n",
      "WARNING | 2020-06-04 07:30:26,045 | \u001b[32mangr.state_plugins.symbolic_memory\u001b[0m | \u001b[32mFilling memory at 0xffffff0000000180 with 8 unconstrained bytes referenced from 0x4013d4 (blank_line+0x18 in bomb64 (0x4013d4))\u001b[0m\n",
      "WARNING | 2020-06-04 07:30:26,194 | \u001b[32mangr.state_plugins.symbolic_memory\u001b[0m | \u001b[32mFilling memory at 0xffffffffffffffff with 1 unconstrained bytes referenced from 0x4013d7 (blank_line+0x1b in bomb64 (0x4013d7))\u001b[0m\n",
      "WARNING | 2020-06-04 07:30:26,474 | \u001b[32mangr.state_plugins.symbolic_memory\u001b[0m | \u001b[32mFilling memory at 0x7fffffffffeffe0 with 8 unconstrained bytes referenced from 0x400ee9 (phase_1+0x9 in bomb64 (0x400ee9))\u001b[0m\n"
     ]
    },
    {
     "name": "stdout",
     "output_type": "stream",
     "text": [
      "b'Border relations with Canada have never been better.'\n"
     ]
    },
    {
     "name": "stderr",
     "output_type": "stream",
     "text": [
      "WARNING | 2020-06-04 07:30:26,875 | \u001b[34mangr.engines.successors\u001b[0m | \u001b[34mExit state has over 256 possible solutions. Likely unconstrained; skipping. <BV64 mem_7fffffffffeffe0_713_64{UNINITIALIZED}>\u001b[0m\n",
      "WARNING | 2020-06-04 07:30:27,018 | \u001b[32mangr.state_plugins.symbolic_memory\u001b[0m | \u001b[32mFilling memory at 0x1 with 8 unconstrained bytes referenced from 0x4013d4 (blank_line+0x18 in bomb64 (0x4013d4))\u001b[0m\n",
      "WARNING | 2020-06-04 07:30:28,042 | \u001b[32mangr.state_plugins.symbolic_memory\u001b[0m | \u001b[32mFilling memory at 0x7fffffffffeffe0 with 8 unconstrained bytes referenced from 0x400ee9 (phase_1+0x9 in bomb64 (0x400ee9))\u001b[0m\n"
     ]
    },
    {
     "name": "stdout",
     "output_type": "stream",
     "text": [
      "b'Border relations with Canada have never been better.'\n"
     ]
    },
    {
     "name": "stderr",
     "output_type": "stream",
     "text": [
      "WARNING | 2020-06-04 07:30:28,504 | \u001b[34mangr.engines.successors\u001b[0m | \u001b[34mExit state has over 256 possible solutions. Likely unconstrained; skipping. <BV64 mem_7fffffffffeffe0_715_64{UNINITIALIZED}>\u001b[0m\n",
      "WARNING | 2020-06-04 07:30:28,992 | \u001b[32mangr.state_plugins.symbolic_memory\u001b[0m | \u001b[32mFilling memory at 0x7fffffffffeffe0 with 8 unconstrained bytes referenced from 0x400ee9 (phase_1+0x9 in bomb64 (0x400ee9))\u001b[0m\n"
     ]
    },
    {
     "name": "stdout",
     "output_type": "stream",
     "text": [
      "b'Border relations with Canada have never been better.'\n"
     ]
    },
    {
     "name": "stderr",
     "output_type": "stream",
     "text": [
      "WARNING | 2020-06-04 07:30:29,357 | \u001b[34mangr.engines.successors\u001b[0m | \u001b[34mExit state has over 256 possible solutions. Likely unconstrained; skipping. <BV64 mem_7fffffffffeffe0_717_64{UNINITIALIZED}>\u001b[0m\n",
      "WARNING | 2020-06-04 07:30:29,805 | \u001b[32mangr.state_plugins.symbolic_memory\u001b[0m | \u001b[32mFilling memory at 0x7fffffffffeffe0 with 8 unconstrained bytes referenced from 0x400ee9 (phase_1+0x9 in bomb64 (0x400ee9))\u001b[0m\n"
     ]
    },
    {
     "name": "stdout",
     "output_type": "stream",
     "text": [
      "b'Border relations with Canada have never been better.'\n"
     ]
    },
    {
     "name": "stderr",
     "output_type": "stream",
     "text": [
      "WARNING | 2020-06-04 07:30:30,155 | \u001b[34mangr.engines.successors\u001b[0m | \u001b[34mExit state has over 256 possible solutions. Likely unconstrained; skipping. <BV64 mem_7fffffffffeffe0_718_64{UNINITIALIZED}>\u001b[0m\n",
      "WARNING | 2020-06-04 07:30:30,633 | \u001b[32mangr.state_plugins.symbolic_memory\u001b[0m | \u001b[32mFilling memory at 0x7fffffffffeffe0 with 8 unconstrained bytes referenced from 0x400ee9 (phase_1+0x9 in bomb64 (0x400ee9))\u001b[0m\n"
     ]
    },
    {
     "name": "stdout",
     "output_type": "stream",
     "text": [
      "b'Border relations with Canada have never been better.'\n"
     ]
    },
    {
     "name": "stderr",
     "output_type": "stream",
     "text": [
      "WARNING | 2020-06-04 07:30:31,013 | \u001b[34mangr.engines.successors\u001b[0m | \u001b[34mExit state has over 256 possible solutions. Likely unconstrained; skipping. <BV64 mem_7fffffffffeffe0_719_64{UNINITIALIZED}>\u001b[0m\n",
      "WARNING | 2020-06-04 07:30:31,413 | \u001b[32mangr.state_plugins.symbolic_memory\u001b[0m | \u001b[32mFilling memory at 0x7fffffffffeffe0 with 8 unconstrained bytes referenced from 0x400ee9 (phase_1+0x9 in bomb64 (0x400ee9))\u001b[0m\n"
     ]
    },
    {
     "name": "stdout",
     "output_type": "stream",
     "text": [
      "b'Border relations with Canada have never been better.'\n"
     ]
    },
    {
     "name": "stderr",
     "output_type": "stream",
     "text": [
      "WARNING | 2020-06-04 07:30:31,771 | \u001b[34mangr.engines.successors\u001b[0m | \u001b[34mExit state has over 256 possible solutions. Likely unconstrained; skipping. <BV64 mem_7fffffffffeffe0_720_64{UNINITIALIZED}>\u001b[0m\n",
      "WARNING | 2020-06-04 07:30:32,107 | \u001b[32mangr.state_plugins.symbolic_memory\u001b[0m | \u001b[32mFilling memory at 0x0 with 8 unconstrained bytes referenced from 0x4013d4 (blank_line+0x18 in bomb64 (0x4013d4))\u001b[0m\n",
      "WARNING | 2020-06-04 07:30:32,419 | \u001b[32mangr.state_plugins.symbolic_memory\u001b[0m | \u001b[32mFilling memory at 0x7fffffffffeffe0 with 8 unconstrained bytes referenced from 0x400ee9 (phase_1+0x9 in bomb64 (0x400ee9))\u001b[0m\n"
     ]
    },
    {
     "name": "stdout",
     "output_type": "stream",
     "text": [
      "b'Border relations with Canada have never been better.'\n"
     ]
    },
    {
     "name": "stderr",
     "output_type": "stream",
     "text": [
      "WARNING | 2020-06-04 07:30:32,795 | \u001b[34mangr.engines.successors\u001b[0m | \u001b[34mExit state has over 256 possible solutions. Likely unconstrained; skipping. <BV64 mem_7fffffffffeffe0_722_64{UNINITIALIZED}>\u001b[0m\n",
      "WARNING | 2020-06-04 07:30:32,911 | \u001b[32mangr.state_plugins.symbolic_memory\u001b[0m | \u001b[32mFilling memory at 0x7fffffffffeffe0 with 8 unconstrained bytes referenced from 0x400ee9 (phase_1+0x9 in bomb64 (0x400ee9))\u001b[0m\n"
     ]
    },
    {
     "name": "stdout",
     "output_type": "stream",
     "text": [
      "b'Border relations with Canada have never been better.'\n"
     ]
    },
    {
     "name": "stderr",
     "output_type": "stream",
     "text": [
      "WARNING | 2020-06-04 07:30:33,278 | \u001b[34mangr.engines.successors\u001b[0m | \u001b[34mExit state has over 256 possible solutions. Likely unconstrained; skipping. <BV64 mem_7fffffffffeffe0_723_64{UNINITIALIZED}>\u001b[0m\n",
      "WARNING | 2020-06-04 07:30:33,613 | \u001b[32mangr.state_plugins.symbolic_memory\u001b[0m | \u001b[32mFilling memory at 0x7fffffffffeffe0 with 8 unconstrained bytes referenced from 0x400ee9 (phase_1+0x9 in bomb64 (0x400ee9))\u001b[0m\n"
     ]
    },
    {
     "name": "stdout",
     "output_type": "stream",
     "text": [
      "b'Border relations with Canada have never been better.'\n"
     ]
    },
    {
     "name": "stderr",
     "output_type": "stream",
     "text": [
      "WARNING | 2020-06-04 07:30:33,990 | \u001b[34mangr.engines.successors\u001b[0m | \u001b[34mExit state has over 256 possible solutions. Likely unconstrained; skipping. <BV64 mem_7fffffffffeffe0_724_64{UNINITIALIZED}>\u001b[0m\n"
     ]
    },
    {
     "ename": "KeyboardInterrupt",
     "evalue": "",
     "output_type": "error",
     "traceback": [
      "\u001b[0;31m---------------------------------------------------------------------------\u001b[0m",
      "\u001b[0;31mStopIteration\u001b[0m                             Traceback (most recent call last)",
      "\u001b[0;32m~/.local/lib/python3.8/site-packages/claripy/ast/base.py\u001b[0m in \u001b[0;36mreplace_dict\u001b[0;34m(self, replacements, variable_set, leaf_operation)\u001b[0m\n\u001b[1;32m    710\u001b[0m             \u001b[0;32mtry\u001b[0m\u001b[0;34m:\u001b[0m\u001b[0;34m\u001b[0m\u001b[0;34m\u001b[0m\u001b[0m\n\u001b[0;32m--> 711\u001b[0;31m                 \u001b[0mast\u001b[0m \u001b[0;34m=\u001b[0m \u001b[0mnext\u001b[0m\u001b[0;34m(\u001b[0m\u001b[0marg_queue\u001b[0m\u001b[0;34m[\u001b[0m\u001b[0;34m-\u001b[0m\u001b[0;36m1\u001b[0m\u001b[0;34m]\u001b[0m\u001b[0;34m)\u001b[0m\u001b[0;34m\u001b[0m\u001b[0;34m\u001b[0m\u001b[0m\n\u001b[0m\u001b[1;32m    712\u001b[0m                 \u001b[0mrepl\u001b[0m \u001b[0;34m=\u001b[0m \u001b[0mast\u001b[0m\u001b[0;34m\u001b[0m\u001b[0;34m\u001b[0m\u001b[0m\n",
      "\u001b[0;31mStopIteration\u001b[0m: ",
      "\nDuring handling of the above exception, another exception occurred:\n",
      "\u001b[0;31mKeyboardInterrupt\u001b[0m                         Traceback (most recent call last)",
      "\u001b[0;32m<ipython-input-35-d7a0b3e79488>\u001b[0m in \u001b[0;36m<module>\u001b[0;34m\u001b[0m\n\u001b[0;32m----> 1\u001b[0;31m \u001b[0msimgr\u001b[0m\u001b[0;34m.\u001b[0m\u001b[0mrun\u001b[0m\u001b[0;34m(\u001b[0m\u001b[0;34m)\u001b[0m\u001b[0;34m\u001b[0m\u001b[0;34m\u001b[0m\u001b[0m\n\u001b[0m",
      "\u001b[0;32m~/.local/lib/python3.8/site-packages/angr/sim_manager.py\u001b[0m in \u001b[0;36mrun\u001b[0;34m(self, stash, n, until, **kwargs)\u001b[0m\n\u001b[1;32m    259\u001b[0m         \u001b[0;32mfor\u001b[0m \u001b[0m_\u001b[0m \u001b[0;32min\u001b[0m \u001b[0;34m(\u001b[0m\u001b[0mitertools\u001b[0m\u001b[0;34m.\u001b[0m\u001b[0mcount\u001b[0m\u001b[0;34m(\u001b[0m\u001b[0;34m)\u001b[0m \u001b[0;32mif\u001b[0m \u001b[0mn\u001b[0m \u001b[0;32mis\u001b[0m \u001b[0;32mNone\u001b[0m \u001b[0;32melse\u001b[0m \u001b[0mrange\u001b[0m\u001b[0;34m(\u001b[0m\u001b[0;36m0\u001b[0m\u001b[0;34m,\u001b[0m \u001b[0mn\u001b[0m\u001b[0;34m)\u001b[0m\u001b[0;34m)\u001b[0m\u001b[0;34m:\u001b[0m\u001b[0;34m\u001b[0m\u001b[0;34m\u001b[0m\u001b[0m\n\u001b[1;32m    260\u001b[0m             \u001b[0;32mif\u001b[0m \u001b[0;32mnot\u001b[0m \u001b[0mself\u001b[0m\u001b[0;34m.\u001b[0m\u001b[0mcomplete\u001b[0m\u001b[0;34m(\u001b[0m\u001b[0;34m)\u001b[0m \u001b[0;32mand\u001b[0m \u001b[0mself\u001b[0m\u001b[0;34m.\u001b[0m\u001b[0m_stashes\u001b[0m\u001b[0;34m[\u001b[0m\u001b[0mstash\u001b[0m\u001b[0;34m]\u001b[0m\u001b[0;34m:\u001b[0m\u001b[0;34m\u001b[0m\u001b[0;34m\u001b[0m\u001b[0m\n\u001b[0;32m--> 261\u001b[0;31m                 \u001b[0mself\u001b[0m\u001b[0;34m.\u001b[0m\u001b[0mstep\u001b[0m\u001b[0;34m(\u001b[0m\u001b[0mstash\u001b[0m\u001b[0;34m=\u001b[0m\u001b[0mstash\u001b[0m\u001b[0;34m,\u001b[0m \u001b[0;34m**\u001b[0m\u001b[0mkwargs\u001b[0m\u001b[0;34m)\u001b[0m\u001b[0;34m\u001b[0m\u001b[0;34m\u001b[0m\u001b[0m\n\u001b[0m\u001b[1;32m    262\u001b[0m                 \u001b[0;32mif\u001b[0m \u001b[0;32mnot\u001b[0m \u001b[0;34m(\u001b[0m\u001b[0muntil\u001b[0m \u001b[0;32mand\u001b[0m \u001b[0muntil\u001b[0m\u001b[0;34m(\u001b[0m\u001b[0mself\u001b[0m\u001b[0;34m)\u001b[0m\u001b[0;34m)\u001b[0m\u001b[0;34m:\u001b[0m\u001b[0;34m\u001b[0m\u001b[0;34m\u001b[0m\u001b[0m\n\u001b[1;32m    263\u001b[0m                     \u001b[0;32mcontinue\u001b[0m\u001b[0;34m\u001b[0m\u001b[0;34m\u001b[0m\u001b[0m\n",
      "\u001b[0;32m~/.local/lib/python3.8/site-packages/angr/sim_manager.py\u001b[0m in \u001b[0;36mstep\u001b[0;34m(self, stash, n, selector_func, step_func, successor_func, until, filter_func, **run_args)\u001b[0m\n\u001b[1;32m    344\u001b[0m             \u001b[0mpre_errored\u001b[0m \u001b[0;34m=\u001b[0m \u001b[0mlen\u001b[0m\u001b[0;34m(\u001b[0m\u001b[0mself\u001b[0m\u001b[0;34m.\u001b[0m\u001b[0m_errored\u001b[0m\u001b[0;34m)\u001b[0m\u001b[0;34m\u001b[0m\u001b[0;34m\u001b[0m\u001b[0m\n\u001b[1;32m    345\u001b[0m \u001b[0;34m\u001b[0m\u001b[0m\n\u001b[0;32m--> 346\u001b[0;31m             \u001b[0msuccessors\u001b[0m \u001b[0;34m=\u001b[0m \u001b[0mself\u001b[0m\u001b[0;34m.\u001b[0m\u001b[0mstep_state\u001b[0m\u001b[0;34m(\u001b[0m\u001b[0mstate\u001b[0m\u001b[0;34m,\u001b[0m \u001b[0msuccessor_func\u001b[0m\u001b[0;34m=\u001b[0m\u001b[0msuccessor_func\u001b[0m\u001b[0;34m,\u001b[0m \u001b[0;34m**\u001b[0m\u001b[0mrun_args\u001b[0m\u001b[0;34m)\u001b[0m\u001b[0;34m\u001b[0m\u001b[0;34m\u001b[0m\u001b[0m\n\u001b[0m\u001b[1;32m    347\u001b[0m             \u001b[0;31m# handle degenerate stepping cases here. desired behavior:\u001b[0m\u001b[0;34m\u001b[0m\u001b[0;34m\u001b[0m\u001b[0;34m\u001b[0m\u001b[0m\n\u001b[1;32m    348\u001b[0m             \u001b[0;31m# if a step produced only unsat states, always add them to the unsat stash since this usually indicates a bug\u001b[0m\u001b[0;34m\u001b[0m\u001b[0;34m\u001b[0m\u001b[0;34m\u001b[0m\u001b[0m\n",
      "\u001b[0;32m~/.local/lib/python3.8/site-packages/angr/sim_manager.py\u001b[0m in \u001b[0;36mstep_state\u001b[0;34m(self, state, successor_func, **run_args)\u001b[0m\n\u001b[1;32m    381\u001b[0m         \"\"\"\n\u001b[1;32m    382\u001b[0m         \u001b[0;32mtry\u001b[0m\u001b[0;34m:\u001b[0m\u001b[0;34m\u001b[0m\u001b[0;34m\u001b[0m\u001b[0m\n\u001b[0;32m--> 383\u001b[0;31m             \u001b[0msuccessors\u001b[0m \u001b[0;34m=\u001b[0m \u001b[0mself\u001b[0m\u001b[0;34m.\u001b[0m\u001b[0msuccessors\u001b[0m\u001b[0;34m(\u001b[0m\u001b[0mstate\u001b[0m\u001b[0;34m,\u001b[0m \u001b[0msuccessor_func\u001b[0m\u001b[0;34m=\u001b[0m\u001b[0msuccessor_func\u001b[0m\u001b[0;34m,\u001b[0m \u001b[0;34m**\u001b[0m\u001b[0mrun_args\u001b[0m\u001b[0;34m)\u001b[0m\u001b[0;34m\u001b[0m\u001b[0;34m\u001b[0m\u001b[0m\n\u001b[0m\u001b[1;32m    384\u001b[0m             stashes = {None: successors.flat_successors,\n\u001b[1;32m    385\u001b[0m                        \u001b[0;34m'unsat'\u001b[0m\u001b[0;34m:\u001b[0m \u001b[0msuccessors\u001b[0m\u001b[0;34m.\u001b[0m\u001b[0munsat_successors\u001b[0m\u001b[0;34m,\u001b[0m\u001b[0;34m\u001b[0m\u001b[0;34m\u001b[0m\u001b[0m\n",
      "\u001b[0;32m~/.local/lib/python3.8/site-packages/angr/sim_manager.py\u001b[0m in \u001b[0;36msuccessors\u001b[0;34m(self, state, successor_func, **run_args)\u001b[0m\n\u001b[1;32m    420\u001b[0m         \u001b[0;32mif\u001b[0m \u001b[0msuccessor_func\u001b[0m \u001b[0;32mis\u001b[0m \u001b[0;32mnot\u001b[0m \u001b[0;32mNone\u001b[0m\u001b[0;34m:\u001b[0m\u001b[0;34m\u001b[0m\u001b[0;34m\u001b[0m\u001b[0m\n\u001b[1;32m    421\u001b[0m             \u001b[0;32mreturn\u001b[0m \u001b[0msuccessor_func\u001b[0m\u001b[0;34m(\u001b[0m\u001b[0mstate\u001b[0m\u001b[0;34m,\u001b[0m \u001b[0;34m**\u001b[0m\u001b[0mrun_args\u001b[0m\u001b[0;34m)\u001b[0m\u001b[0;34m\u001b[0m\u001b[0;34m\u001b[0m\u001b[0m\n\u001b[0;32m--> 422\u001b[0;31m         \u001b[0;32mreturn\u001b[0m \u001b[0mself\u001b[0m\u001b[0;34m.\u001b[0m\u001b[0m_project\u001b[0m\u001b[0;34m.\u001b[0m\u001b[0mfactory\u001b[0m\u001b[0;34m.\u001b[0m\u001b[0msuccessors\u001b[0m\u001b[0;34m(\u001b[0m\u001b[0mstate\u001b[0m\u001b[0;34m,\u001b[0m \u001b[0;34m**\u001b[0m\u001b[0mrun_args\u001b[0m\u001b[0;34m)\u001b[0m\u001b[0;34m\u001b[0m\u001b[0;34m\u001b[0m\u001b[0m\n\u001b[0m\u001b[1;32m    423\u001b[0m \u001b[0;34m\u001b[0m\u001b[0m\n\u001b[1;32m    424\u001b[0m     \u001b[0;31m#\u001b[0m\u001b[0;34m\u001b[0m\u001b[0;34m\u001b[0m\u001b[0;34m\u001b[0m\u001b[0m\n",
      "\u001b[0;32m~/.local/lib/python3.8/site-packages/angr/factory.py\u001b[0m in \u001b[0;36msuccessors\u001b[0;34m(self, engine, *args, **kwargs)\u001b[0m\n\u001b[1;32m     58\u001b[0m         \u001b[0;32mif\u001b[0m \u001b[0mengine\u001b[0m \u001b[0;32mis\u001b[0m \u001b[0;32mnot\u001b[0m \u001b[0;32mNone\u001b[0m\u001b[0;34m:\u001b[0m\u001b[0;34m\u001b[0m\u001b[0;34m\u001b[0m\u001b[0m\n\u001b[1;32m     59\u001b[0m             \u001b[0;32mreturn\u001b[0m \u001b[0mengine\u001b[0m\u001b[0;34m.\u001b[0m\u001b[0mprocess\u001b[0m\u001b[0;34m(\u001b[0m\u001b[0;34m*\u001b[0m\u001b[0margs\u001b[0m\u001b[0;34m,\u001b[0m \u001b[0;34m**\u001b[0m\u001b[0mkwargs\u001b[0m\u001b[0;34m)\u001b[0m\u001b[0;34m\u001b[0m\u001b[0;34m\u001b[0m\u001b[0m\n\u001b[0;32m---> 60\u001b[0;31m         \u001b[0;32mreturn\u001b[0m \u001b[0mself\u001b[0m\u001b[0;34m.\u001b[0m\u001b[0mdefault_engine\u001b[0m\u001b[0;34m.\u001b[0m\u001b[0mprocess\u001b[0m\u001b[0;34m(\u001b[0m\u001b[0;34m*\u001b[0m\u001b[0margs\u001b[0m\u001b[0;34m,\u001b[0m \u001b[0;34m**\u001b[0m\u001b[0mkwargs\u001b[0m\u001b[0;34m)\u001b[0m\u001b[0;34m\u001b[0m\u001b[0;34m\u001b[0m\u001b[0m\n\u001b[0m\u001b[1;32m     61\u001b[0m \u001b[0;34m\u001b[0m\u001b[0m\n\u001b[1;32m     62\u001b[0m     \u001b[0;32mdef\u001b[0m \u001b[0mblank_state\u001b[0m\u001b[0;34m(\u001b[0m\u001b[0mself\u001b[0m\u001b[0;34m,\u001b[0m \u001b[0;34m**\u001b[0m\u001b[0mkwargs\u001b[0m\u001b[0;34m)\u001b[0m\u001b[0;34m:\u001b[0m\u001b[0;34m\u001b[0m\u001b[0;34m\u001b[0m\u001b[0m\n",
      "\u001b[0;32m~/.local/lib/python3.8/site-packages/angr/engines/vex/light/slicing.py\u001b[0m in \u001b[0;36mprocess\u001b[0;34m(self, skip_stmts, last_stmt, whitelist, *args, **kwargs)\u001b[0m\n\u001b[1;32m     17\u001b[0m         \u001b[0mself\u001b[0m\u001b[0;34m.\u001b[0m\u001b[0m_last_stmt\u001b[0m \u001b[0;34m=\u001b[0m \u001b[0mlast_stmt\u001b[0m\u001b[0;34m\u001b[0m\u001b[0;34m\u001b[0m\u001b[0m\n\u001b[1;32m     18\u001b[0m         \u001b[0mself\u001b[0m\u001b[0;34m.\u001b[0m\u001b[0m_whitelist\u001b[0m \u001b[0;34m=\u001b[0m \u001b[0mwhitelist\u001b[0m\u001b[0;34m\u001b[0m\u001b[0;34m\u001b[0m\u001b[0m\n\u001b[0;32m---> 19\u001b[0;31m         \u001b[0;32mreturn\u001b[0m \u001b[0msuper\u001b[0m\u001b[0;34m(\u001b[0m\u001b[0;34m)\u001b[0m\u001b[0;34m.\u001b[0m\u001b[0mprocess\u001b[0m\u001b[0;34m(\u001b[0m\u001b[0;34m*\u001b[0m\u001b[0margs\u001b[0m\u001b[0;34m,\u001b[0m \u001b[0;34m**\u001b[0m\u001b[0mkwargs\u001b[0m\u001b[0;34m)\u001b[0m\u001b[0;34m\u001b[0m\u001b[0;34m\u001b[0m\u001b[0m\n\u001b[0m\u001b[1;32m     20\u001b[0m \u001b[0;34m\u001b[0m\u001b[0m\n\u001b[1;32m     21\u001b[0m     \u001b[0;32mdef\u001b[0m \u001b[0mhandle_vex_block\u001b[0m\u001b[0;34m(\u001b[0m\u001b[0mself\u001b[0m\u001b[0;34m,\u001b[0m \u001b[0mirsb\u001b[0m\u001b[0;34m)\u001b[0m\u001b[0;34m:\u001b[0m\u001b[0;34m\u001b[0m\u001b[0;34m\u001b[0m\u001b[0m\n",
      "\u001b[0;32m~/.local/lib/python3.8/site-packages/angr/engines/engine.py\u001b[0m in \u001b[0;36mprocess\u001b[0;34m(***failed resolving arguments***)\u001b[0m\n\u001b[1;32m    147\u001b[0m         \u001b[0mself\u001b[0m\u001b[0;34m.\u001b[0m\u001b[0msuccessors\u001b[0m \u001b[0;34m=\u001b[0m \u001b[0mnew_state\u001b[0m\u001b[0;34m.\u001b[0m\u001b[0m_inspect_getattr\u001b[0m\u001b[0;34m(\u001b[0m\u001b[0;34m'sim_successors'\u001b[0m\u001b[0;34m,\u001b[0m \u001b[0mself\u001b[0m\u001b[0;34m.\u001b[0m\u001b[0msuccessors\u001b[0m\u001b[0;34m)\u001b[0m\u001b[0;34m\u001b[0m\u001b[0;34m\u001b[0m\u001b[0m\n\u001b[1;32m    148\u001b[0m         \u001b[0;32mtry\u001b[0m\u001b[0;34m:\u001b[0m\u001b[0;34m\u001b[0m\u001b[0;34m\u001b[0m\u001b[0m\n\u001b[0;32m--> 149\u001b[0;31m             \u001b[0mself\u001b[0m\u001b[0;34m.\u001b[0m\u001b[0mprocess_successors\u001b[0m\u001b[0;34m(\u001b[0m\u001b[0mself\u001b[0m\u001b[0;34m.\u001b[0m\u001b[0msuccessors\u001b[0m\u001b[0;34m,\u001b[0m \u001b[0;34m**\u001b[0m\u001b[0mkwargs\u001b[0m\u001b[0;34m)\u001b[0m\u001b[0;34m\u001b[0m\u001b[0;34m\u001b[0m\u001b[0m\n\u001b[0m\u001b[1;32m    150\u001b[0m         \u001b[0;32mexcept\u001b[0m \u001b[0mSimException\u001b[0m\u001b[0;34m:\u001b[0m\u001b[0;34m\u001b[0m\u001b[0;34m\u001b[0m\u001b[0m\n\u001b[1;32m    151\u001b[0m             \u001b[0;32mif\u001b[0m \u001b[0mo\u001b[0m\u001b[0;34m.\u001b[0m\u001b[0mEXCEPTION_HANDLING\u001b[0m \u001b[0;32mnot\u001b[0m \u001b[0;32min\u001b[0m \u001b[0mold_state\u001b[0m\u001b[0;34m.\u001b[0m\u001b[0moptions\u001b[0m\u001b[0;34m:\u001b[0m\u001b[0;34m\u001b[0m\u001b[0;34m\u001b[0m\u001b[0m\n",
      "\u001b[0;32m~/.local/lib/python3.8/site-packages/angr/engines/failure.py\u001b[0m in \u001b[0;36mprocess_successors\u001b[0;34m(self, successors, **kwargs)\u001b[0m\n\u001b[1;32m     19\u001b[0m             \u001b[0;32mreturn\u001b[0m \u001b[0mself\u001b[0m\u001b[0;34m.\u001b[0m\u001b[0mprocess_procedure\u001b[0m\u001b[0;34m(\u001b[0m\u001b[0mstate\u001b[0m\u001b[0;34m,\u001b[0m \u001b[0msuccessors\u001b[0m\u001b[0;34m,\u001b[0m \u001b[0mterminator\u001b[0m\u001b[0;34m,\u001b[0m \u001b[0;34m**\u001b[0m\u001b[0mkwargs\u001b[0m\u001b[0;34m)\u001b[0m\u001b[0;34m\u001b[0m\u001b[0;34m\u001b[0m\u001b[0m\n\u001b[1;32m     20\u001b[0m \u001b[0;34m\u001b[0m\u001b[0m\n\u001b[0;32m---> 21\u001b[0;31m         \u001b[0;32mreturn\u001b[0m \u001b[0msuper\u001b[0m\u001b[0;34m(\u001b[0m\u001b[0;34m)\u001b[0m\u001b[0;34m.\u001b[0m\u001b[0mprocess_successors\u001b[0m\u001b[0;34m(\u001b[0m\u001b[0msuccessors\u001b[0m\u001b[0;34m,\u001b[0m \u001b[0;34m**\u001b[0m\u001b[0mkwargs\u001b[0m\u001b[0;34m)\u001b[0m\u001b[0;34m\u001b[0m\u001b[0;34m\u001b[0m\u001b[0m\n\u001b[0m\u001b[1;32m     22\u001b[0m \u001b[0;34m\u001b[0m\u001b[0m\n\u001b[1;32m     23\u001b[0m \u001b[0;32mfrom\u001b[0m \u001b[0;34m.\u001b[0m\u001b[0;34m.\u001b[0m\u001b[0merrors\u001b[0m \u001b[0;32mimport\u001b[0m \u001b[0mAngrExitError\u001b[0m\u001b[0;34m\u001b[0m\u001b[0;34m\u001b[0m\u001b[0m\n",
      "\u001b[0;32m~/.local/lib/python3.8/site-packages/angr/engines/syscall.py\u001b[0m in \u001b[0;36mprocess_successors\u001b[0;34m(self, successors, **kwargs)\u001b[0m\n\u001b[1;32m     16\u001b[0m         \u001b[0;31m# we have at this point entered the next step so we need to check the previous jumpkind\u001b[0m\u001b[0;34m\u001b[0m\u001b[0;34m\u001b[0m\u001b[0;34m\u001b[0m\u001b[0m\n\u001b[1;32m     17\u001b[0m         \u001b[0;32mif\u001b[0m \u001b[0;32mnot\u001b[0m \u001b[0mstate\u001b[0m\u001b[0;34m.\u001b[0m\u001b[0mhistory\u001b[0m \u001b[0;32mor\u001b[0m \u001b[0;32mnot\u001b[0m \u001b[0mstate\u001b[0m\u001b[0;34m.\u001b[0m\u001b[0mhistory\u001b[0m\u001b[0;34m.\u001b[0m\u001b[0mparent\u001b[0m \u001b[0;32mor\u001b[0m \u001b[0;32mnot\u001b[0m \u001b[0mstate\u001b[0m\u001b[0;34m.\u001b[0m\u001b[0mhistory\u001b[0m\u001b[0;34m.\u001b[0m\u001b[0mparent\u001b[0m\u001b[0;34m.\u001b[0m\u001b[0mjumpkind\u001b[0m \u001b[0;32mor\u001b[0m \u001b[0;32mnot\u001b[0m \u001b[0mstate\u001b[0m\u001b[0;34m.\u001b[0m\u001b[0mhistory\u001b[0m\u001b[0;34m.\u001b[0m\u001b[0mparent\u001b[0m\u001b[0;34m.\u001b[0m\u001b[0mjumpkind\u001b[0m\u001b[0;34m.\u001b[0m\u001b[0mstartswith\u001b[0m\u001b[0;34m(\u001b[0m\u001b[0;34m'Ijk_Sys'\u001b[0m\u001b[0;34m)\u001b[0m\u001b[0;34m:\u001b[0m\u001b[0;34m\u001b[0m\u001b[0;34m\u001b[0m\u001b[0m\n\u001b[0;32m---> 18\u001b[0;31m             \u001b[0;32mreturn\u001b[0m \u001b[0msuper\u001b[0m\u001b[0;34m(\u001b[0m\u001b[0;34m)\u001b[0m\u001b[0;34m.\u001b[0m\u001b[0mprocess_successors\u001b[0m\u001b[0;34m(\u001b[0m\u001b[0msuccessors\u001b[0m\u001b[0;34m,\u001b[0m \u001b[0;34m**\u001b[0m\u001b[0mkwargs\u001b[0m\u001b[0;34m)\u001b[0m\u001b[0;34m\u001b[0m\u001b[0;34m\u001b[0m\u001b[0m\n\u001b[0m\u001b[1;32m     19\u001b[0m \u001b[0;34m\u001b[0m\u001b[0m\n\u001b[1;32m     20\u001b[0m         \u001b[0ml\u001b[0m\u001b[0;34m.\u001b[0m\u001b[0mdebug\u001b[0m\u001b[0;34m(\u001b[0m\u001b[0;34m\"Invoking system call handler\"\u001b[0m\u001b[0;34m)\u001b[0m\u001b[0;34m\u001b[0m\u001b[0;34m\u001b[0m\u001b[0m\n",
      "\u001b[0;32m~/.local/lib/python3.8/site-packages/angr/engines/hook.py\u001b[0m in \u001b[0;36mprocess_successors\u001b[0;34m(self, successors, procedure, **kwargs)\u001b[0m\n\u001b[1;32m     52\u001b[0m             \u001b[0mprocedure\u001b[0m \u001b[0;34m=\u001b[0m \u001b[0mself\u001b[0m\u001b[0;34m.\u001b[0m\u001b[0m_lookup_hook\u001b[0m\u001b[0;34m(\u001b[0m\u001b[0mstate\u001b[0m\u001b[0;34m,\u001b[0m \u001b[0mprocedure\u001b[0m\u001b[0;34m)\u001b[0m\u001b[0;34m\u001b[0m\u001b[0;34m\u001b[0m\u001b[0m\n\u001b[1;32m     53\u001b[0m         \u001b[0;32mif\u001b[0m \u001b[0mprocedure\u001b[0m \u001b[0;32mis\u001b[0m \u001b[0;32mNone\u001b[0m\u001b[0;34m:\u001b[0m\u001b[0;34m\u001b[0m\u001b[0;34m\u001b[0m\u001b[0m\n\u001b[0;32m---> 54\u001b[0;31m             \u001b[0;32mreturn\u001b[0m \u001b[0msuper\u001b[0m\u001b[0;34m(\u001b[0m\u001b[0;34m)\u001b[0m\u001b[0;34m.\u001b[0m\u001b[0mprocess_successors\u001b[0m\u001b[0;34m(\u001b[0m\u001b[0msuccessors\u001b[0m\u001b[0;34m,\u001b[0m \u001b[0mprocedure\u001b[0m\u001b[0;34m=\u001b[0m\u001b[0mprocedure\u001b[0m\u001b[0;34m,\u001b[0m \u001b[0;34m**\u001b[0m\u001b[0mkwargs\u001b[0m\u001b[0;34m)\u001b[0m\u001b[0;34m\u001b[0m\u001b[0;34m\u001b[0m\u001b[0m\n\u001b[0m\u001b[1;32m     55\u001b[0m \u001b[0;34m\u001b[0m\u001b[0m\n\u001b[1;32m     56\u001b[0m         \u001b[0;32mif\u001b[0m \u001b[0misinstance\u001b[0m\u001b[0;34m(\u001b[0m\u001b[0mprocedure\u001b[0m\u001b[0;34m.\u001b[0m\u001b[0maddr\u001b[0m\u001b[0;34m,\u001b[0m \u001b[0mSootAddressDescriptor\u001b[0m\u001b[0;34m)\u001b[0m\u001b[0;34m:\u001b[0m\u001b[0;34m\u001b[0m\u001b[0;34m\u001b[0m\u001b[0m\n",
      "\u001b[0;32m~/.local/lib/python3.8/site-packages/angr/engines/unicorn.py\u001b[0m in \u001b[0;36mprocess_successors\u001b[0;34m(self, successors, **kwargs)\u001b[0m\n\u001b[1;32m     88\u001b[0m         \u001b[0mstate\u001b[0m \u001b[0;34m=\u001b[0m \u001b[0mself\u001b[0m\u001b[0;34m.\u001b[0m\u001b[0mstate\u001b[0m\u001b[0;34m\u001b[0m\u001b[0;34m\u001b[0m\u001b[0m\n\u001b[1;32m     89\u001b[0m         \u001b[0;32mif\u001b[0m \u001b[0;32mnot\u001b[0m \u001b[0mself\u001b[0m\u001b[0;34m.\u001b[0m\u001b[0m__check\u001b[0m\u001b[0;34m(\u001b[0m\u001b[0;34m**\u001b[0m\u001b[0mkwargs\u001b[0m\u001b[0;34m)\u001b[0m\u001b[0;34m:\u001b[0m\u001b[0;34m\u001b[0m\u001b[0;34m\u001b[0m\u001b[0m\n\u001b[0;32m---> 90\u001b[0;31m             \u001b[0;32mreturn\u001b[0m \u001b[0msuper\u001b[0m\u001b[0;34m(\u001b[0m\u001b[0;34m)\u001b[0m\u001b[0;34m.\u001b[0m\u001b[0mprocess_successors\u001b[0m\u001b[0;34m(\u001b[0m\u001b[0msuccessors\u001b[0m\u001b[0;34m,\u001b[0m \u001b[0;34m**\u001b[0m\u001b[0mkwargs\u001b[0m\u001b[0;34m)\u001b[0m\u001b[0;34m\u001b[0m\u001b[0;34m\u001b[0m\u001b[0m\n\u001b[0m\u001b[1;32m     91\u001b[0m \u001b[0;34m\u001b[0m\u001b[0m\n\u001b[1;32m     92\u001b[0m         \u001b[0mextra_stop_points\u001b[0m \u001b[0;34m=\u001b[0m \u001b[0mkwargs\u001b[0m\u001b[0;34m.\u001b[0m\u001b[0mget\u001b[0m\u001b[0;34m(\u001b[0m\u001b[0;34m'extra_stop_points'\u001b[0m\u001b[0;34m,\u001b[0m \u001b[0;32mNone\u001b[0m\u001b[0;34m)\u001b[0m\u001b[0;34m\u001b[0m\u001b[0;34m\u001b[0m\u001b[0m\n",
      "\u001b[0;32m~/.local/lib/python3.8/site-packages/angr/engines/soot/engine.py\u001b[0m in \u001b[0;36mprocess_successors\u001b[0;34m(self, successors, **kwargs)\u001b[0m\n\u001b[1;32m     62\u001b[0m         \u001b[0mstate\u001b[0m \u001b[0;34m=\u001b[0m \u001b[0mself\u001b[0m\u001b[0;34m.\u001b[0m\u001b[0mstate\u001b[0m\u001b[0;34m\u001b[0m\u001b[0;34m\u001b[0m\u001b[0m\n\u001b[1;32m     63\u001b[0m         \u001b[0;32mif\u001b[0m \u001b[0;32mnot\u001b[0m \u001b[0misinstance\u001b[0m\u001b[0;34m(\u001b[0m\u001b[0mstate\u001b[0m\u001b[0;34m.\u001b[0m\u001b[0m_ip\u001b[0m\u001b[0;34m,\u001b[0m \u001b[0mSootAddressDescriptor\u001b[0m\u001b[0;34m)\u001b[0m\u001b[0;34m:\u001b[0m\u001b[0;34m\u001b[0m\u001b[0;34m\u001b[0m\u001b[0m\n\u001b[0;32m---> 64\u001b[0;31m             \u001b[0;32mreturn\u001b[0m \u001b[0msuper\u001b[0m\u001b[0;34m(\u001b[0m\u001b[0;34m)\u001b[0m\u001b[0;34m.\u001b[0m\u001b[0mprocess_successors\u001b[0m\u001b[0;34m(\u001b[0m\u001b[0msuccessors\u001b[0m\u001b[0;34m,\u001b[0m \u001b[0;34m**\u001b[0m\u001b[0mkwargs\u001b[0m\u001b[0;34m)\u001b[0m\u001b[0;34m\u001b[0m\u001b[0;34m\u001b[0m\u001b[0m\n\u001b[0m\u001b[1;32m     65\u001b[0m         \u001b[0maddr\u001b[0m \u001b[0;34m=\u001b[0m \u001b[0mstate\u001b[0m\u001b[0;34m.\u001b[0m\u001b[0m_ip\u001b[0m\u001b[0;34m\u001b[0m\u001b[0;34m\u001b[0m\u001b[0m\n\u001b[1;32m     66\u001b[0m \u001b[0;34m\u001b[0m\u001b[0m\n",
      "\u001b[0;32m~/.local/lib/python3.8/site-packages/angr/engines/vex/heavy/heavy.py\u001b[0m in \u001b[0;36mprocess_successors\u001b[0;34m(self, successors, irsb, insn_text, insn_bytes, thumb, size, num_inst, extra_stop_points, **kwargs)\u001b[0m\n\u001b[1;32m    134\u001b[0m \u001b[0;34m\u001b[0m\u001b[0m\n\u001b[1;32m    135\u001b[0m             \u001b[0;32mtry\u001b[0m\u001b[0;34m:\u001b[0m\u001b[0;34m\u001b[0m\u001b[0;34m\u001b[0m\u001b[0m\n\u001b[0;32m--> 136\u001b[0;31m                 \u001b[0mself\u001b[0m\u001b[0;34m.\u001b[0m\u001b[0mhandle_vex_block\u001b[0m\u001b[0;34m(\u001b[0m\u001b[0mirsb\u001b[0m\u001b[0;34m)\u001b[0m\u001b[0;34m\u001b[0m\u001b[0;34m\u001b[0m\u001b[0m\n\u001b[0m\u001b[1;32m    137\u001b[0m             \u001b[0;32mexcept\u001b[0m \u001b[0merrors\u001b[0m\u001b[0;34m.\u001b[0m\u001b[0mSimReliftException\u001b[0m \u001b[0;32mas\u001b[0m \u001b[0me\u001b[0m\u001b[0;34m:\u001b[0m\u001b[0;34m\u001b[0m\u001b[0;34m\u001b[0m\u001b[0m\n\u001b[1;32m    138\u001b[0m                 \u001b[0mself\u001b[0m\u001b[0;34m.\u001b[0m\u001b[0mstate\u001b[0m \u001b[0;34m=\u001b[0m \u001b[0me\u001b[0m\u001b[0;34m.\u001b[0m\u001b[0mstate\u001b[0m\u001b[0;34m\u001b[0m\u001b[0;34m\u001b[0m\u001b[0m\n",
      "\u001b[0;32m~/.local/lib/python3.8/site-packages/angr/engines/vex/heavy/super_fastpath.py\u001b[0m in \u001b[0;36mhandle_vex_block\u001b[0;34m(self, irsb)\u001b[0m\n\u001b[1;32m     17\u001b[0m                     \u001b[0;32mbreak\u001b[0m\u001b[0;34m\u001b[0m\u001b[0;34m\u001b[0m\u001b[0m\n\u001b[1;32m     18\u001b[0m \u001b[0;34m\u001b[0m\u001b[0m\n\u001b[0;32m---> 19\u001b[0;31m         \u001b[0msuper\u001b[0m\u001b[0;34m(\u001b[0m\u001b[0;34m)\u001b[0m\u001b[0;34m.\u001b[0m\u001b[0mhandle_vex_block\u001b[0m\u001b[0;34m(\u001b[0m\u001b[0mirsb\u001b[0m\u001b[0;34m)\u001b[0m\u001b[0;34m\u001b[0m\u001b[0;34m\u001b[0m\u001b[0m\n\u001b[0m\u001b[1;32m     20\u001b[0m \u001b[0;34m\u001b[0m\u001b[0m\n\u001b[1;32m     21\u001b[0m     \u001b[0;32mdef\u001b[0m \u001b[0m_perform_vex_expr_RdTmp\u001b[0m\u001b[0;34m(\u001b[0m\u001b[0mself\u001b[0m\u001b[0;34m,\u001b[0m \u001b[0mtmp\u001b[0m\u001b[0;34m)\u001b[0m\u001b[0;34m:\u001b[0m\u001b[0;34m\u001b[0m\u001b[0;34m\u001b[0m\u001b[0m\n",
      "\u001b[0;32m~/.local/lib/python3.8/site-packages/angr/engines/vex/light/slicing.py\u001b[0m in \u001b[0;36mhandle_vex_block\u001b[0;34m(self, irsb)\u001b[0m\n\u001b[1;32m     24\u001b[0m                                         \u001b[0;32mfor\u001b[0m \u001b[0mstmt_idx\u001b[0m\u001b[0;34m,\u001b[0m \u001b[0mstmt\u001b[0m \u001b[0;32min\u001b[0m \u001b[0menumerate\u001b[0m\u001b[0;34m(\u001b[0m\u001b[0mirsb\u001b[0m\u001b[0;34m.\u001b[0m\u001b[0mstatements\u001b[0m\u001b[0;34m)\u001b[0m\u001b[0;31m \u001b[0m\u001b[0;31m\\\u001b[0m\u001b[0;34m\u001b[0m\u001b[0;34m\u001b[0m\u001b[0m\n\u001b[1;32m     25\u001b[0m                                         if stmt.tag == 'Ist_Exit')\n\u001b[0;32m---> 26\u001b[0;31m         \u001b[0msuper\u001b[0m\u001b[0;34m(\u001b[0m\u001b[0;34m)\u001b[0m\u001b[0;34m.\u001b[0m\u001b[0mhandle_vex_block\u001b[0m\u001b[0;34m(\u001b[0m\u001b[0mirsb\u001b[0m\u001b[0;34m)\u001b[0m\u001b[0;34m\u001b[0m\u001b[0;34m\u001b[0m\u001b[0m\n\u001b[0m\u001b[1;32m     27\u001b[0m \u001b[0;34m\u001b[0m\u001b[0m\n\u001b[1;32m     28\u001b[0m     \u001b[0;32mdef\u001b[0m \u001b[0m_handle_vex_stmt\u001b[0m\u001b[0;34m(\u001b[0m\u001b[0mself\u001b[0m\u001b[0;34m,\u001b[0m \u001b[0mstmt\u001b[0m\u001b[0;34m)\u001b[0m\u001b[0;34m:\u001b[0m\u001b[0;34m\u001b[0m\u001b[0;34m\u001b[0m\u001b[0m\n",
      "\u001b[0;32m~/.local/lib/python3.8/site-packages/angr/engines/vex/heavy/actions.py\u001b[0m in \u001b[0;36mhandle_vex_block\u001b[0;34m(self, irsb)\u001b[0m\n\u001b[1;32m     28\u001b[0m     \u001b[0;32mdef\u001b[0m \u001b[0mhandle_vex_block\u001b[0m\u001b[0;34m(\u001b[0m\u001b[0mself\u001b[0m\u001b[0;34m,\u001b[0m \u001b[0mirsb\u001b[0m\u001b[0;34m)\u001b[0m\u001b[0;34m:\u001b[0m\u001b[0;34m\u001b[0m\u001b[0;34m\u001b[0m\u001b[0m\n\u001b[1;32m     29\u001b[0m         \u001b[0mself\u001b[0m\u001b[0;34m.\u001b[0m\u001b[0m__tmp_deps\u001b[0m \u001b[0;34m=\u001b[0m \u001b[0;34m{\u001b[0m\u001b[0;34m}\u001b[0m\u001b[0;34m\u001b[0m\u001b[0;34m\u001b[0m\u001b[0m\n\u001b[0;32m---> 30\u001b[0;31m         \u001b[0msuper\u001b[0m\u001b[0;34m(\u001b[0m\u001b[0;34m)\u001b[0m\u001b[0;34m.\u001b[0m\u001b[0mhandle_vex_block\u001b[0m\u001b[0;34m(\u001b[0m\u001b[0mirsb\u001b[0m\u001b[0;34m)\u001b[0m\u001b[0;34m\u001b[0m\u001b[0;34m\u001b[0m\u001b[0m\n\u001b[0m\u001b[1;32m     31\u001b[0m \u001b[0;34m\u001b[0m\u001b[0m\n\u001b[1;32m     32\u001b[0m     \u001b[0;32mdef\u001b[0m \u001b[0m_handle_vex_const\u001b[0m\u001b[0;34m(\u001b[0m\u001b[0mself\u001b[0m\u001b[0;34m,\u001b[0m \u001b[0mconst\u001b[0m\u001b[0;34m)\u001b[0m\u001b[0;34m:\u001b[0m\u001b[0;34m\u001b[0m\u001b[0;34m\u001b[0m\u001b[0m\n",
      "\u001b[0;32m~/.local/lib/python3.8/site-packages/angr/engines/vex/heavy/inspect.py\u001b[0m in \u001b[0;36mhandle_vex_block\u001b[0;34m(self, irsb)\u001b[0m\n\u001b[1;32m     43\u001b[0m     \u001b[0;32mdef\u001b[0m \u001b[0mhandle_vex_block\u001b[0m\u001b[0;34m(\u001b[0m\u001b[0mself\u001b[0m\u001b[0;34m,\u001b[0m \u001b[0mirsb\u001b[0m\u001b[0;34m)\u001b[0m\u001b[0;34m:\u001b[0m\u001b[0;34m\u001b[0m\u001b[0;34m\u001b[0m\u001b[0m\n\u001b[1;32m     44\u001b[0m         \u001b[0mself\u001b[0m\u001b[0;34m.\u001b[0m\u001b[0mstate\u001b[0m\u001b[0;34m.\u001b[0m\u001b[0m_inspect\u001b[0m\u001b[0;34m(\u001b[0m\u001b[0;34m'irsb'\u001b[0m\u001b[0;34m,\u001b[0m \u001b[0mBP_BEFORE\u001b[0m\u001b[0;34m,\u001b[0m \u001b[0maddress\u001b[0m\u001b[0;34m=\u001b[0m\u001b[0mirsb\u001b[0m\u001b[0;34m.\u001b[0m\u001b[0maddr\u001b[0m\u001b[0;34m)\u001b[0m\u001b[0;34m\u001b[0m\u001b[0;34m\u001b[0m\u001b[0m\n\u001b[0;32m---> 45\u001b[0;31m         \u001b[0msuper\u001b[0m\u001b[0;34m(\u001b[0m\u001b[0;34m)\u001b[0m\u001b[0;34m.\u001b[0m\u001b[0mhandle_vex_block\u001b[0m\u001b[0;34m(\u001b[0m\u001b[0mirsb\u001b[0m\u001b[0;34m)\u001b[0m\u001b[0;34m\u001b[0m\u001b[0;34m\u001b[0m\u001b[0m\n\u001b[0m\u001b[1;32m     46\u001b[0m         \u001b[0mself\u001b[0m\u001b[0;34m.\u001b[0m\u001b[0mstate\u001b[0m\u001b[0;34m.\u001b[0m\u001b[0m_inspect\u001b[0m\u001b[0;34m(\u001b[0m\u001b[0;34m'instruction'\u001b[0m\u001b[0;34m,\u001b[0m \u001b[0mBP_AFTER\u001b[0m\u001b[0;34m)\u001b[0m\u001b[0;34m\u001b[0m\u001b[0;34m\u001b[0m\u001b[0m\n\u001b[1;32m     47\u001b[0m         \u001b[0mself\u001b[0m\u001b[0;34m.\u001b[0m\u001b[0mstate\u001b[0m\u001b[0;34m.\u001b[0m\u001b[0m_inspect\u001b[0m\u001b[0;34m(\u001b[0m\u001b[0;34m'irsb'\u001b[0m\u001b[0;34m,\u001b[0m \u001b[0mBP_AFTER\u001b[0m\u001b[0;34m,\u001b[0m \u001b[0maddress\u001b[0m\u001b[0;34m=\u001b[0m\u001b[0mirsb\u001b[0m\u001b[0;34m.\u001b[0m\u001b[0maddr\u001b[0m\u001b[0;34m)\u001b[0m\u001b[0;34m\u001b[0m\u001b[0;34m\u001b[0m\u001b[0m\n",
      "\u001b[0;32m~/.local/lib/python3.8/site-packages/angr/engines/vex/light/light.py\u001b[0m in \u001b[0;36mhandle_vex_block\u001b[0;34m(self, irsb)\u001b[0m\n\u001b[1;32m    444\u001b[0m         \u001b[0;32mfor\u001b[0m \u001b[0mstmt_idx\u001b[0m\u001b[0;34m,\u001b[0m \u001b[0mstmt\u001b[0m \u001b[0;32min\u001b[0m \u001b[0menumerate\u001b[0m\u001b[0;34m(\u001b[0m\u001b[0mirsb\u001b[0m\u001b[0;34m.\u001b[0m\u001b[0mstatements\u001b[0m\u001b[0;34m)\u001b[0m\u001b[0;34m:\u001b[0m\u001b[0;34m\u001b[0m\u001b[0;34m\u001b[0m\u001b[0m\n\u001b[1;32m    445\u001b[0m             \u001b[0mself\u001b[0m\u001b[0;34m.\u001b[0m\u001b[0mstmt_idx\u001b[0m \u001b[0;34m=\u001b[0m \u001b[0mstmt_idx\u001b[0m\u001b[0;34m\u001b[0m\u001b[0;34m\u001b[0m\u001b[0m\n\u001b[0;32m--> 446\u001b[0;31m             \u001b[0mself\u001b[0m\u001b[0;34m.\u001b[0m\u001b[0m_handle_vex_stmt\u001b[0m\u001b[0;34m(\u001b[0m\u001b[0mstmt\u001b[0m\u001b[0;34m)\u001b[0m\u001b[0;34m\u001b[0m\u001b[0;34m\u001b[0m\u001b[0m\n\u001b[0m\u001b[1;32m    447\u001b[0m         \u001b[0mself\u001b[0m\u001b[0;34m.\u001b[0m\u001b[0mstmt_idx\u001b[0m \u001b[0;34m=\u001b[0m \u001b[0mDEFAULT_STATEMENT\u001b[0m\u001b[0;34m\u001b[0m\u001b[0;34m\u001b[0m\u001b[0m\n\u001b[1;32m    448\u001b[0m         \u001b[0mself\u001b[0m\u001b[0;34m.\u001b[0m\u001b[0m_handle_vex_defaultexit\u001b[0m\u001b[0;34m(\u001b[0m\u001b[0mirsb\u001b[0m\u001b[0;34m.\u001b[0m\u001b[0mnext\u001b[0m\u001b[0;34m,\u001b[0m \u001b[0mirsb\u001b[0m\u001b[0;34m.\u001b[0m\u001b[0mjumpkind\u001b[0m\u001b[0;34m)\u001b[0m\u001b[0;34m\u001b[0m\u001b[0;34m\u001b[0m\u001b[0m\n",
      "\u001b[0;32m~/.local/lib/python3.8/site-packages/angr/engines/vex/light/slicing.py\u001b[0m in \u001b[0;36m_handle_vex_stmt\u001b[0;34m(self, stmt)\u001b[0m\n\u001b[1;32m     28\u001b[0m     \u001b[0;32mdef\u001b[0m \u001b[0m_handle_vex_stmt\u001b[0m\u001b[0;34m(\u001b[0m\u001b[0mself\u001b[0m\u001b[0;34m,\u001b[0m \u001b[0mstmt\u001b[0m\u001b[0;34m)\u001b[0m\u001b[0;34m:\u001b[0m\u001b[0;34m\u001b[0m\u001b[0;34m\u001b[0m\u001b[0m\n\u001b[1;32m     29\u001b[0m         \u001b[0;32mif\u001b[0m \u001b[0mself\u001b[0m\u001b[0;34m.\u001b[0m\u001b[0m_check_vex_slice\u001b[0m\u001b[0;34m(\u001b[0m\u001b[0mself\u001b[0m\u001b[0;34m.\u001b[0m\u001b[0mstmt_idx\u001b[0m\u001b[0;34m)\u001b[0m\u001b[0;34m:\u001b[0m\u001b[0;34m\u001b[0m\u001b[0;34m\u001b[0m\u001b[0m\n\u001b[0;32m---> 30\u001b[0;31m             \u001b[0msuper\u001b[0m\u001b[0;34m(\u001b[0m\u001b[0;34m)\u001b[0m\u001b[0;34m.\u001b[0m\u001b[0m_handle_vex_stmt\u001b[0m\u001b[0;34m(\u001b[0m\u001b[0mstmt\u001b[0m\u001b[0;34m)\u001b[0m\u001b[0;34m\u001b[0m\u001b[0;34m\u001b[0m\u001b[0m\n\u001b[0m\u001b[1;32m     31\u001b[0m \u001b[0;34m\u001b[0m\u001b[0m\n\u001b[1;32m     32\u001b[0m     \u001b[0;32mdef\u001b[0m \u001b[0m_handle_vex_defaultexit\u001b[0m\u001b[0;34m(\u001b[0m\u001b[0mself\u001b[0m\u001b[0;34m,\u001b[0m \u001b[0mexpr\u001b[0m\u001b[0;34m,\u001b[0m \u001b[0mjumpkind\u001b[0m\u001b[0;34m)\u001b[0m\u001b[0;34m:\u001b[0m\u001b[0;34m\u001b[0m\u001b[0;34m\u001b[0m\u001b[0m\n",
      "\u001b[0;32m~/.local/lib/python3.8/site-packages/angr/engines/vex/heavy/inspect.py\u001b[0m in \u001b[0;36m_handle_vex_stmt\u001b[0;34m(self, stmt)\u001b[0m\n\u001b[1;32m     38\u001b[0m     \u001b[0;32mdef\u001b[0m \u001b[0m_handle_vex_stmt\u001b[0m\u001b[0;34m(\u001b[0m\u001b[0mself\u001b[0m\u001b[0;34m,\u001b[0m \u001b[0mstmt\u001b[0m\u001b[0;34m)\u001b[0m\u001b[0;34m:\u001b[0m\u001b[0;34m\u001b[0m\u001b[0;34m\u001b[0m\u001b[0m\n\u001b[1;32m     39\u001b[0m         \u001b[0mself\u001b[0m\u001b[0;34m.\u001b[0m\u001b[0mstate\u001b[0m\u001b[0;34m.\u001b[0m\u001b[0m_inspect\u001b[0m\u001b[0;34m(\u001b[0m\u001b[0;34m'statement'\u001b[0m\u001b[0;34m,\u001b[0m \u001b[0mBP_BEFORE\u001b[0m\u001b[0;34m,\u001b[0m \u001b[0mstatement\u001b[0m\u001b[0;34m=\u001b[0m\u001b[0mself\u001b[0m\u001b[0;34m.\u001b[0m\u001b[0mstmt_idx\u001b[0m\u001b[0;34m)\u001b[0m\u001b[0;34m\u001b[0m\u001b[0;34m\u001b[0m\u001b[0m\n\u001b[0;32m---> 40\u001b[0;31m         \u001b[0msuper\u001b[0m\u001b[0;34m(\u001b[0m\u001b[0;34m)\u001b[0m\u001b[0;34m.\u001b[0m\u001b[0m_handle_vex_stmt\u001b[0m\u001b[0;34m(\u001b[0m\u001b[0mstmt\u001b[0m\u001b[0;34m)\u001b[0m\u001b[0;34m\u001b[0m\u001b[0;34m\u001b[0m\u001b[0m\n\u001b[0m\u001b[1;32m     41\u001b[0m         \u001b[0mself\u001b[0m\u001b[0;34m.\u001b[0m\u001b[0mstate\u001b[0m\u001b[0;34m.\u001b[0m\u001b[0m_inspect\u001b[0m\u001b[0;34m(\u001b[0m\u001b[0;34m'statement'\u001b[0m\u001b[0;34m,\u001b[0m \u001b[0mBP_AFTER\u001b[0m\u001b[0;34m)\u001b[0m\u001b[0;34m\u001b[0m\u001b[0;34m\u001b[0m\u001b[0m\n\u001b[1;32m     42\u001b[0m \u001b[0;34m\u001b[0m\u001b[0m\n",
      "\u001b[0;32m~/.local/lib/python3.8/site-packages/angr/engines/vex/light/resilience.py\u001b[0m in \u001b[0;36minner\u001b[0;34m(self, *iargs, **ikwargs)\u001b[0m\n\u001b[1;32m     34\u001b[0m     \u001b[0;32mdef\u001b[0m \u001b[0minner\u001b[0m\u001b[0;34m(\u001b[0m\u001b[0mself\u001b[0m\u001b[0;34m,\u001b[0m \u001b[0;34m*\u001b[0m\u001b[0miargs\u001b[0m\u001b[0;34m,\u001b[0m \u001b[0;34m**\u001b[0m\u001b[0mikwargs\u001b[0m\u001b[0;34m)\u001b[0m\u001b[0;34m:\u001b[0m\u001b[0;34m\u001b[0m\u001b[0;34m\u001b[0m\u001b[0m\n\u001b[1;32m     35\u001b[0m         \u001b[0;32mtry\u001b[0m\u001b[0;34m:\u001b[0m\u001b[0;34m\u001b[0m\u001b[0;34m\u001b[0m\u001b[0m\n\u001b[0;32m---> 36\u001b[0;31m             \u001b[0;32mreturn\u001b[0m \u001b[0mgetattr\u001b[0m\u001b[0;34m(\u001b[0m\u001b[0msuper\u001b[0m\u001b[0;34m(\u001b[0m\u001b[0mVEXResilienceMixin\u001b[0m\u001b[0;34m,\u001b[0m \u001b[0mself\u001b[0m\u001b[0;34m)\u001b[0m\u001b[0;34m,\u001b[0m \u001b[0mfunc\u001b[0m\u001b[0;34m)\u001b[0m\u001b[0;34m(\u001b[0m\u001b[0;34m*\u001b[0m\u001b[0miargs\u001b[0m\u001b[0;34m,\u001b[0m \u001b[0;34m**\u001b[0m\u001b[0mikwargs\u001b[0m\u001b[0;34m)\u001b[0m\u001b[0;34m\u001b[0m\u001b[0;34m\u001b[0m\u001b[0m\n\u001b[0m\u001b[1;32m     37\u001b[0m         \u001b[0;32mexcept\u001b[0m \u001b[0mexcs\u001b[0m \u001b[0;32mas\u001b[0m \u001b[0me\u001b[0m\u001b[0;34m:\u001b[0m\u001b[0;34m\u001b[0m\u001b[0;34m\u001b[0m\u001b[0m\n\u001b[1;32m     38\u001b[0m             \u001b[0;32mfor\u001b[0m \u001b[0mexc\u001b[0m\u001b[0;34m,\u001b[0m \u001b[0mhandler\u001b[0m \u001b[0;32min\u001b[0m \u001b[0mzip\u001b[0m\u001b[0;34m(\u001b[0m\u001b[0mexcs\u001b[0m\u001b[0;34m,\u001b[0m \u001b[0mhandlers\u001b[0m\u001b[0;34m)\u001b[0m\u001b[0;34m:\u001b[0m\u001b[0;34m\u001b[0m\u001b[0;34m\u001b[0m\u001b[0m\n",
      "\u001b[0;32m~/.local/lib/python3.8/site-packages/angr/engines/vex/heavy/heavy.py\u001b[0m in \u001b[0;36m_handle_vex_stmt\u001b[0;34m(self, stmt)\u001b[0m\n\u001b[1;32m    200\u001b[0m     \u001b[0;32mdef\u001b[0m \u001b[0m_handle_vex_stmt\u001b[0m\u001b[0;34m(\u001b[0m\u001b[0mself\u001b[0m\u001b[0;34m,\u001b[0m \u001b[0mstmt\u001b[0m\u001b[0;34m)\u001b[0m\u001b[0;34m:\u001b[0m\u001b[0;34m\u001b[0m\u001b[0;34m\u001b[0m\u001b[0m\n\u001b[1;32m    201\u001b[0m         \u001b[0mself\u001b[0m\u001b[0;34m.\u001b[0m\u001b[0mstate\u001b[0m\u001b[0;34m.\u001b[0m\u001b[0mscratch\u001b[0m\u001b[0;34m.\u001b[0m\u001b[0mstmt_idx\u001b[0m \u001b[0;34m=\u001b[0m \u001b[0mself\u001b[0m\u001b[0;34m.\u001b[0m\u001b[0mstmt_idx\u001b[0m\u001b[0;34m\u001b[0m\u001b[0;34m\u001b[0m\u001b[0m\n\u001b[0;32m--> 202\u001b[0;31m         \u001b[0msuper\u001b[0m\u001b[0;34m(\u001b[0m\u001b[0;34m)\u001b[0m\u001b[0;34m.\u001b[0m\u001b[0m_handle_vex_stmt\u001b[0m\u001b[0;34m(\u001b[0m\u001b[0mstmt\u001b[0m\u001b[0;34m)\u001b[0m\u001b[0;34m\u001b[0m\u001b[0;34m\u001b[0m\u001b[0m\n\u001b[0m\u001b[1;32m    203\u001b[0m \u001b[0;34m\u001b[0m\u001b[0m\n\u001b[1;32m    204\u001b[0m     \u001b[0;32mdef\u001b[0m \u001b[0m_handle_vex_stmt_IMark\u001b[0m\u001b[0;34m(\u001b[0m\u001b[0mself\u001b[0m\u001b[0;34m,\u001b[0m \u001b[0mstmt\u001b[0m\u001b[0;34m)\u001b[0m\u001b[0;34m:\u001b[0m\u001b[0;34m\u001b[0m\u001b[0;34m\u001b[0m\u001b[0m\n",
      "\u001b[0;32m~/.local/lib/python3.8/site-packages/angr/engines/vex/light/light.py\u001b[0m in \u001b[0;36m_handle_vex_stmt\u001b[0;34m(self, stmt)\u001b[0m\n\u001b[1;32m     49\u001b[0m     \u001b[0;32mdef\u001b[0m \u001b[0m_handle_vex_stmt\u001b[0m\u001b[0;34m(\u001b[0m\u001b[0mself\u001b[0m\u001b[0;34m,\u001b[0m \u001b[0mstmt\u001b[0m\u001b[0;34m:\u001b[0m \u001b[0mpyvex\u001b[0m\u001b[0;34m.\u001b[0m\u001b[0mstmt\u001b[0m\u001b[0;34m.\u001b[0m\u001b[0mIRStmt\u001b[0m\u001b[0;34m)\u001b[0m\u001b[0;34m:\u001b[0m\u001b[0;34m\u001b[0m\u001b[0;34m\u001b[0m\u001b[0m\n\u001b[1;32m     50\u001b[0m         \u001b[0mhandler\u001b[0m \u001b[0;34m=\u001b[0m \u001b[0mself\u001b[0m\u001b[0;34m.\u001b[0m\u001b[0m_vex_stmt_handlers\u001b[0m\u001b[0;34m[\u001b[0m\u001b[0mstmt\u001b[0m\u001b[0;34m.\u001b[0m\u001b[0mtag_int\u001b[0m\u001b[0;34m]\u001b[0m\u001b[0;34m\u001b[0m\u001b[0;34m\u001b[0m\u001b[0m\n\u001b[0;32m---> 51\u001b[0;31m         \u001b[0mhandler\u001b[0m\u001b[0;34m(\u001b[0m\u001b[0mstmt\u001b[0m\u001b[0;34m)\u001b[0m\u001b[0;34m\u001b[0m\u001b[0;34m\u001b[0m\u001b[0m\n\u001b[0m\u001b[1;32m     52\u001b[0m \u001b[0;34m\u001b[0m\u001b[0m\n\u001b[1;32m     53\u001b[0m     \u001b[0;32mdef\u001b[0m \u001b[0m_handle_vex_expr\u001b[0m\u001b[0;34m(\u001b[0m\u001b[0mself\u001b[0m\u001b[0;34m,\u001b[0m \u001b[0mexpr\u001b[0m\u001b[0;34m:\u001b[0m \u001b[0mpyvex\u001b[0m\u001b[0;34m.\u001b[0m\u001b[0mexpr\u001b[0m\u001b[0;34m.\u001b[0m\u001b[0mIRExpr\u001b[0m\u001b[0;34m)\u001b[0m\u001b[0;34m:\u001b[0m\u001b[0;34m\u001b[0m\u001b[0;34m\u001b[0m\u001b[0m\n",
      "\u001b[0;32m~/.local/lib/python3.8/site-packages/angr/engines/vex/light/light.py\u001b[0m in \u001b[0;36m_handle_vex_stmt_Exit\u001b[0;34m(self, stmt)\u001b[0m\n\u001b[1;32m    204\u001b[0m     \u001b[0;32mdef\u001b[0m \u001b[0m_analyze_vex_stmt_Exit_guard\u001b[0m\u001b[0;34m(\u001b[0m\u001b[0mself\u001b[0m\u001b[0;34m,\u001b[0m \u001b[0;34m*\u001b[0m\u001b[0ma\u001b[0m\u001b[0;34m,\u001b[0m \u001b[0;34m**\u001b[0m\u001b[0mkw\u001b[0m\u001b[0;34m)\u001b[0m\u001b[0;34m:\u001b[0m \u001b[0;32mreturn\u001b[0m \u001b[0mself\u001b[0m\u001b[0;34m.\u001b[0m \u001b[0m_handle_vex_expr\u001b[0m\u001b[0;34m(\u001b[0m\u001b[0;34m*\u001b[0m\u001b[0ma\u001b[0m\u001b[0;34m,\u001b[0m \u001b[0;34m**\u001b[0m\u001b[0mkw\u001b[0m\u001b[0;34m)\u001b[0m\u001b[0;34m\u001b[0m\u001b[0;34m\u001b[0m\u001b[0m\n\u001b[1;32m    205\u001b[0m     \u001b[0;32mdef\u001b[0m \u001b[0m_handle_vex_stmt_Exit\u001b[0m\u001b[0;34m(\u001b[0m\u001b[0mself\u001b[0m\u001b[0;34m,\u001b[0m \u001b[0mstmt\u001b[0m\u001b[0;34m:\u001b[0m \u001b[0mpyvex\u001b[0m\u001b[0;34m.\u001b[0m\u001b[0mstmt\u001b[0m\u001b[0;34m.\u001b[0m\u001b[0mExit\u001b[0m\u001b[0;34m)\u001b[0m\u001b[0;34m:\u001b[0m\u001b[0;34m\u001b[0m\u001b[0;34m\u001b[0m\u001b[0m\n\u001b[0;32m--> 206\u001b[0;31m         self._perform_vex_stmt_Exit(\n\u001b[0m\u001b[1;32m    207\u001b[0m             \u001b[0mself\u001b[0m\u001b[0;34m.\u001b[0m\u001b[0m_analyze_vex_stmt_Exit_guard\u001b[0m\u001b[0;34m(\u001b[0m\u001b[0mstmt\u001b[0m\u001b[0;34m.\u001b[0m\u001b[0mguard\u001b[0m\u001b[0;34m)\u001b[0m\u001b[0;34m,\u001b[0m\u001b[0;34m\u001b[0m\u001b[0;34m\u001b[0m\u001b[0m\n\u001b[1;32m    208\u001b[0m             \u001b[0mself\u001b[0m\u001b[0;34m.\u001b[0m\u001b[0m_handle_vex_const\u001b[0m\u001b[0;34m(\u001b[0m\u001b[0mstmt\u001b[0m\u001b[0;34m.\u001b[0m\u001b[0mdst\u001b[0m\u001b[0;34m)\u001b[0m\u001b[0;34m,\u001b[0m\u001b[0;34m\u001b[0m\u001b[0;34m\u001b[0m\u001b[0m\n",
      "\u001b[0;32m~/.local/lib/python3.8/site-packages/angr/engines/vex/heavy/actions.py\u001b[0m in \u001b[0;36m_perform_vex_stmt_Exit\u001b[0;34m(self, guard_bundle, target_bundle, jumpkind)\u001b[0m\n\u001b[1;32m    186\u001b[0m             \u001b[0mself\u001b[0m\u001b[0;34m.\u001b[0m\u001b[0mstate\u001b[0m\u001b[0;34m.\u001b[0m\u001b[0mhistory\u001b[0m\u001b[0;34m.\u001b[0m\u001b[0madd_action\u001b[0m\u001b[0;34m(\u001b[0m\u001b[0mSimActionExit\u001b[0m\u001b[0;34m(\u001b[0m\u001b[0mself\u001b[0m\u001b[0;34m.\u001b[0m\u001b[0mstate\u001b[0m\u001b[0;34m,\u001b[0m \u001b[0mtarget\u001b[0m\u001b[0;34m=\u001b[0m\u001b[0mtarget_ao\u001b[0m\u001b[0;34m,\u001b[0m \u001b[0mcondition\u001b[0m\u001b[0;34m=\u001b[0m\u001b[0mguard_ao\u001b[0m\u001b[0;34m,\u001b[0m \u001b[0mexit_type\u001b[0m\u001b[0;34m=\u001b[0m\u001b[0mSimActionExit\u001b[0m\u001b[0;34m.\u001b[0m\u001b[0mCONDITIONAL\u001b[0m\u001b[0;34m)\u001b[0m\u001b[0;34m)\u001b[0m\u001b[0;34m\u001b[0m\u001b[0;34m\u001b[0m\u001b[0m\n\u001b[1;32m    187\u001b[0m \u001b[0;34m\u001b[0m\u001b[0m\n\u001b[0;32m--> 188\u001b[0;31m         \u001b[0msuper\u001b[0m\u001b[0;34m(\u001b[0m\u001b[0;34m)\u001b[0m\u001b[0;34m.\u001b[0m\u001b[0m_perform_vex_stmt_Exit\u001b[0m\u001b[0;34m(\u001b[0m\u001b[0mguard\u001b[0m\u001b[0;34m,\u001b[0m \u001b[0mtarget\u001b[0m\u001b[0;34m,\u001b[0m \u001b[0mjumpkind\u001b[0m\u001b[0;34m)\u001b[0m\u001b[0;34m\u001b[0m\u001b[0;34m\u001b[0m\u001b[0m\n\u001b[0m\u001b[1;32m    189\u001b[0m \u001b[0;34m\u001b[0m\u001b[0m\n\u001b[1;32m    190\u001b[0m     \u001b[0;32mdef\u001b[0m \u001b[0m_perform_vex_defaultexit\u001b[0m\u001b[0;34m(\u001b[0m\u001b[0mself\u001b[0m\u001b[0;34m,\u001b[0m \u001b[0mtarget_bundle\u001b[0m\u001b[0;34m,\u001b[0m \u001b[0mjumpkind\u001b[0m\u001b[0;34m)\u001b[0m\u001b[0;34m:\u001b[0m\u001b[0;34m\u001b[0m\u001b[0;34m\u001b[0m\u001b[0m\n",
      "\u001b[0;32m~/.local/lib/python3.8/site-packages/angr/engines/vex/heavy/heavy.py\u001b[0m in \u001b[0;36m_perform_vex_stmt_Exit\u001b[0;34m(self, guard, target, jumpkind)\u001b[0m\n\u001b[1;32m    244\u001b[0m \u001b[0;34m\u001b[0m\u001b[0m\n\u001b[1;32m    245\u001b[0m         \u001b[0;32mif\u001b[0m \u001b[0mexit_state\u001b[0m \u001b[0;32mis\u001b[0m \u001b[0;32mnot\u001b[0m \u001b[0;32mNone\u001b[0m\u001b[0;34m:\u001b[0m\u001b[0;34m\u001b[0m\u001b[0;34m\u001b[0m\u001b[0m\n\u001b[0;32m--> 246\u001b[0;31m             self.successors.add_successor(exit_state, target, guard, jumpkind,\n\u001b[0m\u001b[1;32m    247\u001b[0m                                      exit_stmt_idx=self.stmt_idx, exit_ins_addr=self.state.scratch.ins_addr)\n\u001b[1;32m    248\u001b[0m \u001b[0;34m\u001b[0m\u001b[0m\n",
      "\u001b[0;32m~/.local/lib/python3.8/site-packages/angr/engines/successors.py\u001b[0m in \u001b[0;36madd_successor\u001b[0;34m(self, state, target, guard, jumpkind, add_guard, exit_stmt_idx, exit_ins_addr, source)\u001b[0m\n\u001b[1;32m    118\u001b[0m         \u001b[0mstate\u001b[0m\u001b[0;34m.\u001b[0m\u001b[0mscratch\u001b[0m\u001b[0;34m.\u001b[0m\u001b[0mexit_ins_addr\u001b[0m \u001b[0;34m=\u001b[0m \u001b[0mexit_ins_addr\u001b[0m\u001b[0;34m\u001b[0m\u001b[0;34m\u001b[0m\u001b[0m\n\u001b[1;32m    119\u001b[0m \u001b[0;34m\u001b[0m\u001b[0m\n\u001b[0;32m--> 120\u001b[0;31m         \u001b[0mself\u001b[0m\u001b[0;34m.\u001b[0m\u001b[0m_preprocess_successor\u001b[0m\u001b[0;34m(\u001b[0m\u001b[0mstate\u001b[0m\u001b[0;34m,\u001b[0m \u001b[0madd_guard\u001b[0m\u001b[0;34m=\u001b[0m\u001b[0madd_guard\u001b[0m\u001b[0;34m)\u001b[0m\u001b[0;34m\u001b[0m\u001b[0;34m\u001b[0m\u001b[0m\n\u001b[0m\u001b[1;32m    121\u001b[0m \u001b[0;34m\u001b[0m\u001b[0m\n\u001b[1;32m    122\u001b[0m         \u001b[0;32mif\u001b[0m \u001b[0mstate\u001b[0m\u001b[0;34m.\u001b[0m\u001b[0mhistory\u001b[0m\u001b[0;34m.\u001b[0m\u001b[0mjumpkind\u001b[0m \u001b[0;34m==\u001b[0m \u001b[0;34m'Ijk_SigFPE_IntDiv'\u001b[0m \u001b[0;32mand\u001b[0m \u001b[0mo\u001b[0m\u001b[0;34m.\u001b[0m\u001b[0mPRODUCE_ZERODIV_SUCCESSORS\u001b[0m \u001b[0;32mnot\u001b[0m \u001b[0;32min\u001b[0m \u001b[0mstate\u001b[0m\u001b[0;34m.\u001b[0m\u001b[0moptions\u001b[0m\u001b[0;34m:\u001b[0m\u001b[0;34m\u001b[0m\u001b[0;34m\u001b[0m\u001b[0m\n",
      "\u001b[0;32m~/.local/lib/python3.8/site-packages/angr/engines/successors.py\u001b[0m in \u001b[0;36m_preprocess_successor\u001b[0;34m(self, state, add_guard)\u001b[0m\n\u001b[1;32m    153\u001b[0m         \u001b[0;31m# apply the guard constraint and new program counter to the state\u001b[0m\u001b[0;34m\u001b[0m\u001b[0;34m\u001b[0m\u001b[0;34m\u001b[0m\u001b[0m\n\u001b[1;32m    154\u001b[0m         \u001b[0;32mif\u001b[0m \u001b[0madd_guard\u001b[0m\u001b[0;34m:\u001b[0m\u001b[0;34m\u001b[0m\u001b[0;34m\u001b[0m\u001b[0m\n\u001b[0;32m--> 155\u001b[0;31m             \u001b[0mstate\u001b[0m\u001b[0;34m.\u001b[0m\u001b[0madd_constraints\u001b[0m\u001b[0;34m(\u001b[0m\u001b[0mstate\u001b[0m\u001b[0;34m.\u001b[0m\u001b[0mscratch\u001b[0m\u001b[0;34m.\u001b[0m\u001b[0mguard\u001b[0m\u001b[0;34m)\u001b[0m\u001b[0;34m\u001b[0m\u001b[0;34m\u001b[0m\u001b[0m\n\u001b[0m\u001b[1;32m    156\u001b[0m         \u001b[0;31m# trigger inspect breakpoints here since this statement technically shows up in the IRSB as the \"next\"\u001b[0m\u001b[0;34m\u001b[0m\u001b[0;34m\u001b[0m\u001b[0;34m\u001b[0m\u001b[0m\n\u001b[1;32m    157\u001b[0m         \u001b[0mstate\u001b[0m\u001b[0;34m.\u001b[0m\u001b[0mregs\u001b[0m\u001b[0;34m.\u001b[0m\u001b[0mip\u001b[0m \u001b[0;34m=\u001b[0m \u001b[0mstate\u001b[0m\u001b[0;34m.\u001b[0m\u001b[0mscratch\u001b[0m\u001b[0;34m.\u001b[0m\u001b[0mtarget\u001b[0m\u001b[0;34m\u001b[0m\u001b[0;34m\u001b[0m\u001b[0m\n",
      "\u001b[0;32m~/.local/lib/python3.8/site-packages/angr/sim_state.py\u001b[0m in \u001b[0;36madd_constraints\u001b[0;34m(self, *args, **kwargs)\u001b[0m\n\u001b[1;32m    453\u001b[0m             \u001b[0mself\u001b[0m\u001b[0;34m.\u001b[0m\u001b[0m_inspect\u001b[0m\u001b[0;34m(\u001b[0m\u001b[0;34m'constraints'\u001b[0m\u001b[0;34m,\u001b[0m \u001b[0mBP_BEFORE\u001b[0m\u001b[0;34m,\u001b[0m \u001b[0madded_constraints\u001b[0m\u001b[0;34m=\u001b[0m\u001b[0mconstraints\u001b[0m\u001b[0;34m)\u001b[0m\u001b[0;34m\u001b[0m\u001b[0;34m\u001b[0m\u001b[0m\n\u001b[1;32m    454\u001b[0m             \u001b[0mconstraints\u001b[0m \u001b[0;34m=\u001b[0m \u001b[0mself\u001b[0m\u001b[0;34m.\u001b[0m\u001b[0m_inspect_getattr\u001b[0m\u001b[0;34m(\u001b[0m\u001b[0;34m\"added_constraints\"\u001b[0m\u001b[0;34m,\u001b[0m \u001b[0mconstraints\u001b[0m\u001b[0;34m)\u001b[0m\u001b[0;34m\u001b[0m\u001b[0;34m\u001b[0m\u001b[0m\n\u001b[0;32m--> 455\u001b[0;31m             \u001b[0madded\u001b[0m \u001b[0;34m=\u001b[0m \u001b[0mself\u001b[0m\u001b[0;34m.\u001b[0m\u001b[0msolver\u001b[0m\u001b[0;34m.\u001b[0m\u001b[0madd\u001b[0m\u001b[0;34m(\u001b[0m\u001b[0;34m*\u001b[0m\u001b[0mconstraints\u001b[0m\u001b[0;34m)\u001b[0m\u001b[0;34m\u001b[0m\u001b[0;34m\u001b[0m\u001b[0m\n\u001b[0m\u001b[1;32m    456\u001b[0m             \u001b[0mself\u001b[0m\u001b[0;34m.\u001b[0m\u001b[0m_inspect\u001b[0m\u001b[0;34m(\u001b[0m\u001b[0;34m'constraints'\u001b[0m\u001b[0;34m,\u001b[0m \u001b[0mBP_AFTER\u001b[0m\u001b[0;34m)\u001b[0m\u001b[0;34m\u001b[0m\u001b[0;34m\u001b[0m\u001b[0m\n\u001b[1;32m    457\u001b[0m \u001b[0;34m\u001b[0m\u001b[0m\n",
      "\u001b[0;32m~/.local/lib/python3.8/site-packages/angr/state_plugins/sim_action_object.py\u001b[0m in \u001b[0;36mast_stripper\u001b[0;34m(*args, **kwargs)\u001b[0m\n\u001b[1;32m     55\u001b[0m         \u001b[0mnew_args\u001b[0m \u001b[0;34m=\u001b[0m \u001b[0m_raw_ast\u001b[0m\u001b[0;34m(\u001b[0m\u001b[0margs\u001b[0m\u001b[0;34m)\u001b[0m\u001b[0;34m\u001b[0m\u001b[0;34m\u001b[0m\u001b[0m\n\u001b[1;32m     56\u001b[0m         \u001b[0mnew_kwargs\u001b[0m \u001b[0;34m=\u001b[0m \u001b[0m_raw_ast\u001b[0m\u001b[0;34m(\u001b[0m\u001b[0mkwargs\u001b[0m\u001b[0;34m)\u001b[0m\u001b[0;34m\u001b[0m\u001b[0;34m\u001b[0m\u001b[0m\n\u001b[0;32m---> 57\u001b[0;31m         \u001b[0;32mreturn\u001b[0m \u001b[0mf\u001b[0m\u001b[0;34m(\u001b[0m\u001b[0;34m*\u001b[0m\u001b[0mnew_args\u001b[0m\u001b[0;34m,\u001b[0m \u001b[0;34m**\u001b[0m\u001b[0mnew_kwargs\u001b[0m\u001b[0;34m)\u001b[0m\u001b[0;34m\u001b[0m\u001b[0;34m\u001b[0m\u001b[0m\n\u001b[0m\u001b[1;32m     58\u001b[0m     \u001b[0;32mreturn\u001b[0m \u001b[0mast_stripper\u001b[0m\u001b[0;34m\u001b[0m\u001b[0;34m\u001b[0m\u001b[0m\n\u001b[1;32m     59\u001b[0m \u001b[0;34m\u001b[0m\u001b[0m\n",
      "\u001b[0;32m~/.local/lib/python3.8/site-packages/angr/state_plugins/solver.py\u001b[0m in \u001b[0;36mwrapped_f\u001b[0;34m(*args, **kwargs)\u001b[0m\n\u001b[1;32m     87\u001b[0m     \u001b[0;32mdef\u001b[0m \u001b[0mwrapped_f\u001b[0m\u001b[0;34m(\u001b[0m\u001b[0;34m*\u001b[0m\u001b[0margs\u001b[0m\u001b[0;34m,\u001b[0m \u001b[0;34m**\u001b[0m\u001b[0mkwargs\u001b[0m\u001b[0;34m)\u001b[0m\u001b[0;34m:\u001b[0m\u001b[0;34m\u001b[0m\u001b[0;34m\u001b[0m\u001b[0m\n\u001b[1;32m     88\u001b[0m         \u001b[0;32mtry\u001b[0m\u001b[0;34m:\u001b[0m\u001b[0;34m\u001b[0m\u001b[0;34m\u001b[0m\u001b[0m\n\u001b[0;32m---> 89\u001b[0;31m             \u001b[0;32mreturn\u001b[0m \u001b[0mf\u001b[0m\u001b[0;34m(\u001b[0m\u001b[0;34m*\u001b[0m\u001b[0margs\u001b[0m\u001b[0;34m,\u001b[0m \u001b[0;34m**\u001b[0m\u001b[0mkwargs\u001b[0m\u001b[0;34m)\u001b[0m\u001b[0;34m\u001b[0m\u001b[0;34m\u001b[0m\u001b[0m\n\u001b[0m\u001b[1;32m     90\u001b[0m         \u001b[0;32mexcept\u001b[0m \u001b[0mclaripy\u001b[0m\u001b[0;34m.\u001b[0m\u001b[0mUnsatError\u001b[0m \u001b[0;32mas\u001b[0m \u001b[0me\u001b[0m\u001b[0;34m:\u001b[0m\u001b[0;34m\u001b[0m\u001b[0;34m\u001b[0m\u001b[0m\n\u001b[1;32m     91\u001b[0m             \u001b[0;32mraise\u001b[0m \u001b[0mSimUnsatError\u001b[0m\u001b[0;34m(\u001b[0m\u001b[0;34m\"Got an unsat result\"\u001b[0m\u001b[0;34m)\u001b[0m \u001b[0;32mfrom\u001b[0m \u001b[0me\u001b[0m\u001b[0;34m\u001b[0m\u001b[0;34m\u001b[0m\u001b[0m\n",
      "\u001b[0;32m~/.local/lib/python3.8/site-packages/angr/state_plugins/solver.py\u001b[0m in \u001b[0;36madd\u001b[0;34m(self, *constraints)\u001b[0m\n\u001b[1;32m    652\u001b[0m         \"\"\"\n\u001b[1;32m    653\u001b[0m         \u001b[0mcc\u001b[0m \u001b[0;34m=\u001b[0m \u001b[0mself\u001b[0m\u001b[0;34m.\u001b[0m\u001b[0m_adjust_constraint_list\u001b[0m\u001b[0;34m(\u001b[0m\u001b[0mconstraints\u001b[0m\u001b[0;34m)\u001b[0m\u001b[0;34m\u001b[0m\u001b[0;34m\u001b[0m\u001b[0m\n\u001b[0;32m--> 654\u001b[0;31m         \u001b[0;32mreturn\u001b[0m \u001b[0mself\u001b[0m\u001b[0;34m.\u001b[0m\u001b[0m_solver\u001b[0m\u001b[0;34m.\u001b[0m\u001b[0madd\u001b[0m\u001b[0;34m(\u001b[0m\u001b[0mcc\u001b[0m\u001b[0;34m)\u001b[0m\u001b[0;34m\u001b[0m\u001b[0;34m\u001b[0m\u001b[0m\n\u001b[0m\u001b[1;32m    655\u001b[0m \u001b[0;34m\u001b[0m\u001b[0m\n\u001b[1;32m    656\u001b[0m     \u001b[0;31m#\u001b[0m\u001b[0;34m\u001b[0m\u001b[0;34m\u001b[0m\u001b[0;34m\u001b[0m\u001b[0m\n",
      "\u001b[0;32m~/.local/lib/python3.8/site-packages/claripy/frontend_mixins/constraint_fixer_mixin.py\u001b[0m in \u001b[0;36madd\u001b[0;34m(self, constraints, **kwargs)\u001b[0m\n\u001b[1;32m      7\u001b[0m \u001b[0;34m\u001b[0m\u001b[0m\n\u001b[1;32m      8\u001b[0m         \u001b[0mconstraints\u001b[0m \u001b[0;34m=\u001b[0m \u001b[0;34m[\u001b[0m \u001b[0mBoolV\u001b[0m\u001b[0;34m(\u001b[0m\u001b[0mc\u001b[0m\u001b[0;34m)\u001b[0m \u001b[0;32mif\u001b[0m \u001b[0misinstance\u001b[0m\u001b[0;34m(\u001b[0m\u001b[0mc\u001b[0m\u001b[0;34m,\u001b[0m \u001b[0mbool\u001b[0m\u001b[0;34m)\u001b[0m \u001b[0;32melse\u001b[0m \u001b[0mc\u001b[0m \u001b[0;32mfor\u001b[0m \u001b[0mc\u001b[0m \u001b[0;32min\u001b[0m \u001b[0mconstraints\u001b[0m \u001b[0;34m]\u001b[0m\u001b[0;34m\u001b[0m\u001b[0;34m\u001b[0m\u001b[0m\n\u001b[0;32m----> 9\u001b[0;31m         \u001b[0;32mreturn\u001b[0m \u001b[0msuper\u001b[0m\u001b[0;34m(\u001b[0m\u001b[0mConstraintFixerMixin\u001b[0m\u001b[0;34m,\u001b[0m \u001b[0mself\u001b[0m\u001b[0;34m)\u001b[0m\u001b[0;34m.\u001b[0m\u001b[0madd\u001b[0m\u001b[0;34m(\u001b[0m\u001b[0mconstraints\u001b[0m\u001b[0;34m,\u001b[0m \u001b[0;34m**\u001b[0m\u001b[0mkwargs\u001b[0m\u001b[0;34m)\u001b[0m\u001b[0;34m\u001b[0m\u001b[0;34m\u001b[0m\u001b[0m\n\u001b[0m\u001b[1;32m     10\u001b[0m \u001b[0;34m\u001b[0m\u001b[0m\n\u001b[1;32m     11\u001b[0m \u001b[0;32mfrom\u001b[0m \u001b[0;34m.\u001b[0m\u001b[0;34m.\u001b[0m \u001b[0;32mimport\u001b[0m \u001b[0mBoolV\u001b[0m\u001b[0;34m\u001b[0m\u001b[0;34m\u001b[0m\u001b[0m\n",
      "\u001b[0;32m~/.local/lib/python3.8/site-packages/claripy/frontend_mixins/constraint_filter_mixin.py\u001b[0m in \u001b[0;36madd\u001b[0;34m(self, constraints, **kwargs)\u001b[0m\n\u001b[1;32m     25\u001b[0m \u001b[0;34m\u001b[0m\u001b[0m\n\u001b[1;32m     26\u001b[0m         \u001b[0;32mif\u001b[0m \u001b[0mlen\u001b[0m\u001b[0;34m(\u001b[0m\u001b[0mec\u001b[0m\u001b[0;34m)\u001b[0m \u001b[0;34m>\u001b[0m \u001b[0;36m0\u001b[0m\u001b[0;34m:\u001b[0m\u001b[0;34m\u001b[0m\u001b[0;34m\u001b[0m\u001b[0m\n\u001b[0;32m---> 27\u001b[0;31m             \u001b[0;32mreturn\u001b[0m \u001b[0msuper\u001b[0m\u001b[0;34m(\u001b[0m\u001b[0mConstraintFilterMixin\u001b[0m\u001b[0;34m,\u001b[0m \u001b[0mself\u001b[0m\u001b[0;34m)\u001b[0m\u001b[0;34m.\u001b[0m\u001b[0madd\u001b[0m\u001b[0;34m(\u001b[0m\u001b[0mec\u001b[0m\u001b[0;34m,\u001b[0m \u001b[0;34m**\u001b[0m\u001b[0mkwargs\u001b[0m\u001b[0;34m)\u001b[0m\u001b[0;34m\u001b[0m\u001b[0;34m\u001b[0m\u001b[0m\n\u001b[0m\u001b[1;32m     28\u001b[0m         \u001b[0;32melse\u001b[0m\u001b[0;34m:\u001b[0m\u001b[0;34m\u001b[0m\u001b[0;34m\u001b[0m\u001b[0m\n\u001b[1;32m     29\u001b[0m             \u001b[0;32mreturn\u001b[0m \u001b[0;34m[\u001b[0m \u001b[0;34m]\u001b[0m\u001b[0;34m\u001b[0m\u001b[0;34m\u001b[0m\u001b[0m\n",
      "\u001b[0;32m~/.local/lib/python3.8/site-packages/claripy/frontend_mixins/constraint_deduplicator_mixin.py\u001b[0m in \u001b[0;36madd\u001b[0;34m(self, constraints, **kwargs)\u001b[0m\n\u001b[1;32m     32\u001b[0m             \u001b[0;32mreturn\u001b[0m \u001b[0mfiltered\u001b[0m\u001b[0;34m\u001b[0m\u001b[0;34m\u001b[0m\u001b[0m\n\u001b[1;32m     33\u001b[0m \u001b[0;34m\u001b[0m\u001b[0m\n\u001b[0;32m---> 34\u001b[0;31m         \u001b[0madded\u001b[0m \u001b[0;34m=\u001b[0m \u001b[0msuper\u001b[0m\u001b[0;34m(\u001b[0m\u001b[0mConstraintDeduplicatorMixin\u001b[0m\u001b[0;34m,\u001b[0m \u001b[0mself\u001b[0m\u001b[0;34m)\u001b[0m\u001b[0;34m.\u001b[0m\u001b[0madd\u001b[0m\u001b[0;34m(\u001b[0m\u001b[0mfiltered\u001b[0m\u001b[0;34m,\u001b[0m \u001b[0;34m**\u001b[0m\u001b[0mkwargs\u001b[0m\u001b[0;34m)\u001b[0m\u001b[0;34m\u001b[0m\u001b[0;34m\u001b[0m\u001b[0m\n\u001b[0m\u001b[1;32m     35\u001b[0m         \u001b[0mself\u001b[0m\u001b[0;34m.\u001b[0m\u001b[0m_constraint_hashes\u001b[0m\u001b[0;34m.\u001b[0m\u001b[0mupdate\u001b[0m\u001b[0;34m(\u001b[0m\u001b[0mmap\u001b[0m\u001b[0;34m(\u001b[0m\u001b[0mhash\u001b[0m\u001b[0;34m,\u001b[0m \u001b[0madded\u001b[0m\u001b[0;34m)\u001b[0m\u001b[0;34m)\u001b[0m\u001b[0;34m\u001b[0m\u001b[0;34m\u001b[0m\u001b[0m\n\u001b[1;32m     36\u001b[0m         \u001b[0;32mreturn\u001b[0m \u001b[0madded\u001b[0m\u001b[0;34m\u001b[0m\u001b[0;34m\u001b[0m\u001b[0m\n",
      "\u001b[0;32m~/.local/lib/python3.8/site-packages/claripy/frontend_mixins/sat_cache_mixin.py\u001b[0m in \u001b[0;36madd\u001b[0;34m(self, constraints, **kwargs)\u001b[0m\n\u001b[1;32m     24\u001b[0m \u001b[0;34m\u001b[0m\u001b[0m\n\u001b[1;32m     25\u001b[0m     \u001b[0;32mdef\u001b[0m \u001b[0madd\u001b[0m\u001b[0;34m(\u001b[0m\u001b[0mself\u001b[0m\u001b[0;34m,\u001b[0m \u001b[0mconstraints\u001b[0m\u001b[0;34m,\u001b[0m \u001b[0;34m**\u001b[0m\u001b[0mkwargs\u001b[0m\u001b[0;34m)\u001b[0m\u001b[0;34m:\u001b[0m\u001b[0;34m\u001b[0m\u001b[0;34m\u001b[0m\u001b[0m\n\u001b[0;32m---> 26\u001b[0;31m         \u001b[0madded\u001b[0m \u001b[0;34m=\u001b[0m \u001b[0msuper\u001b[0m\u001b[0;34m(\u001b[0m\u001b[0mSatCacheMixin\u001b[0m\u001b[0;34m,\u001b[0m \u001b[0mself\u001b[0m\u001b[0;34m)\u001b[0m\u001b[0;34m.\u001b[0m\u001b[0madd\u001b[0m\u001b[0;34m(\u001b[0m\u001b[0mconstraints\u001b[0m\u001b[0;34m,\u001b[0m \u001b[0;34m**\u001b[0m\u001b[0mkwargs\u001b[0m\u001b[0;34m)\u001b[0m\u001b[0;34m\u001b[0m\u001b[0;34m\u001b[0m\u001b[0m\n\u001b[0m\u001b[1;32m     27\u001b[0m         \u001b[0;32mif\u001b[0m \u001b[0mlen\u001b[0m\u001b[0;34m(\u001b[0m\u001b[0madded\u001b[0m\u001b[0;34m)\u001b[0m \u001b[0;34m>\u001b[0m \u001b[0;36m0\u001b[0m \u001b[0;32mand\u001b[0m \u001b[0many\u001b[0m\u001b[0;34m(\u001b[0m\u001b[0mc\u001b[0m \u001b[0;32mis\u001b[0m \u001b[0mfalse\u001b[0m \u001b[0;32mfor\u001b[0m \u001b[0mc\u001b[0m \u001b[0;32min\u001b[0m \u001b[0madded\u001b[0m\u001b[0;34m)\u001b[0m\u001b[0;34m:\u001b[0m\u001b[0;34m\u001b[0m\u001b[0;34m\u001b[0m\u001b[0m\n\u001b[1;32m     28\u001b[0m             \u001b[0mself\u001b[0m\u001b[0;34m.\u001b[0m\u001b[0m_cached_satness\u001b[0m \u001b[0;34m=\u001b[0m \u001b[0;32mFalse\u001b[0m\u001b[0;34m\u001b[0m\u001b[0;34m\u001b[0m\u001b[0m\n",
      "\u001b[0;32m~/.local/lib/python3.8/site-packages/claripy/frontend_mixins/simplify_skipper_mixin.py\u001b[0m in \u001b[0;36madd\u001b[0;34m(self, *args, **kwargs)\u001b[0m\n\u001b[1;32m     24\u001b[0m \u001b[0;34m\u001b[0m\u001b[0m\n\u001b[1;32m     25\u001b[0m     \u001b[0;32mdef\u001b[0m \u001b[0madd\u001b[0m\u001b[0;34m(\u001b[0m\u001b[0mself\u001b[0m\u001b[0;34m,\u001b[0m \u001b[0;34m*\u001b[0m\u001b[0margs\u001b[0m\u001b[0;34m,\u001b[0m \u001b[0;34m**\u001b[0m\u001b[0mkwargs\u001b[0m\u001b[0;34m)\u001b[0m\u001b[0;34m:\u001b[0m\u001b[0;34m\u001b[0m\u001b[0;34m\u001b[0m\u001b[0m\n\u001b[0;32m---> 26\u001b[0;31m         \u001b[0madded\u001b[0m \u001b[0;34m=\u001b[0m \u001b[0msuper\u001b[0m\u001b[0;34m(\u001b[0m\u001b[0mSimplifySkipperMixin\u001b[0m\u001b[0;34m,\u001b[0m \u001b[0mself\u001b[0m\u001b[0;34m)\u001b[0m\u001b[0;34m.\u001b[0m\u001b[0madd\u001b[0m\u001b[0;34m(\u001b[0m\u001b[0;34m*\u001b[0m\u001b[0margs\u001b[0m\u001b[0;34m,\u001b[0m \u001b[0;34m**\u001b[0m\u001b[0mkwargs\u001b[0m\u001b[0;34m)\u001b[0m\u001b[0;34m\u001b[0m\u001b[0;34m\u001b[0m\u001b[0m\n\u001b[0m\u001b[1;32m     27\u001b[0m         \u001b[0;32mif\u001b[0m \u001b[0mlen\u001b[0m\u001b[0;34m(\u001b[0m\u001b[0madded\u001b[0m\u001b[0;34m)\u001b[0m \u001b[0;34m>\u001b[0m \u001b[0;36m0\u001b[0m\u001b[0;34m:\u001b[0m\u001b[0;34m\u001b[0m\u001b[0;34m\u001b[0m\u001b[0m\n\u001b[1;32m     28\u001b[0m             \u001b[0mself\u001b[0m\u001b[0;34m.\u001b[0m\u001b[0m_simplified\u001b[0m \u001b[0;34m=\u001b[0m \u001b[0;32mFalse\u001b[0m\u001b[0;34m\u001b[0m\u001b[0;34m\u001b[0m\u001b[0m\n",
      "\u001b[0;32m~/.local/lib/python3.8/site-packages/claripy/frontends/composite_frontend.py\u001b[0m in \u001b[0;36madd\u001b[0;34m(self, constraints, **kwargs)\u001b[0m\n\u001b[1;32m    250\u001b[0m                     \u001b[0munsure\u001b[0m\u001b[0;34m.\u001b[0m\u001b[0mextend\u001b[0m\u001b[0;34m(\u001b[0m\u001b[0mset_constraints\u001b[0m\u001b[0;34m)\u001b[0m\u001b[0;34m\u001b[0m\u001b[0;34m\u001b[0m\u001b[0m\n\u001b[1;32m    251\u001b[0m             \u001b[0;32melse\u001b[0m\u001b[0;34m:\u001b[0m\u001b[0;34m\u001b[0m\u001b[0;34m\u001b[0m\u001b[0m\n\u001b[0;32m--> 252\u001b[0;31m                 \u001b[0mchild_added\u001b[0m \u001b[0;34m+=\u001b[0m \u001b[0mself\u001b[0m\u001b[0;34m.\u001b[0m\u001b[0m_add_dependent_constraints\u001b[0m\u001b[0;34m(\u001b[0m\u001b[0mnames\u001b[0m\u001b[0;34m,\u001b[0m \u001b[0mset_constraints\u001b[0m\u001b[0;34m,\u001b[0m \u001b[0;34m**\u001b[0m\u001b[0mkwargs\u001b[0m\u001b[0;34m)\u001b[0m\u001b[0;34m\u001b[0m\u001b[0;34m\u001b[0m\u001b[0m\n\u001b[0m\u001b[1;32m    253\u001b[0m \u001b[0;34m\u001b[0m\u001b[0m\n\u001b[1;32m    254\u001b[0m         \u001b[0;31m#l.debug(\"... solvers after add: %d\", len(self._solver_list))\u001b[0m\u001b[0;34m\u001b[0m\u001b[0;34m\u001b[0m\u001b[0;34m\u001b[0m\u001b[0m\n",
      "\u001b[0;32m~/.local/lib/python3.8/site-packages/claripy/frontends/composite_frontend.py\u001b[0m in \u001b[0;36m_add_dependent_constraints\u001b[0;34m(self, names, constraints, invalidate_cache, **kwargs)\u001b[0m\n\u001b[1;32m    232\u001b[0m         \u001b[0ml\u001b[0m\u001b[0;34m.\u001b[0m\u001b[0mdebug\u001b[0m\u001b[0;34m(\u001b[0m\u001b[0;34m\"Adding %d constraints to %d names\"\u001b[0m\u001b[0;34m,\u001b[0m \u001b[0mlen\u001b[0m\u001b[0;34m(\u001b[0m\u001b[0mconstraints\u001b[0m\u001b[0;34m)\u001b[0m\u001b[0;34m,\u001b[0m \u001b[0mlen\u001b[0m\u001b[0;34m(\u001b[0m\u001b[0mnames\u001b[0m\u001b[0;34m)\u001b[0m\u001b[0;34m)\u001b[0m\u001b[0;34m\u001b[0m\u001b[0;34m\u001b[0m\u001b[0m\n\u001b[1;32m    233\u001b[0m         \u001b[0ms\u001b[0m \u001b[0;34m=\u001b[0m \u001b[0mself\u001b[0m\u001b[0;34m.\u001b[0m\u001b[0m_claim\u001b[0m\u001b[0;34m(\u001b[0m\u001b[0mself\u001b[0m\u001b[0;34m.\u001b[0m\u001b[0m_merged_solver_for\u001b[0m\u001b[0;34m(\u001b[0m\u001b[0mnames\u001b[0m\u001b[0;34m=\u001b[0m\u001b[0mnames\u001b[0m\u001b[0;34m)\u001b[0m\u001b[0;34m)\u001b[0m\u001b[0;34m\u001b[0m\u001b[0;34m\u001b[0m\u001b[0m\n\u001b[0;32m--> 234\u001b[0;31m         \u001b[0madded\u001b[0m \u001b[0;34m=\u001b[0m \u001b[0ms\u001b[0m\u001b[0;34m.\u001b[0m\u001b[0madd\u001b[0m\u001b[0;34m(\u001b[0m\u001b[0mconstraints\u001b[0m\u001b[0;34m,\u001b[0m \u001b[0minvalidate_cache\u001b[0m\u001b[0;34m=\u001b[0m\u001b[0minvalidate_cache\u001b[0m\u001b[0;34m,\u001b[0m \u001b[0;34m**\u001b[0m\u001b[0mkwargs\u001b[0m\u001b[0;34m)\u001b[0m\u001b[0;34m\u001b[0m\u001b[0;34m\u001b[0m\u001b[0m\n\u001b[0m\u001b[1;32m    235\u001b[0m         \u001b[0mself\u001b[0m\u001b[0;34m.\u001b[0m\u001b[0m_store_child\u001b[0m\u001b[0;34m(\u001b[0m\u001b[0ms\u001b[0m\u001b[0;34m,\u001b[0m \u001b[0minvalidate_cache\u001b[0m\u001b[0;34m=\u001b[0m\u001b[0minvalidate_cache\u001b[0m\u001b[0;34m)\u001b[0m\u001b[0;34m\u001b[0m\u001b[0;34m\u001b[0m\u001b[0m\n\u001b[1;32m    236\u001b[0m         \u001b[0;32mreturn\u001b[0m \u001b[0madded\u001b[0m\u001b[0;34m\u001b[0m\u001b[0;34m\u001b[0m\u001b[0m\n",
      "\u001b[0;32m~/.local/lib/python3.8/site-packages/claripy/frontend_mixins/constraint_deduplicator_mixin.py\u001b[0m in \u001b[0;36madd\u001b[0;34m(self, constraints, **kwargs)\u001b[0m\n\u001b[1;32m     32\u001b[0m             \u001b[0;32mreturn\u001b[0m \u001b[0mfiltered\u001b[0m\u001b[0;34m\u001b[0m\u001b[0;34m\u001b[0m\u001b[0m\n\u001b[1;32m     33\u001b[0m \u001b[0;34m\u001b[0m\u001b[0m\n\u001b[0;32m---> 34\u001b[0;31m         \u001b[0madded\u001b[0m \u001b[0;34m=\u001b[0m \u001b[0msuper\u001b[0m\u001b[0;34m(\u001b[0m\u001b[0mConstraintDeduplicatorMixin\u001b[0m\u001b[0;34m,\u001b[0m \u001b[0mself\u001b[0m\u001b[0;34m)\u001b[0m\u001b[0;34m.\u001b[0m\u001b[0madd\u001b[0m\u001b[0;34m(\u001b[0m\u001b[0mfiltered\u001b[0m\u001b[0;34m,\u001b[0m \u001b[0;34m**\u001b[0m\u001b[0mkwargs\u001b[0m\u001b[0;34m)\u001b[0m\u001b[0;34m\u001b[0m\u001b[0;34m\u001b[0m\u001b[0m\n\u001b[0m\u001b[1;32m     35\u001b[0m         \u001b[0mself\u001b[0m\u001b[0;34m.\u001b[0m\u001b[0m_constraint_hashes\u001b[0m\u001b[0;34m.\u001b[0m\u001b[0mupdate\u001b[0m\u001b[0;34m(\u001b[0m\u001b[0mmap\u001b[0m\u001b[0;34m(\u001b[0m\u001b[0mhash\u001b[0m\u001b[0;34m,\u001b[0m \u001b[0madded\u001b[0m\u001b[0;34m)\u001b[0m\u001b[0;34m)\u001b[0m\u001b[0;34m\u001b[0m\u001b[0;34m\u001b[0m\u001b[0m\n\u001b[1;32m     36\u001b[0m         \u001b[0;32mreturn\u001b[0m \u001b[0madded\u001b[0m\u001b[0;34m\u001b[0m\u001b[0;34m\u001b[0m\u001b[0m\n",
      "\u001b[0;32m~/.local/lib/python3.8/site-packages/claripy/frontend_mixins/sat_cache_mixin.py\u001b[0m in \u001b[0;36madd\u001b[0;34m(self, constraints, **kwargs)\u001b[0m\n\u001b[1;32m     24\u001b[0m \u001b[0;34m\u001b[0m\u001b[0m\n\u001b[1;32m     25\u001b[0m     \u001b[0;32mdef\u001b[0m \u001b[0madd\u001b[0m\u001b[0;34m(\u001b[0m\u001b[0mself\u001b[0m\u001b[0;34m,\u001b[0m \u001b[0mconstraints\u001b[0m\u001b[0;34m,\u001b[0m \u001b[0;34m**\u001b[0m\u001b[0mkwargs\u001b[0m\u001b[0;34m)\u001b[0m\u001b[0;34m:\u001b[0m\u001b[0;34m\u001b[0m\u001b[0;34m\u001b[0m\u001b[0m\n\u001b[0;32m---> 26\u001b[0;31m         \u001b[0madded\u001b[0m \u001b[0;34m=\u001b[0m \u001b[0msuper\u001b[0m\u001b[0;34m(\u001b[0m\u001b[0mSatCacheMixin\u001b[0m\u001b[0;34m,\u001b[0m \u001b[0mself\u001b[0m\u001b[0;34m)\u001b[0m\u001b[0;34m.\u001b[0m\u001b[0madd\u001b[0m\u001b[0;34m(\u001b[0m\u001b[0mconstraints\u001b[0m\u001b[0;34m,\u001b[0m \u001b[0;34m**\u001b[0m\u001b[0mkwargs\u001b[0m\u001b[0;34m)\u001b[0m\u001b[0;34m\u001b[0m\u001b[0;34m\u001b[0m\u001b[0m\n\u001b[0m\u001b[1;32m     27\u001b[0m         \u001b[0;32mif\u001b[0m \u001b[0mlen\u001b[0m\u001b[0;34m(\u001b[0m\u001b[0madded\u001b[0m\u001b[0;34m)\u001b[0m \u001b[0;34m>\u001b[0m \u001b[0;36m0\u001b[0m \u001b[0;32mand\u001b[0m \u001b[0many\u001b[0m\u001b[0;34m(\u001b[0m\u001b[0mc\u001b[0m \u001b[0;32mis\u001b[0m \u001b[0mfalse\u001b[0m \u001b[0;32mfor\u001b[0m \u001b[0mc\u001b[0m \u001b[0;32min\u001b[0m \u001b[0madded\u001b[0m\u001b[0;34m)\u001b[0m\u001b[0;34m:\u001b[0m\u001b[0;34m\u001b[0m\u001b[0;34m\u001b[0m\u001b[0m\n\u001b[1;32m     28\u001b[0m             \u001b[0mself\u001b[0m\u001b[0;34m.\u001b[0m\u001b[0m_cached_satness\u001b[0m \u001b[0;34m=\u001b[0m \u001b[0;32mFalse\u001b[0m\u001b[0;34m\u001b[0m\u001b[0;34m\u001b[0m\u001b[0m\n",
      "\u001b[0;32m~/.local/lib/python3.8/site-packages/claripy/frontend_mixins/simplify_skipper_mixin.py\u001b[0m in \u001b[0;36madd\u001b[0;34m(self, *args, **kwargs)\u001b[0m\n\u001b[1;32m     24\u001b[0m \u001b[0;34m\u001b[0m\u001b[0m\n\u001b[1;32m     25\u001b[0m     \u001b[0;32mdef\u001b[0m \u001b[0madd\u001b[0m\u001b[0;34m(\u001b[0m\u001b[0mself\u001b[0m\u001b[0;34m,\u001b[0m \u001b[0;34m*\u001b[0m\u001b[0margs\u001b[0m\u001b[0;34m,\u001b[0m \u001b[0;34m**\u001b[0m\u001b[0mkwargs\u001b[0m\u001b[0;34m)\u001b[0m\u001b[0;34m:\u001b[0m\u001b[0;34m\u001b[0m\u001b[0;34m\u001b[0m\u001b[0m\n\u001b[0;32m---> 26\u001b[0;31m         \u001b[0madded\u001b[0m \u001b[0;34m=\u001b[0m \u001b[0msuper\u001b[0m\u001b[0;34m(\u001b[0m\u001b[0mSimplifySkipperMixin\u001b[0m\u001b[0;34m,\u001b[0m \u001b[0mself\u001b[0m\u001b[0;34m)\u001b[0m\u001b[0;34m.\u001b[0m\u001b[0madd\u001b[0m\u001b[0;34m(\u001b[0m\u001b[0;34m*\u001b[0m\u001b[0margs\u001b[0m\u001b[0;34m,\u001b[0m \u001b[0;34m**\u001b[0m\u001b[0mkwargs\u001b[0m\u001b[0;34m)\u001b[0m\u001b[0;34m\u001b[0m\u001b[0;34m\u001b[0m\u001b[0m\n\u001b[0m\u001b[1;32m     27\u001b[0m         \u001b[0;32mif\u001b[0m \u001b[0mlen\u001b[0m\u001b[0;34m(\u001b[0m\u001b[0madded\u001b[0m\u001b[0;34m)\u001b[0m \u001b[0;34m>\u001b[0m \u001b[0;36m0\u001b[0m\u001b[0;34m:\u001b[0m\u001b[0;34m\u001b[0m\u001b[0;34m\u001b[0m\u001b[0m\n\u001b[1;32m     28\u001b[0m             \u001b[0mself\u001b[0m\u001b[0;34m.\u001b[0m\u001b[0m_simplified\u001b[0m \u001b[0;34m=\u001b[0m \u001b[0;32mFalse\u001b[0m\u001b[0;34m\u001b[0m\u001b[0;34m\u001b[0m\u001b[0m\n",
      "\u001b[0;32m~/.local/lib/python3.8/site-packages/claripy/frontend_mixins/model_cache_mixin.py\u001b[0m in \u001b[0;36madd\u001b[0;34m(self, constraints, invalidate_cache, **kwargs)\u001b[0m\n\u001b[1;32m    151\u001b[0m                 \u001b[0mself\u001b[0m\u001b[0;34m.\u001b[0m\u001b[0m_models\u001b[0m\u001b[0;34m.\u001b[0m\u001b[0mclear\u001b[0m\u001b[0;34m(\u001b[0m\u001b[0;34m)\u001b[0m\u001b[0;34m\u001b[0m\u001b[0;34m\u001b[0m\u001b[0m\n\u001b[1;32m    152\u001b[0m \u001b[0;34m\u001b[0m\u001b[0m\n\u001b[0;32m--> 153\u001b[0;31m             \u001b[0mstill_valid\u001b[0m \u001b[0;34m=\u001b[0m \u001b[0mset\u001b[0m\u001b[0;34m(\u001b[0m\u001b[0mself\u001b[0m\u001b[0;34m.\u001b[0m\u001b[0m_get_models\u001b[0m\u001b[0;34m(\u001b[0m\u001b[0mextra_constraints\u001b[0m\u001b[0;34m=\u001b[0m\u001b[0madded\u001b[0m\u001b[0;34m)\u001b[0m\u001b[0;34m)\u001b[0m\u001b[0;34m\u001b[0m\u001b[0;34m\u001b[0m\u001b[0m\n\u001b[0m\u001b[1;32m    154\u001b[0m             \u001b[0;32mif\u001b[0m \u001b[0mlen\u001b[0m\u001b[0;34m(\u001b[0m\u001b[0mstill_valid\u001b[0m\u001b[0;34m)\u001b[0m \u001b[0;34m!=\u001b[0m \u001b[0mlen\u001b[0m\u001b[0;34m(\u001b[0m\u001b[0mself\u001b[0m\u001b[0;34m.\u001b[0m\u001b[0m_models\u001b[0m\u001b[0;34m)\u001b[0m\u001b[0;34m:\u001b[0m\u001b[0;34m\u001b[0m\u001b[0;34m\u001b[0m\u001b[0m\n\u001b[1;32m    155\u001b[0m                 \u001b[0mself\u001b[0m\u001b[0;34m.\u001b[0m\u001b[0m_exhausted\u001b[0m \u001b[0;34m=\u001b[0m \u001b[0;32mFalse\u001b[0m\u001b[0;34m\u001b[0m\u001b[0;34m\u001b[0m\u001b[0m\n",
      "\u001b[0;32m~/.local/lib/python3.8/site-packages/claripy/frontend_mixins/model_cache_mixin.py\u001b[0m in \u001b[0;36m_get_models\u001b[0;34m(self, extra_constraints)\u001b[0m\n\u001b[1;32m    213\u001b[0m     \u001b[0;32mdef\u001b[0m \u001b[0m_get_models\u001b[0m\u001b[0;34m(\u001b[0m\u001b[0mself\u001b[0m\u001b[0;34m,\u001b[0m \u001b[0mextra_constraints\u001b[0m\u001b[0;34m=\u001b[0m\u001b[0;34m(\u001b[0m\u001b[0;34m)\u001b[0m\u001b[0;34m)\u001b[0m\u001b[0;34m:\u001b[0m\u001b[0;34m\u001b[0m\u001b[0;34m\u001b[0m\u001b[0m\n\u001b[1;32m    214\u001b[0m         \u001b[0;32mfor\u001b[0m \u001b[0mm\u001b[0m \u001b[0;32min\u001b[0m \u001b[0mself\u001b[0m\u001b[0;34m.\u001b[0m\u001b[0m_models\u001b[0m\u001b[0;34m:\u001b[0m\u001b[0;34m\u001b[0m\u001b[0;34m\u001b[0m\u001b[0m\n\u001b[0;32m--> 215\u001b[0;31m             \u001b[0;32mif\u001b[0m \u001b[0mm\u001b[0m\u001b[0;34m.\u001b[0m\u001b[0meval_constraints\u001b[0m\u001b[0;34m(\u001b[0m\u001b[0mextra_constraints\u001b[0m\u001b[0;34m)\u001b[0m\u001b[0;34m:\u001b[0m\u001b[0;34m\u001b[0m\u001b[0;34m\u001b[0m\u001b[0m\n\u001b[0m\u001b[1;32m    216\u001b[0m                 \u001b[0;32myield\u001b[0m \u001b[0mm\u001b[0m\u001b[0;34m\u001b[0m\u001b[0;34m\u001b[0m\u001b[0m\n\u001b[1;32m    217\u001b[0m \u001b[0;34m\u001b[0m\u001b[0m\n",
      "\u001b[0;32m~/.local/lib/python3.8/site-packages/claripy/frontend_mixins/model_cache_mixin.py\u001b[0m in \u001b[0;36meval_constraints\u001b[0;34m(self, constraints)\u001b[0m\n\u001b[1;32m     65\u001b[0m         \u001b[0;31m# exceptions.\u001b[0m\u001b[0;34m\u001b[0m\u001b[0;34m\u001b[0m\u001b[0;34m\u001b[0m\u001b[0m\n\u001b[1;32m     66\u001b[0m         \u001b[0;32mtry\u001b[0m\u001b[0;34m:\u001b[0m\u001b[0;34m\u001b[0m\u001b[0;34m\u001b[0m\u001b[0m\n\u001b[0;32m---> 67\u001b[0;31m             \u001b[0;32mreturn\u001b[0m \u001b[0mall\u001b[0m\u001b[0;34m(\u001b[0m\u001b[0mself\u001b[0m\u001b[0;34m.\u001b[0m\u001b[0meval_ast\u001b[0m\u001b[0;34m(\u001b[0m\u001b[0mc\u001b[0m\u001b[0;34m)\u001b[0m \u001b[0;32mfor\u001b[0m \u001b[0mc\u001b[0m \u001b[0;32min\u001b[0m \u001b[0mconstraints\u001b[0m\u001b[0;34m)\u001b[0m\u001b[0;34m\u001b[0m\u001b[0;34m\u001b[0m\u001b[0m\n\u001b[0m\u001b[1;32m     68\u001b[0m         \u001b[0;32mexcept\u001b[0m \u001b[0merrors\u001b[0m\u001b[0;34m.\u001b[0m\u001b[0mClaripyZeroDivisionError\u001b[0m\u001b[0;34m:\u001b[0m\u001b[0;34m\u001b[0m\u001b[0;34m\u001b[0m\u001b[0m\n\u001b[1;32m     69\u001b[0m             \u001b[0;32mreturn\u001b[0m \u001b[0;32mFalse\u001b[0m\u001b[0;34m\u001b[0m\u001b[0;34m\u001b[0m\u001b[0m\n",
      "\u001b[0;32m~/.local/lib/python3.8/site-packages/claripy/frontend_mixins/model_cache_mixin.py\u001b[0m in \u001b[0;36m<genexpr>\u001b[0;34m(.0)\u001b[0m\n\u001b[1;32m     65\u001b[0m         \u001b[0;31m# exceptions.\u001b[0m\u001b[0;34m\u001b[0m\u001b[0;34m\u001b[0m\u001b[0;34m\u001b[0m\u001b[0m\n\u001b[1;32m     66\u001b[0m         \u001b[0;32mtry\u001b[0m\u001b[0;34m:\u001b[0m\u001b[0;34m\u001b[0m\u001b[0;34m\u001b[0m\u001b[0m\n\u001b[0;32m---> 67\u001b[0;31m             \u001b[0;32mreturn\u001b[0m \u001b[0mall\u001b[0m\u001b[0;34m(\u001b[0m\u001b[0mself\u001b[0m\u001b[0;34m.\u001b[0m\u001b[0meval_ast\u001b[0m\u001b[0;34m(\u001b[0m\u001b[0mc\u001b[0m\u001b[0;34m)\u001b[0m \u001b[0;32mfor\u001b[0m \u001b[0mc\u001b[0m \u001b[0;32min\u001b[0m \u001b[0mconstraints\u001b[0m\u001b[0;34m)\u001b[0m\u001b[0;34m\u001b[0m\u001b[0;34m\u001b[0m\u001b[0m\n\u001b[0m\u001b[1;32m     68\u001b[0m         \u001b[0;32mexcept\u001b[0m \u001b[0merrors\u001b[0m\u001b[0;34m.\u001b[0m\u001b[0mClaripyZeroDivisionError\u001b[0m\u001b[0;34m:\u001b[0m\u001b[0;34m\u001b[0m\u001b[0;34m\u001b[0m\u001b[0m\n\u001b[1;32m     69\u001b[0m             \u001b[0;32mreturn\u001b[0m \u001b[0;32mFalse\u001b[0m\u001b[0;34m\u001b[0m\u001b[0;34m\u001b[0m\u001b[0m\n",
      "\u001b[0;32m~/.local/lib/python3.8/site-packages/claripy/frontend_mixins/model_cache_mixin.py\u001b[0m in \u001b[0;36meval_ast\u001b[0;34m(self, ast)\u001b[0m\n\u001b[1;32m     56\u001b[0m         \u001b[0;31m# If there was no last value, it was not constrained, so we can use\u001b[0m\u001b[0;34m\u001b[0m\u001b[0;34m\u001b[0m\u001b[0;34m\u001b[0m\u001b[0m\n\u001b[1;32m     57\u001b[0m         \u001b[0;31m# anything.\u001b[0m\u001b[0;34m\u001b[0m\u001b[0;34m\u001b[0m\u001b[0;34m\u001b[0m\u001b[0m\n\u001b[0;32m---> 58\u001b[0;31m         \u001b[0mnew_ast\u001b[0m \u001b[0;34m=\u001b[0m \u001b[0mast\u001b[0m\u001b[0;34m.\u001b[0m\u001b[0mreplace_dict\u001b[0m\u001b[0;34m(\u001b[0m\u001b[0mself\u001b[0m\u001b[0;34m.\u001b[0m\u001b[0mreplacements\u001b[0m\u001b[0;34m,\u001b[0m \u001b[0mleaf_operation\u001b[0m\u001b[0;34m=\u001b[0m\u001b[0mself\u001b[0m\u001b[0;34m.\u001b[0m\u001b[0m_leaf_op\u001b[0m\u001b[0;34m)\u001b[0m\u001b[0;34m\u001b[0m\u001b[0;34m\u001b[0m\u001b[0m\n\u001b[0m\u001b[1;32m     59\u001b[0m         \u001b[0;32mreturn\u001b[0m \u001b[0mbackends\u001b[0m\u001b[0;34m.\u001b[0m\u001b[0mconcrete\u001b[0m\u001b[0;34m.\u001b[0m\u001b[0meval\u001b[0m\u001b[0;34m(\u001b[0m\u001b[0mnew_ast\u001b[0m\u001b[0;34m,\u001b[0m \u001b[0;36m1\u001b[0m\u001b[0;34m)\u001b[0m\u001b[0;34m[\u001b[0m\u001b[0;36m0\u001b[0m\u001b[0;34m]\u001b[0m\u001b[0;34m\u001b[0m\u001b[0;34m\u001b[0m\u001b[0m\n\u001b[1;32m     60\u001b[0m \u001b[0;34m\u001b[0m\u001b[0m\n",
      "\u001b[0;32m~/.local/lib/python3.8/site-packages/claripy/ast/base.py\u001b[0m in \u001b[0;36mreplace_dict\u001b[0;34m(self, replacements, variable_set, leaf_operation)\u001b[0m\n\u001b[1;32m    747\u001b[0m                     \u001b[0;32mif\u001b[0m \u001b[0many\u001b[0m\u001b[0;34m(\u001b[0m\u001b[0;34m(\u001b[0m\u001b[0ma\u001b[0m \u001b[0;32mis\u001b[0m \u001b[0;32mnot\u001b[0m \u001b[0mb\u001b[0m \u001b[0;32mfor\u001b[0m \u001b[0ma\u001b[0m\u001b[0;34m,\u001b[0m \u001b[0mb\u001b[0m \u001b[0;32min\u001b[0m \u001b[0mzip\u001b[0m\u001b[0;34m(\u001b[0m\u001b[0mast\u001b[0m\u001b[0;34m.\u001b[0m\u001b[0margs\u001b[0m\u001b[0;34m,\u001b[0m \u001b[0margs\u001b[0m\u001b[0;34m)\u001b[0m\u001b[0;34m)\u001b[0m\u001b[0;34m)\u001b[0m\u001b[0;34m:\u001b[0m\u001b[0;34m\u001b[0m\u001b[0;34m\u001b[0m\u001b[0m\n\u001b[1;32m    748\u001b[0m                         \u001b[0mrepl\u001b[0m \u001b[0;34m=\u001b[0m \u001b[0mast\u001b[0m\u001b[0;34m.\u001b[0m\u001b[0mmake_like\u001b[0m\u001b[0;34m(\u001b[0m\u001b[0mast\u001b[0m\u001b[0;34m.\u001b[0m\u001b[0mop\u001b[0m\u001b[0;34m,\u001b[0m \u001b[0mtuple\u001b[0m\u001b[0;34m(\u001b[0m\u001b[0margs\u001b[0m\u001b[0;34m)\u001b[0m\u001b[0;34m)\u001b[0m\u001b[0;34m\u001b[0m\u001b[0;34m\u001b[0m\u001b[0m\n\u001b[0;32m--> 749\u001b[0;31m                         \u001b[0mreplacements\u001b[0m\u001b[0;34m[\u001b[0m\u001b[0mast\u001b[0m\u001b[0;34m.\u001b[0m\u001b[0mcache_key\u001b[0m\u001b[0;34m]\u001b[0m \u001b[0;34m=\u001b[0m \u001b[0mrepl\u001b[0m\u001b[0;34m\u001b[0m\u001b[0;34m\u001b[0m\u001b[0m\n\u001b[0m\u001b[1;32m    750\u001b[0m \u001b[0;34m\u001b[0m\u001b[0m\n\u001b[1;32m    751\u001b[0m                     \u001b[0mrep_queue\u001b[0m\u001b[0;34m.\u001b[0m\u001b[0mappend\u001b[0m\u001b[0;34m(\u001b[0m\u001b[0mrepl\u001b[0m\u001b[0;34m)\u001b[0m\u001b[0;34m\u001b[0m\u001b[0;34m\u001b[0m\u001b[0m\n",
      "\u001b[0;32m/usr/lib/python3.8/weakref.py\u001b[0m in \u001b[0;36m__setitem__\u001b[0;34m(self, key, value)\u001b[0m\n\u001b[1;32m    394\u001b[0m \u001b[0;34m\u001b[0m\u001b[0m\n\u001b[1;32m    395\u001b[0m     \u001b[0;32mdef\u001b[0m \u001b[0m__setitem__\u001b[0m\u001b[0;34m(\u001b[0m\u001b[0mself\u001b[0m\u001b[0;34m,\u001b[0m \u001b[0mkey\u001b[0m\u001b[0;34m,\u001b[0m \u001b[0mvalue\u001b[0m\u001b[0;34m)\u001b[0m\u001b[0;34m:\u001b[0m\u001b[0;34m\u001b[0m\u001b[0;34m\u001b[0m\u001b[0m\n\u001b[0;32m--> 396\u001b[0;31m         \u001b[0mself\u001b[0m\u001b[0;34m.\u001b[0m\u001b[0mdata\u001b[0m\u001b[0;34m[\u001b[0m\u001b[0mref\u001b[0m\u001b[0;34m(\u001b[0m\u001b[0mkey\u001b[0m\u001b[0;34m,\u001b[0m \u001b[0mself\u001b[0m\u001b[0;34m.\u001b[0m\u001b[0m_remove\u001b[0m\u001b[0;34m)\u001b[0m\u001b[0;34m]\u001b[0m \u001b[0;34m=\u001b[0m \u001b[0mvalue\u001b[0m\u001b[0;34m\u001b[0m\u001b[0;34m\u001b[0m\u001b[0m\n\u001b[0m\u001b[1;32m    397\u001b[0m \u001b[0;34m\u001b[0m\u001b[0m\n\u001b[1;32m    398\u001b[0m     \u001b[0;32mdef\u001b[0m \u001b[0mcopy\u001b[0m\u001b[0;34m(\u001b[0m\u001b[0mself\u001b[0m\u001b[0;34m)\u001b[0m\u001b[0;34m:\u001b[0m\u001b[0;34m\u001b[0m\u001b[0;34m\u001b[0m\u001b[0m\n",
      "\u001b[0;32m~/.local/lib/python3.8/site-packages/claripy/ast/base.py\u001b[0m in \u001b[0;36m__hash__\u001b[0;34m(self)\u001b[0m\n\u001b[1;32m     25\u001b[0m         \u001b[0mself\u001b[0m\u001b[0;34m.\u001b[0m\u001b[0mast\u001b[0m \u001b[0;34m=\u001b[0m \u001b[0ma\u001b[0m\u001b[0;34m\u001b[0m\u001b[0;34m\u001b[0m\u001b[0m\n\u001b[1;32m     26\u001b[0m \u001b[0;34m\u001b[0m\u001b[0m\n\u001b[0;32m---> 27\u001b[0;31m     \u001b[0;32mdef\u001b[0m \u001b[0m__hash__\u001b[0m\u001b[0;34m(\u001b[0m\u001b[0mself\u001b[0m\u001b[0;34m)\u001b[0m\u001b[0;34m:\u001b[0m\u001b[0;34m\u001b[0m\u001b[0;34m\u001b[0m\u001b[0m\n\u001b[0m\u001b[1;32m     28\u001b[0m         \u001b[0;32mreturn\u001b[0m \u001b[0mhash\u001b[0m\u001b[0;34m(\u001b[0m\u001b[0mself\u001b[0m\u001b[0;34m.\u001b[0m\u001b[0mast\u001b[0m\u001b[0;34m)\u001b[0m\u001b[0;34m\u001b[0m\u001b[0;34m\u001b[0m\u001b[0m\n\u001b[1;32m     29\u001b[0m \u001b[0;34m\u001b[0m\u001b[0m\n",
      "\u001b[0;31mKeyboardInterrupt\u001b[0m: "
     ]
    }
   ],
   "source": [
    "simgr.run()"
   ]
  },
  {
   "cell_type": "markdown",
   "metadata": {},
   "source": [
    "Voilà! Yet again, there's the input we need to give to pass the first phase. It will be printed repeatedly as different branches being explored by Angr reach a conclusive stage."
   ]
  }
 ],
 "metadata": {
  "kernelspec": {
   "display_name": "Python 3",
   "language": "python",
   "name": "python3"
  },
  "language_info": {
   "codemirror_mode": {
    "name": "ipython",
    "version": 3
   },
   "file_extension": ".py",
   "mimetype": "text/x-python",
   "name": "python",
   "nbconvert_exporter": "python",
   "pygments_lexer": "ipython3",
   "version": "3.8.3"
  }
 },
 "nbformat": 4,
 "nbformat_minor": 4
}
